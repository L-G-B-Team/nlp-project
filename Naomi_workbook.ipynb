{
 "cells": [
  {
   "cell_type": "code",
   "execution_count": 1,
   "id": "110156c9",
   "metadata": {},
   "outputs": [],
   "source": [
    "# le basics\n",
    "import matplotlib.pyplot as plt\n",
    "import seaborn as sns\n",
    "import pandas as pd\n",
    "from time import strftime\n",
    "\n",
    "# le mon creation\n",
    "import env\n",
    "import acquire as a\n",
    "import prepare as p\n",
    "import explore as e\n",
    "from pprint import pprint\n",
    "\n",
    "# for text digestion\n",
    "import unicodedata\n",
    "import re\n",
    "import json\n",
    "from bs4 import BeautifulSoup\n",
    "\n",
    "# nltk: natural language toolkit -> tokenization, stopwords\n",
    "import nltk\n",
    "from nltk.tokenize.toktok import ToktokTokenizer\n",
    "from nltk.corpus import stopwords\n",
    "\n",
    "# what's cookin', good lookin'?\n",
    "import warnings\n",
    "warnings.filterwarnings('ignore')"
   ]
  },
  {
   "cell_type": "code",
   "execution_count": 2,
   "id": "273af03b",
   "metadata": {},
   "outputs": [],
   "source": [
    "df = a.acquire_readmes()"
   ]
  },
  {
   "cell_type": "code",
   "execution_count": 3,
   "id": "aadbabad",
   "metadata": {},
   "outputs": [
    {
     "data": {
      "text/html": [
       "<div>\n",
       "<style scoped>\n",
       "    .dataframe tbody tr th:only-of-type {\n",
       "        vertical-align: middle;\n",
       "    }\n",
       "\n",
       "    .dataframe tbody tr th {\n",
       "        vertical-align: top;\n",
       "    }\n",
       "\n",
       "    .dataframe thead th {\n",
       "        text-align: right;\n",
       "    }\n",
       "</style>\n",
       "<table border=\"1\" class=\"dataframe\">\n",
       "  <thead>\n",
       "    <tr style=\"text-align: right;\">\n",
       "      <th></th>\n",
       "      <th>repo</th>\n",
       "      <th>language</th>\n",
       "      <th>readme_contents</th>\n",
       "    </tr>\n",
       "  </thead>\n",
       "  <tbody>\n",
       "    <tr>\n",
       "      <th>0</th>\n",
       "      <td>microsoft/terminal</td>\n",
       "      <td>C++</td>\n",
       "      <td>![terminal-logos](https://user-images.githubus...</td>\n",
       "    </tr>\n",
       "    <tr>\n",
       "      <th>1</th>\n",
       "      <td>microsoft/PowerToys</td>\n",
       "      <td>C#</td>\n",
       "      <td># Microsoft PowerToys\\n\\n![Hero image for Micr...</td>\n",
       "    </tr>\n",
       "    <tr>\n",
       "      <th>2</th>\n",
       "      <td>huggingface/transformers</td>\n",
       "      <td>Python</td>\n",
       "      <td>&lt;!---\\nCopyright 2020 The HuggingFace Team. Al...</td>\n",
       "    </tr>\n",
       "    <tr>\n",
       "      <th>3</th>\n",
       "      <td>rust-lang/rust</td>\n",
       "      <td>Rust</td>\n",
       "      <td># The Rust Programming Language\\n\\nThis is the...</td>\n",
       "    </tr>\n",
       "    <tr>\n",
       "      <th>4</th>\n",
       "      <td>mtdvio/every-programmer-should-know</td>\n",
       "      <td>NaN</td>\n",
       "      <td>&gt; *[Join our community](https://metadevelopmen...</td>\n",
       "    </tr>\n",
       "  </tbody>\n",
       "</table>\n",
       "</div>"
      ],
      "text/plain": [
       "                                  repo language  \\\n",
       "0                   microsoft/terminal      C++   \n",
       "1                  microsoft/PowerToys       C#   \n",
       "2             huggingface/transformers   Python   \n",
       "3                       rust-lang/rust     Rust   \n",
       "4  mtdvio/every-programmer-should-know      NaN   \n",
       "\n",
       "                                     readme_contents  \n",
       "0  ![terminal-logos](https://user-images.githubus...  \n",
       "1  # Microsoft PowerToys\\n\\n![Hero image for Micr...  \n",
       "2  <!---\\nCopyright 2020 The HuggingFace Team. Al...  \n",
       "3  # The Rust Programming Language\\n\\nThis is the...  \n",
       "4  > *[Join our community](https://metadevelopmen...  "
      ]
     },
     "execution_count": 3,
     "metadata": {},
     "output_type": "execute_result"
    }
   ],
   "source": [
    "df.head()"
   ]
  },
  {
   "cell_type": "code",
   "execution_count": 4,
   "id": "8d7a5573",
   "metadata": {},
   "outputs": [
    {
     "data": {
      "text/plain": [
       "(683, 3)"
      ]
     },
     "execution_count": 4,
     "metadata": {},
     "output_type": "execute_result"
    }
   ],
   "source": [
    "df.shape"
   ]
  },
  {
   "cell_type": "code",
   "execution_count": 5,
   "id": "f935d569",
   "metadata": {},
   "outputs": [],
   "source": [
    "df = df.dropna(subset=['language'])"
   ]
  },
  {
   "cell_type": "code",
   "execution_count": 6,
   "id": "544c9e8b",
   "metadata": {},
   "outputs": [
    {
     "data": {
      "text/plain": [
       "(619, 3)"
      ]
     },
     "execution_count": 6,
     "metadata": {},
     "output_type": "execute_result"
    }
   ],
   "source": [
    "df.shape"
   ]
  },
  {
   "cell_type": "code",
   "execution_count": 7,
   "id": "7f948dd3",
   "metadata": {},
   "outputs": [
    {
     "name": "stdout",
     "output_type": "stream",
     "text": [
      "<class 'pandas.core.frame.DataFrame'>\n",
      "Int64Index: 619 entries, 0 to 682\n",
      "Data columns (total 3 columns):\n",
      " #   Column           Non-Null Count  Dtype \n",
      "---  ------           --------------  ----- \n",
      " 0   repo             619 non-null    object\n",
      " 1   language         619 non-null    object\n",
      " 2   readme_contents  617 non-null    object\n",
      "dtypes: object(3)\n",
      "memory usage: 19.3+ KB\n"
     ]
    }
   ],
   "source": [
    "df.info()"
   ]
  },
  {
   "cell_type": "code",
   "execution_count": 8,
   "id": "f7c5aee0",
   "metadata": {},
   "outputs": [
    {
     "data": {
      "text/html": [
       "<div>\n",
       "<style scoped>\n",
       "    .dataframe tbody tr th:only-of-type {\n",
       "        vertical-align: middle;\n",
       "    }\n",
       "\n",
       "    .dataframe tbody tr th {\n",
       "        vertical-align: top;\n",
       "    }\n",
       "\n",
       "    .dataframe thead th {\n",
       "        text-align: right;\n",
       "    }\n",
       "</style>\n",
       "<table border=\"1\" class=\"dataframe\">\n",
       "  <thead>\n",
       "    <tr style=\"text-align: right;\">\n",
       "      <th></th>\n",
       "      <th>repo</th>\n",
       "      <th>language</th>\n",
       "      <th>readme_contents</th>\n",
       "    </tr>\n",
       "  </thead>\n",
       "  <tbody>\n",
       "    <tr>\n",
       "      <th>253</th>\n",
       "      <td>harness/drone</td>\n",
       "      <td>Go</td>\n",
       "      <td>NaN</td>\n",
       "    </tr>\n",
       "    <tr>\n",
       "      <th>303</th>\n",
       "      <td>gofiber/fiber</td>\n",
       "      <td>Go</td>\n",
       "      <td>NaN</td>\n",
       "    </tr>\n",
       "  </tbody>\n",
       "</table>\n",
       "</div>"
      ],
      "text/plain": [
       "              repo language readme_contents\n",
       "253  harness/drone       Go             NaN\n",
       "303  gofiber/fiber       Go             NaN"
      ]
     },
     "execution_count": 8,
     "metadata": {},
     "output_type": "execute_result"
    }
   ],
   "source": [
    "df[df.readme_contents.isnull()]"
   ]
  },
  {
   "cell_type": "code",
   "execution_count": 9,
   "id": "36f7fa7f",
   "metadata": {},
   "outputs": [],
   "source": [
    "df = df.drop_duplicates()"
   ]
  },
  {
   "cell_type": "code",
   "execution_count": 10,
   "id": "622f7677",
   "metadata": {},
   "outputs": [
    {
     "data": {
      "text/plain": [
       "(619, 3)"
      ]
     },
     "execution_count": 10,
     "metadata": {},
     "output_type": "execute_result"
    }
   ],
   "source": [
    "df.shape"
   ]
  },
  {
   "cell_type": "code",
   "execution_count": 11,
   "id": "8df2ac84",
   "metadata": {},
   "outputs": [
    {
     "data": {
      "text/html": [
       "<div>\n",
       "<style scoped>\n",
       "    .dataframe tbody tr th:only-of-type {\n",
       "        vertical-align: middle;\n",
       "    }\n",
       "\n",
       "    .dataframe tbody tr th {\n",
       "        vertical-align: top;\n",
       "    }\n",
       "\n",
       "    .dataframe thead th {\n",
       "        text-align: right;\n",
       "    }\n",
       "</style>\n",
       "<table border=\"1\" class=\"dataframe\">\n",
       "  <thead>\n",
       "    <tr style=\"text-align: right;\">\n",
       "      <th></th>\n",
       "      <th>repo</th>\n",
       "      <th>language</th>\n",
       "      <th>readme_contents</th>\n",
       "    </tr>\n",
       "  </thead>\n",
       "  <tbody>\n",
       "    <tr>\n",
       "      <th>0</th>\n",
       "      <td>microsoft/terminal</td>\n",
       "      <td>C++</td>\n",
       "      <td>![terminal-logos](https://user-images.githubus...</td>\n",
       "    </tr>\n",
       "    <tr>\n",
       "      <th>1</th>\n",
       "      <td>microsoft/PowerToys</td>\n",
       "      <td>C#</td>\n",
       "      <td># Microsoft PowerToys\\n\\n![Hero image for Micr...</td>\n",
       "    </tr>\n",
       "    <tr>\n",
       "      <th>2</th>\n",
       "      <td>huggingface/transformers</td>\n",
       "      <td>Python</td>\n",
       "      <td>&lt;!---\\nCopyright 2020 The HuggingFace Team. Al...</td>\n",
       "    </tr>\n",
       "    <tr>\n",
       "      <th>3</th>\n",
       "      <td>rust-lang/rust</td>\n",
       "      <td>Rust</td>\n",
       "      <td># The Rust Programming Language\\n\\nThis is the...</td>\n",
       "    </tr>\n",
       "    <tr>\n",
       "      <th>5</th>\n",
       "      <td>opencv/opencv</td>\n",
       "      <td>C++</td>\n",
       "      <td>## OpenCV: Open Source Computer Vision Library...</td>\n",
       "    </tr>\n",
       "    <tr>\n",
       "      <th>6</th>\n",
       "      <td>ripienaar/free-for-dev</td>\n",
       "      <td>HTML</td>\n",
       "      <td># free-for.dev\\n\\nDevelopers and Open Source a...</td>\n",
       "    </tr>\n",
       "    <tr>\n",
       "      <th>7</th>\n",
       "      <td>gohugoio/hugo</td>\n",
       "      <td>Go</td>\n",
       "      <td>&lt;a href=\"https://gohugo.io/\"&gt;&lt;img src=\"https:/...</td>\n",
       "    </tr>\n",
       "    <tr>\n",
       "      <th>8</th>\n",
       "      <td>microsoft/Web-Dev-For-Beginners</td>\n",
       "      <td>JavaScript</td>\n",
       "      <td>[![GitHub license](https://img.shields.io/gith...</td>\n",
       "    </tr>\n",
       "    <tr>\n",
       "      <th>9</th>\n",
       "      <td>webpack/webpack</td>\n",
       "      <td>JavaScript</td>\n",
       "      <td>&lt;div align=\"center\"&gt;\\n  &lt;a href=\"https://githu...</td>\n",
       "    </tr>\n",
       "    <tr>\n",
       "      <th>10</th>\n",
       "      <td>videojs/video.js</td>\n",
       "      <td>JavaScript</td>\n",
       "      <td>![Video.js logo][logo]\\n\\n# [Video.js - HTML5 ...</td>\n",
       "    </tr>\n",
       "    <tr>\n",
       "      <th>11</th>\n",
       "      <td>jeecgboot/jeecg-boot</td>\n",
       "      <td>Java</td>\n",
       "      <td>\\n\\n![JEECG](https://jeecgos.oss-cn-beijing.al...</td>\n",
       "    </tr>\n",
       "    <tr>\n",
       "      <th>12</th>\n",
       "      <td>dylanaraps/pure-bash-bible</td>\n",
       "      <td>Shell</td>\n",
       "      <td>&lt;p align=\"center\"&gt;&lt;b&gt;NEW: &lt;a href=\"https://git...</td>\n",
       "    </tr>\n",
       "    <tr>\n",
       "      <th>13</th>\n",
       "      <td>gulpjs/gulp</td>\n",
       "      <td>JavaScript</td>\n",
       "      <td>&lt;p align=\"center\"&gt;\\n  &lt;a href=\"https://gulpjs....</td>\n",
       "    </tr>\n",
       "    <tr>\n",
       "      <th>14</th>\n",
       "      <td>iamadamdev/bypass-paywalls-chrome</td>\n",
       "      <td>JavaScript</td>\n",
       "      <td>&lt;p align=\"center\"&gt;\\n  &lt;img src=\"https://github...</td>\n",
       "    </tr>\n",
       "    <tr>\n",
       "      <th>15</th>\n",
       "      <td>starship/starship</td>\n",
       "      <td>Rust</td>\n",
       "      <td>&lt;p align=\"center\"&gt;\\n  &lt;img\\n    width=\"400\"\\n ...</td>\n",
       "    </tr>\n",
       "    <tr>\n",
       "      <th>16</th>\n",
       "      <td>XX-net/XX-Net</td>\n",
       "      <td>Python</td>\n",
       "      <td># XX-Net (翻墙VPN)\\n* 靠谱的翻墙工具  \\n* 连续6年可靠工作\\n* 高...</td>\n",
       "    </tr>\n",
       "    <tr>\n",
       "      <th>17</th>\n",
       "      <td>topjohnwu/Magisk</td>\n",
       "      <td>C++</td>\n",
       "      <td>![](docs/images/logo.png)\\n\\n[![Downloads](htt...</td>\n",
       "    </tr>\n",
       "    <tr>\n",
       "      <th>19</th>\n",
       "      <td>go-gorm/gorm</td>\n",
       "      <td>Go</td>\n",
       "      <td># GORM\\n\\nThe fantastic ORM library for Golang...</td>\n",
       "    </tr>\n",
       "    <tr>\n",
       "      <th>20</th>\n",
       "      <td>meteor/meteor</td>\n",
       "      <td>JavaScript</td>\n",
       "      <td>&lt;div align=\"center\"&gt;\\n  &lt;a href=\"https://www.m...</td>\n",
       "    </tr>\n",
       "    <tr>\n",
       "      <th>21</th>\n",
       "      <td>DefinitelyTyped/DefinitelyTyped</td>\n",
       "      <td>TypeScript</td>\n",
       "      <td># Definitely Typed [![Build Status](https://tr...</td>\n",
       "    </tr>\n",
       "  </tbody>\n",
       "</table>\n",
       "</div>"
      ],
      "text/plain": [
       "                                 repo    language  \\\n",
       "0                  microsoft/terminal         C++   \n",
       "1                 microsoft/PowerToys          C#   \n",
       "2            huggingface/transformers      Python   \n",
       "3                      rust-lang/rust        Rust   \n",
       "5                       opencv/opencv         C++   \n",
       "6              ripienaar/free-for-dev        HTML   \n",
       "7                       gohugoio/hugo          Go   \n",
       "8     microsoft/Web-Dev-For-Beginners  JavaScript   \n",
       "9                     webpack/webpack  JavaScript   \n",
       "10                   videojs/video.js  JavaScript   \n",
       "11               jeecgboot/jeecg-boot        Java   \n",
       "12         dylanaraps/pure-bash-bible       Shell   \n",
       "13                        gulpjs/gulp  JavaScript   \n",
       "14  iamadamdev/bypass-paywalls-chrome  JavaScript   \n",
       "15                  starship/starship        Rust   \n",
       "16                      XX-net/XX-Net      Python   \n",
       "17                   topjohnwu/Magisk         C++   \n",
       "19                       go-gorm/gorm          Go   \n",
       "20                      meteor/meteor  JavaScript   \n",
       "21    DefinitelyTyped/DefinitelyTyped  TypeScript   \n",
       "\n",
       "                                      readme_contents  \n",
       "0   ![terminal-logos](https://user-images.githubus...  \n",
       "1   # Microsoft PowerToys\\n\\n![Hero image for Micr...  \n",
       "2   <!---\\nCopyright 2020 The HuggingFace Team. Al...  \n",
       "3   # The Rust Programming Language\\n\\nThis is the...  \n",
       "5   ## OpenCV: Open Source Computer Vision Library...  \n",
       "6   # free-for.dev\\n\\nDevelopers and Open Source a...  \n",
       "7   <a href=\"https://gohugo.io/\"><img src=\"https:/...  \n",
       "8   [![GitHub license](https://img.shields.io/gith...  \n",
       "9   <div align=\"center\">\\n  <a href=\"https://githu...  \n",
       "10  ![Video.js logo][logo]\\n\\n# [Video.js - HTML5 ...  \n",
       "11  \\n\\n![JEECG](https://jeecgos.oss-cn-beijing.al...  \n",
       "12  <p align=\"center\"><b>NEW: <a href=\"https://git...  \n",
       "13  <p align=\"center\">\\n  <a href=\"https://gulpjs....  \n",
       "14  <p align=\"center\">\\n  <img src=\"https://github...  \n",
       "15  <p align=\"center\">\\n  <img\\n    width=\"400\"\\n ...  \n",
       "16  # XX-Net (翻墙VPN)\\n* 靠谱的翻墙工具  \\n* 连续6年可靠工作\\n* 高...  \n",
       "17  ![](docs/images/logo.png)\\n\\n[![Downloads](htt...  \n",
       "19  # GORM\\n\\nThe fantastic ORM library for Golang...  \n",
       "20  <div align=\"center\">\\n  <a href=\"https://www.m...  \n",
       "21  # Definitely Typed [![Build Status](https://tr...  "
      ]
     },
     "execution_count": 11,
     "metadata": {},
     "output_type": "execute_result"
    }
   ],
   "source": [
    "df.head(20)"
   ]
  },
  {
   "cell_type": "code",
   "execution_count": 12,
   "id": "f6d623bf",
   "metadata": {},
   "outputs": [
    {
     "data": {
      "text/plain": [
       "JavaScript          145\n",
       "Python               72\n",
       "TypeScript           61\n",
       "Go                   59\n",
       "Java                 56\n",
       "C++                  32\n",
       "Objective-C          20\n",
       "C                    19\n",
       "Rust                 18\n",
       "HTML                 17\n",
       "Swift                15\n",
       "Jupyter Notebook     13\n",
       "PHP                  12\n",
       "Ruby                 10\n",
       "Shell                 8\n",
       "C#                    8\n",
       "Vue                   7\n",
       "CSS                   7\n",
       "Kotlin                5\n",
       "Vim script            3\n",
       "CoffeeScript          3\n",
       "Clojure               2\n",
       "PowerShell            2\n",
       "Dart                  2\n",
       "Batchfile             2\n",
       "Vim Script            2\n",
       "Markdown              2\n",
       "SCSS                  2\n",
       "TeX                   2\n",
       "Emacs Lisp            1\n",
       "Less                  1\n",
       "Svelte                1\n",
       "Assembly              1\n",
       "CMake                 1\n",
       "Haskell               1\n",
       "Mustache              1\n",
       "Lua                   1\n",
       "Astro                 1\n",
       "Elixir                1\n",
       "VimL                  1\n",
       "Jinja                 1\n",
       "WebAssembly           1\n",
       "Name: language, dtype: int64"
      ]
     },
     "execution_count": 12,
     "metadata": {},
     "output_type": "execute_result"
    }
   ],
   "source": [
    "df.language.value_counts()"
   ]
  },
  {
   "cell_type": "code",
   "execution_count": 13,
   "id": "b9820c90",
   "metadata": {},
   "outputs": [],
   "source": [
    "df.readme_contents = df.readme_contents.astype('str')\n",
    "df = p.prep_df_for_nlp(df,'readme_contents',extra_words=[],exclude_words=[])"
   ]
  },
  {
   "cell_type": "code",
   "execution_count": 14,
   "id": "17a6ba6e",
   "metadata": {},
   "outputs": [
    {
     "data": {
      "text/html": [
       "<div>\n",
       "<style scoped>\n",
       "    .dataframe tbody tr th:only-of-type {\n",
       "        vertical-align: middle;\n",
       "    }\n",
       "\n",
       "    .dataframe tbody tr th {\n",
       "        vertical-align: top;\n",
       "    }\n",
       "\n",
       "    .dataframe thead th {\n",
       "        text-align: right;\n",
       "    }\n",
       "</style>\n",
       "<table border=\"1\" class=\"dataframe\">\n",
       "  <thead>\n",
       "    <tr style=\"text-align: right;\">\n",
       "      <th></th>\n",
       "      <th>repo</th>\n",
       "      <th>language</th>\n",
       "      <th>readme_contents</th>\n",
       "      <th>clean</th>\n",
       "      <th>stem</th>\n",
       "      <th>lemmatized</th>\n",
       "    </tr>\n",
       "  </thead>\n",
       "  <tbody>\n",
       "    <tr>\n",
       "      <th>0</th>\n",
       "      <td>microsoft/terminal</td>\n",
       "      <td>Other</td>\n",
       "      <td>![terminal-logos](https://user-images.githubus...</td>\n",
       "      <td>terminallogoshttpsuserimagesgithubusercontentc...</td>\n",
       "      <td>terminallogoshttpsuserimagesgithubusercontentc...</td>\n",
       "      <td>terminallogoshttpsuserimagesgithubusercontentc...</td>\n",
       "    </tr>\n",
       "    <tr>\n",
       "      <th>1</th>\n",
       "      <td>microsoft/PowerToys</td>\n",
       "      <td>Other</td>\n",
       "      <td># Microsoft PowerToys\\n\\n![Hero image for Micr...</td>\n",
       "      <td>microsoft powertoys hero image microsoft power...</td>\n",
       "      <td>microsoft powertoy hero imag microsoft powerto...</td>\n",
       "      <td>microsoft powertoys hero image microsoft power...</td>\n",
       "    </tr>\n",
       "    <tr>\n",
       "      <th>2</th>\n",
       "      <td>huggingface/transformers</td>\n",
       "      <td>Python</td>\n",
       "      <td>&lt;!---\\nCopyright 2020 The HuggingFace Team. Al...</td>\n",
       "      <td>copyright 2020 huggingface team rights reserve...</td>\n",
       "      <td>copyright 2020 huggingfac team right reserv li...</td>\n",
       "      <td>copyright 2020 huggingface team right reserved...</td>\n",
       "    </tr>\n",
       "    <tr>\n",
       "      <th>3</th>\n",
       "      <td>rust-lang/rust</td>\n",
       "      <td>Other</td>\n",
       "      <td># The Rust Programming Language\\n\\nThis is the...</td>\n",
       "      <td>rust programming language main source code rep...</td>\n",
       "      <td>rust program languag main sourc code repositor...</td>\n",
       "      <td>rust programming language main source code rep...</td>\n",
       "    </tr>\n",
       "    <tr>\n",
       "      <th>5</th>\n",
       "      <td>opencv/opencv</td>\n",
       "      <td>Other</td>\n",
       "      <td>## OpenCV: Open Source Computer Vision Library...</td>\n",
       "      <td>opencv open source computer vision library res...</td>\n",
       "      <td>opencv open sourc comput vision librari resour...</td>\n",
       "      <td>opencv open source computer vision library res...</td>\n",
       "    </tr>\n",
       "  </tbody>\n",
       "</table>\n",
       "</div>"
      ],
      "text/plain": [
       "                       repo language  \\\n",
       "0        microsoft/terminal    Other   \n",
       "1       microsoft/PowerToys    Other   \n",
       "2  huggingface/transformers   Python   \n",
       "3            rust-lang/rust    Other   \n",
       "5             opencv/opencv    Other   \n",
       "\n",
       "                                     readme_contents  \\\n",
       "0  ![terminal-logos](https://user-images.githubus...   \n",
       "1  # Microsoft PowerToys\\n\\n![Hero image for Micr...   \n",
       "2  <!---\\nCopyright 2020 The HuggingFace Team. Al...   \n",
       "3  # The Rust Programming Language\\n\\nThis is the...   \n",
       "5  ## OpenCV: Open Source Computer Vision Library...   \n",
       "\n",
       "                                               clean  \\\n",
       "0  terminallogoshttpsuserimagesgithubusercontentc...   \n",
       "1  microsoft powertoys hero image microsoft power...   \n",
       "2  copyright 2020 huggingface team rights reserve...   \n",
       "3  rust programming language main source code rep...   \n",
       "5  opencv open source computer vision library res...   \n",
       "\n",
       "                                                stem  \\\n",
       "0  terminallogoshttpsuserimagesgithubusercontentc...   \n",
       "1  microsoft powertoy hero imag microsoft powerto...   \n",
       "2  copyright 2020 huggingfac team right reserv li...   \n",
       "3  rust program languag main sourc code repositor...   \n",
       "5  opencv open sourc comput vision librari resour...   \n",
       "\n",
       "                                          lemmatized  \n",
       "0  terminallogoshttpsuserimagesgithubusercontentc...  \n",
       "1  microsoft powertoys hero image microsoft power...  \n",
       "2  copyright 2020 huggingface team right reserved...  \n",
       "3  rust programming language main source code rep...  \n",
       "5  opencv open source computer vision library res...  "
      ]
     },
     "execution_count": 14,
     "metadata": {},
     "output_type": "execute_result"
    }
   ],
   "source": [
    "df.head()"
   ]
  },
  {
   "cell_type": "code",
   "execution_count": 15,
   "id": "1ad5b4e3",
   "metadata": {
    "scrolled": true
   },
   "outputs": [
    {
     "data": {
      "text/plain": [
       "(619, 6)"
      ]
     },
     "execution_count": 15,
     "metadata": {},
     "output_type": "execute_result"
    }
   ],
   "source": [
    "df.shape"
   ]
  },
  {
   "cell_type": "markdown",
   "id": "5be5001b",
   "metadata": {},
   "source": [
    "# Explore based on Ryan's notebooks"
   ]
  },
  {
   "cell_type": "code",
   "execution_count": 16,
   "id": "b45c70ad",
   "metadata": {},
   "outputs": [
    {
     "data": {
      "text/html": [
       "<div>\n",
       "<style scoped>\n",
       "    .dataframe tbody tr th:only-of-type {\n",
       "        vertical-align: middle;\n",
       "    }\n",
       "\n",
       "    .dataframe tbody tr th {\n",
       "        vertical-align: top;\n",
       "    }\n",
       "\n",
       "    .dataframe thead th {\n",
       "        text-align: right;\n",
       "    }\n",
       "</style>\n",
       "<table border=\"1\" class=\"dataframe\">\n",
       "  <thead>\n",
       "    <tr style=\"text-align: right;\">\n",
       "      <th></th>\n",
       "      <th>repo</th>\n",
       "      <th>language</th>\n",
       "      <th>readme_contents</th>\n",
       "      <th>clean</th>\n",
       "      <th>stem</th>\n",
       "      <th>lemmatized</th>\n",
       "    </tr>\n",
       "  </thead>\n",
       "  <tbody>\n",
       "    <tr>\n",
       "      <th>0</th>\n",
       "      <td>microsoft/terminal</td>\n",
       "      <td>Other</td>\n",
       "      <td>![terminal-logos](https://user-images.githubus...</td>\n",
       "      <td>terminallogoshttpsuserimagesgithubusercontentc...</td>\n",
       "      <td>terminallogoshttpsuserimagesgithubusercontentc...</td>\n",
       "      <td>terminallogoshttpsuserimagesgithubusercontentc...</td>\n",
       "    </tr>\n",
       "    <tr>\n",
       "      <th>1</th>\n",
       "      <td>microsoft/PowerToys</td>\n",
       "      <td>Other</td>\n",
       "      <td># Microsoft PowerToys\\n\\n![Hero image for Micr...</td>\n",
       "      <td>microsoft powertoys hero image microsoft power...</td>\n",
       "      <td>microsoft powertoy hero imag microsoft powerto...</td>\n",
       "      <td>microsoft powertoys hero image microsoft power...</td>\n",
       "    </tr>\n",
       "    <tr>\n",
       "      <th>2</th>\n",
       "      <td>huggingface/transformers</td>\n",
       "      <td>Python</td>\n",
       "      <td>&lt;!---\\nCopyright 2020 The HuggingFace Team. Al...</td>\n",
       "      <td>copyright 2020 huggingface team rights reserve...</td>\n",
       "      <td>copyright 2020 huggingfac team right reserv li...</td>\n",
       "      <td>copyright 2020 huggingface team right reserved...</td>\n",
       "    </tr>\n",
       "    <tr>\n",
       "      <th>3</th>\n",
       "      <td>rust-lang/rust</td>\n",
       "      <td>Other</td>\n",
       "      <td># The Rust Programming Language\\n\\nThis is the...</td>\n",
       "      <td>rust programming language main source code rep...</td>\n",
       "      <td>rust program languag main sourc code repositor...</td>\n",
       "      <td>rust programming language main source code rep...</td>\n",
       "    </tr>\n",
       "    <tr>\n",
       "      <th>5</th>\n",
       "      <td>opencv/opencv</td>\n",
       "      <td>Other</td>\n",
       "      <td>## OpenCV: Open Source Computer Vision Library...</td>\n",
       "      <td>opencv open source computer vision library res...</td>\n",
       "      <td>opencv open sourc comput vision librari resour...</td>\n",
       "      <td>opencv open source computer vision library res...</td>\n",
       "    </tr>\n",
       "  </tbody>\n",
       "</table>\n",
       "</div>"
      ],
      "text/plain": [
       "                       repo language  \\\n",
       "0        microsoft/terminal    Other   \n",
       "1       microsoft/PowerToys    Other   \n",
       "2  huggingface/transformers   Python   \n",
       "3            rust-lang/rust    Other   \n",
       "5             opencv/opencv    Other   \n",
       "\n",
       "                                     readme_contents  \\\n",
       "0  ![terminal-logos](https://user-images.githubus...   \n",
       "1  # Microsoft PowerToys\\n\\n![Hero image for Micr...   \n",
       "2  <!---\\nCopyright 2020 The HuggingFace Team. Al...   \n",
       "3  # The Rust Programming Language\\n\\nThis is the...   \n",
       "5  ## OpenCV: Open Source Computer Vision Library...   \n",
       "\n",
       "                                               clean  \\\n",
       "0  terminallogoshttpsuserimagesgithubusercontentc...   \n",
       "1  microsoft powertoys hero image microsoft power...   \n",
       "2  copyright 2020 huggingface team rights reserve...   \n",
       "3  rust programming language main source code rep...   \n",
       "5  opencv open source computer vision library res...   \n",
       "\n",
       "                                                stem  \\\n",
       "0  terminallogoshttpsuserimagesgithubusercontentc...   \n",
       "1  microsoft powertoy hero imag microsoft powerto...   \n",
       "2  copyright 2020 huggingfac team right reserv li...   \n",
       "3  rust program languag main sourc code repositor...   \n",
       "5  opencv open sourc comput vision librari resour...   \n",
       "\n",
       "                                          lemmatized  \n",
       "0  terminallogoshttpsuserimagesgithubusercontentc...  \n",
       "1  microsoft powertoys hero image microsoft power...  \n",
       "2  copyright 2020 huggingface team right reserved...  \n",
       "3  rust programming language main source code rep...  \n",
       "5  opencv open source computer vision library res...  "
      ]
     },
     "execution_count": 16,
     "metadata": {},
     "output_type": "execute_result"
    }
   ],
   "source": [
    "df.head()"
   ]
  },
  {
   "cell_type": "markdown",
   "id": "c790827c",
   "metadata": {},
   "source": [
    "# Top five languages"
   ]
  },
  {
   "cell_type": "markdown",
   "id": "b72d5c85",
   "metadata": {},
   "source": [
    "### make the following cell Code to generate language series"
   ]
  },
  {
   "cell_type": "markdown",
   "id": "292f8512",
   "metadata": {},
   "source": [
    "JavaScript_words_series = (' '.join(df[df.language == 'JavaScript']['readme_contents']))\n",
    "Python_words_series = (' '.join(df[df.language == 'Python']['readme_contents']))\n",
    "TypeScript_words_series = (' '.join(df[df.language == 'TypeScript']['readme_contents']))\n",
    "Go_words_words_series = (' '.join(df[df.language == 'Go']['readme_contents']))\n",
    "Java_words_series = (' '.join(df[df.language == 'Java']['readme_contents']))\n",
    "\n",
    "all_words_series = (' '.join(df['readme_contents']))\n"
   ]
  },
  {
   "cell_type": "code",
   "execution_count": 18,
   "id": "ed3fd724",
   "metadata": {},
   "outputs": [
    {
     "data": {
      "text/plain": [
       "Other         226\n",
       "JavaScript    145\n",
       "Python         72\n",
       "TypeScript     61\n",
       "Go             59\n",
       "Java           56\n",
       "Name: language, dtype: int64"
      ]
     },
     "execution_count": 18,
     "metadata": {},
     "output_type": "execute_result"
    }
   ],
   "source": [
    "df.language.value_counts()"
   ]
  },
  {
   "cell_type": "code",
   "execution_count": 23,
   "id": "7690560a",
   "metadata": {},
   "outputs": [
    {
     "data": {
      "text/plain": [
       "618"
      ]
     },
     "execution_count": 23,
     "metadata": {},
     "output_type": "execute_result"
    }
   ],
   "source": [
    "len(df.readme_contents.groupby(df.lemmatized).value_counts())"
   ]
  },
  {
   "cell_type": "code",
   "execution_count": 24,
   "id": "fe30f58b",
   "metadata": {},
   "outputs": [
    {
     "data": {
      "text/plain": [
       "(619, 6)"
      ]
     },
     "execution_count": 24,
     "metadata": {},
     "output_type": "execute_result"
    }
   ],
   "source": [
    "df.shape"
   ]
  },
  {
   "cell_type": "code",
   "execution_count": null,
   "id": "ab531600",
   "metadata": {},
   "outputs": [],
   "source": []
  }
 ],
 "metadata": {
  "kernelspec": {
   "display_name": "Python 3 (ipykernel)",
   "language": "python",
   "name": "python3"
  },
  "language_info": {
   "codemirror_mode": {
    "name": "ipython",
    "version": 3
   },
   "file_extension": ".py",
   "mimetype": "text/x-python",
   "name": "python",
   "nbconvert_exporter": "python",
   "pygments_lexer": "ipython3",
   "version": "3.9.12"
  }
 },
 "nbformat": 4,
 "nbformat_minor": 5
}
