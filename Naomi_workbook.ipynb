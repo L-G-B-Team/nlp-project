{
 "cells": [
  {
   "cell_type": "code",
   "execution_count": 1,
   "id": "110156c9",
   "metadata": {},
   "outputs": [],
   "source": [
    "# le basics\n",
    "import matplotlib.pyplot as plt\n",
    "import seaborn as sns\n",
    "import pandas as pd\n",
    "from time import strftime\n",
    "\n",
    "# le mon creation\n",
    "import env\n",
    "import acquire as a\n",
    "import prepare as p\n",
    "import explore as e\n",
    "from pprint import pprint\n",
    "\n",
    "# for text digestion\n",
    "import unicodedata\n",
    "import re\n",
    "import json\n",
    "from bs4 import BeautifulSoup\n",
    "\n",
    "# nltk: natural language toolkit -> tokenization, stopwords\n",
    "import nltk\n",
    "from nltk.tokenize.toktok import ToktokTokenizer\n",
    "from nltk.corpus import stopwords\n",
    "from collections import Counter\n",
    "\n",
    "from sklearn.feature_extraction.text import TfidfVectorizer\n",
    "\n",
    "\n",
    "# what's cookin', good lookin'?\n",
    "import warnings\n",
    "warnings.filterwarnings('ignore')"
   ]
  },
  {
   "cell_type": "markdown",
   "id": "e08cbcfa",
   "metadata": {},
   "source": [
    "# Acquire"
   ]
  },
  {
   "cell_type": "code",
   "execution_count": 2,
   "id": "114271bd",
   "metadata": {},
   "outputs": [],
   "source": [
    "df_acquire = a.acquire_readmes()"
   ]
  },
  {
   "cell_type": "code",
   "execution_count": 3,
   "id": "10870af7",
   "metadata": {},
   "outputs": [],
   "source": [
    "df = df_acquire.copy()"
   ]
  },
  {
   "cell_type": "code",
   "execution_count": 4,
   "id": "aadbabad",
   "metadata": {
    "scrolled": true
   },
   "outputs": [
    {
     "data": {
      "text/html": [
       "<div>\n",
       "<style scoped>\n",
       "    .dataframe tbody tr th:only-of-type {\n",
       "        vertical-align: middle;\n",
       "    }\n",
       "\n",
       "    .dataframe tbody tr th {\n",
       "        vertical-align: top;\n",
       "    }\n",
       "\n",
       "    .dataframe thead th {\n",
       "        text-align: right;\n",
       "    }\n",
       "</style>\n",
       "<table border=\"1\" class=\"dataframe\">\n",
       "  <thead>\n",
       "    <tr style=\"text-align: right;\">\n",
       "      <th></th>\n",
       "      <th>repo</th>\n",
       "      <th>language</th>\n",
       "      <th>readme_contents</th>\n",
       "    </tr>\n",
       "  </thead>\n",
       "  <tbody>\n",
       "    <tr>\n",
       "      <th>0</th>\n",
       "      <td>microsoft/terminal</td>\n",
       "      <td>C++</td>\n",
       "      <td>![terminal-logos](https://user-images.githubus...</td>\n",
       "    </tr>\n",
       "    <tr>\n",
       "      <th>1</th>\n",
       "      <td>microsoft/PowerToys</td>\n",
       "      <td>C#</td>\n",
       "      <td># Microsoft PowerToys\\n\\n![Hero image for Micr...</td>\n",
       "    </tr>\n",
       "    <tr>\n",
       "      <th>2</th>\n",
       "      <td>huggingface/transformers</td>\n",
       "      <td>Python</td>\n",
       "      <td>&lt;!---\\nCopyright 2020 The HuggingFace Team. Al...</td>\n",
       "    </tr>\n",
       "    <tr>\n",
       "      <th>3</th>\n",
       "      <td>rust-lang/rust</td>\n",
       "      <td>Rust</td>\n",
       "      <td># The Rust Programming Language\\n\\nThis is the...</td>\n",
       "    </tr>\n",
       "    <tr>\n",
       "      <th>4</th>\n",
       "      <td>mtdvio/every-programmer-should-know</td>\n",
       "      <td>NaN</td>\n",
       "      <td>&gt; *[Join our community](https://metadevelopmen...</td>\n",
       "    </tr>\n",
       "  </tbody>\n",
       "</table>\n",
       "</div>"
      ],
      "text/plain": [
       "                                  repo language  \\\n",
       "0                   microsoft/terminal      C++   \n",
       "1                  microsoft/PowerToys       C#   \n",
       "2             huggingface/transformers   Python   \n",
       "3                       rust-lang/rust     Rust   \n",
       "4  mtdvio/every-programmer-should-know      NaN   \n",
       "\n",
       "                                     readme_contents  \n",
       "0  ![terminal-logos](https://user-images.githubus...  \n",
       "1  # Microsoft PowerToys\\n\\n![Hero image for Micr...  \n",
       "2  <!---\\nCopyright 2020 The HuggingFace Team. Al...  \n",
       "3  # The Rust Programming Language\\n\\nThis is the...  \n",
       "4  > *[Join our community](https://metadevelopmen...  "
      ]
     },
     "execution_count": 4,
     "metadata": {},
     "output_type": "execute_result"
    }
   ],
   "source": [
    "df.head()"
   ]
  },
  {
   "cell_type": "code",
   "execution_count": 5,
   "id": "8d7a5573",
   "metadata": {},
   "outputs": [
    {
     "data": {
      "text/plain": [
       "(683, 3)"
      ]
     },
     "execution_count": 5,
     "metadata": {},
     "output_type": "execute_result"
    }
   ],
   "source": [
    "df.shape"
   ]
  },
  {
   "cell_type": "code",
   "execution_count": 6,
   "id": "7f948dd3",
   "metadata": {},
   "outputs": [
    {
     "name": "stdout",
     "output_type": "stream",
     "text": [
      "<class 'pandas.core.frame.DataFrame'>\n",
      "Int64Index: 683 entries, 0 to 682\n",
      "Data columns (total 3 columns):\n",
      " #   Column           Non-Null Count  Dtype \n",
      "---  ------           --------------  ----- \n",
      " 0   repo             683 non-null    object\n",
      " 1   language         619 non-null    object\n",
      " 2   readme_contents  681 non-null    object\n",
      "dtypes: object(3)\n",
      "memory usage: 21.3+ KB\n"
     ]
    }
   ],
   "source": [
    "df.info()"
   ]
  },
  {
   "cell_type": "markdown",
   "id": "a4bf82a9",
   "metadata": {},
   "source": [
    "# Prepare"
   ]
  },
  {
   "cell_type": "code",
   "execution_count": 7,
   "id": "20ccc64f",
   "metadata": {},
   "outputs": [],
   "source": [
    "df_prepare = p.prep_df_for_nlp(df, 'readme_contents', extra_words = p.EXTRA_WORDS)"
   ]
  },
  {
   "cell_type": "code",
   "execution_count": 8,
   "id": "60976050",
   "metadata": {},
   "outputs": [],
   "source": [
    "df = df_prepare.copy()"
   ]
  },
  {
   "cell_type": "code",
   "execution_count": 9,
   "id": "5c77b9bd",
   "metadata": {},
   "outputs": [
    {
     "data": {
      "text/plain": [
       "(683, 8)"
      ]
     },
     "execution_count": 9,
     "metadata": {},
     "output_type": "execute_result"
    }
   ],
   "source": [
    "df.shape"
   ]
  },
  {
   "cell_type": "code",
   "execution_count": 10,
   "id": "2ae07aed",
   "metadata": {
    "scrolled": true
   },
   "outputs": [
    {
     "data": {
      "text/html": [
       "<div>\n",
       "<style scoped>\n",
       "    .dataframe tbody tr th:only-of-type {\n",
       "        vertical-align: middle;\n",
       "    }\n",
       "\n",
       "    .dataframe tbody tr th {\n",
       "        vertical-align: top;\n",
       "    }\n",
       "\n",
       "    .dataframe thead th {\n",
       "        text-align: right;\n",
       "    }\n",
       "</style>\n",
       "<table border=\"1\" class=\"dataframe\">\n",
       "  <thead>\n",
       "    <tr style=\"text-align: right;\">\n",
       "      <th></th>\n",
       "      <th>repo</th>\n",
       "      <th>language</th>\n",
       "      <th>readme_contents</th>\n",
       "      <th>clean</th>\n",
       "      <th>stem</th>\n",
       "      <th>lemmatized</th>\n",
       "      <th>username</th>\n",
       "      <th>lemmatized_len</th>\n",
       "    </tr>\n",
       "  </thead>\n",
       "  <tbody>\n",
       "    <tr>\n",
       "      <th>0</th>\n",
       "      <td>terminal</td>\n",
       "      <td>Other</td>\n",
       "      <td>![terminal-logos](https://user-images.githubus...</td>\n",
       "      <td>terminallogoshttpsuserimagesgithubusercontentc...</td>\n",
       "      <td>terminallogoshttpsuserimagesgithubusercontentc...</td>\n",
       "      <td>terminallogoshttpsuserimagesgithubusercontentc...</td>\n",
       "      <td>microsoft</td>\n",
       "      <td>11128</td>\n",
       "    </tr>\n",
       "    <tr>\n",
       "      <th>1</th>\n",
       "      <td>PowerToys</td>\n",
       "      <td>Other</td>\n",
       "      <td># Microsoft PowerToys\\n\\n![Hero image for Micr...</td>\n",
       "      <td>microsoft powertoys hero microsoft powertoysdo...</td>\n",
       "      <td>microsoft powertoy hero microsoft powertoysdoc...</td>\n",
       "      <td>microsoft powertoys hero microsoft powertoysdo...</td>\n",
       "      <td>microsoft</td>\n",
       "      <td>9707</td>\n",
       "    </tr>\n",
       "    <tr>\n",
       "      <th>2</th>\n",
       "      <td>transformers</td>\n",
       "      <td>Python</td>\n",
       "      <td>&lt;!---\\nCopyright 2020 The HuggingFace Team. Al...</td>\n",
       "      <td>copyright 2020 huggingface team rights reserve...</td>\n",
       "      <td>copyright 2020 huggingfac team right reserv li...</td>\n",
       "      <td>copyright 2020 huggingface team right reserved...</td>\n",
       "      <td>huggingface</td>\n",
       "      <td>58996</td>\n",
       "    </tr>\n",
       "    <tr>\n",
       "      <th>3</th>\n",
       "      <td>rust</td>\n",
       "      <td>Other</td>\n",
       "      <td># The Rust Programming Language\\n\\nThis is the...</td>\n",
       "      <td>rust programming language main source code rep...</td>\n",
       "      <td>rust program languag main sourc code repositor...</td>\n",
       "      <td>rust programming language main source code rep...</td>\n",
       "      <td>rust-lang</td>\n",
       "      <td>6474</td>\n",
       "    </tr>\n",
       "    <tr>\n",
       "      <th>4</th>\n",
       "      <td>every-programmer-should-know</td>\n",
       "      <td>Not Listed</td>\n",
       "      <td>&gt; *[Join our community](https://metadevelopmen...</td>\n",
       "      <td>join communityhttpsmetadevelopmentio professio...</td>\n",
       "      <td>join communityhttpsmetadevelopmentio professio...</td>\n",
       "      <td>join communityhttpsmetadevelopmentio professio...</td>\n",
       "      <td>mtdvio</td>\n",
       "      <td>13700</td>\n",
       "    </tr>\n",
       "  </tbody>\n",
       "</table>\n",
       "</div>"
      ],
      "text/plain": [
       "                           repo    language  \\\n",
       "0                      terminal       Other   \n",
       "1                     PowerToys       Other   \n",
       "2                  transformers      Python   \n",
       "3                          rust       Other   \n",
       "4  every-programmer-should-know  Not Listed   \n",
       "\n",
       "                                     readme_contents  \\\n",
       "0  ![terminal-logos](https://user-images.githubus...   \n",
       "1  # Microsoft PowerToys\\n\\n![Hero image for Micr...   \n",
       "2  <!---\\nCopyright 2020 The HuggingFace Team. Al...   \n",
       "3  # The Rust Programming Language\\n\\nThis is the...   \n",
       "4  > *[Join our community](https://metadevelopmen...   \n",
       "\n",
       "                                               clean  \\\n",
       "0  terminallogoshttpsuserimagesgithubusercontentc...   \n",
       "1  microsoft powertoys hero microsoft powertoysdo...   \n",
       "2  copyright 2020 huggingface team rights reserve...   \n",
       "3  rust programming language main source code rep...   \n",
       "4  join communityhttpsmetadevelopmentio professio...   \n",
       "\n",
       "                                                stem  \\\n",
       "0  terminallogoshttpsuserimagesgithubusercontentc...   \n",
       "1  microsoft powertoy hero microsoft powertoysdoc...   \n",
       "2  copyright 2020 huggingfac team right reserv li...   \n",
       "3  rust program languag main sourc code repositor...   \n",
       "4  join communityhttpsmetadevelopmentio professio...   \n",
       "\n",
       "                                          lemmatized     username  \\\n",
       "0  terminallogoshttpsuserimagesgithubusercontentc...    microsoft   \n",
       "1  microsoft powertoys hero microsoft powertoysdo...    microsoft   \n",
       "2  copyright 2020 huggingface team right reserved...  huggingface   \n",
       "3  rust programming language main source code rep...    rust-lang   \n",
       "4  join communityhttpsmetadevelopmentio professio...       mtdvio   \n",
       "\n",
       "   lemmatized_len  \n",
       "0           11128  \n",
       "1            9707  \n",
       "2           58996  \n",
       "3            6474  \n",
       "4           13700  "
      ]
     },
     "execution_count": 10,
     "metadata": {},
     "output_type": "execute_result"
    }
   ],
   "source": [
    "df.head()"
   ]
  },
  {
   "cell_type": "code",
   "execution_count": 11,
   "id": "78fc5ba9",
   "metadata": {},
   "outputs": [
    {
     "name": "stdout",
     "output_type": "stream",
     "text": [
      "<class 'pandas.core.frame.DataFrame'>\n",
      "Int64Index: 683 entries, 0 to 682\n",
      "Data columns (total 8 columns):\n",
      " #   Column           Non-Null Count  Dtype   \n",
      "---  ------           --------------  -----   \n",
      " 0   repo             683 non-null    object  \n",
      " 1   language         683 non-null    category\n",
      " 2   readme_contents  683 non-null    object  \n",
      " 3   clean            683 non-null    object  \n",
      " 4   stem             683 non-null    object  \n",
      " 5   lemmatized       683 non-null    object  \n",
      " 6   username         683 non-null    object  \n",
      " 7   lemmatized_len   683 non-null    int64   \n",
      "dtypes: category(1), int64(1), object(6)\n",
      "memory usage: 43.7+ KB\n"
     ]
    }
   ],
   "source": [
    "df.info()"
   ]
  },
  {
   "cell_type": "code",
   "execution_count": 12,
   "id": "51d1d1bd",
   "metadata": {},
   "outputs": [],
   "source": [
    "train, validate, test = p.split_data(df, 'language')"
   ]
  },
  {
   "cell_type": "code",
   "execution_count": 13,
   "id": "e2db066d",
   "metadata": {},
   "outputs": [],
   "source": [
    "df = train.copy()"
   ]
  },
  {
   "cell_type": "code",
   "execution_count": 14,
   "id": "c8ac8128",
   "metadata": {},
   "outputs": [],
   "source": [
    "df.index = range(len(df.index))"
   ]
  },
  {
   "cell_type": "code",
   "execution_count": 15,
   "id": "68d9fe30",
   "metadata": {},
   "outputs": [
    {
     "name": "stdout",
     "output_type": "stream",
     "text": [
      "<class 'pandas.core.frame.DataFrame'>\n",
      "RangeIndex: 443 entries, 0 to 442\n",
      "Data columns (total 8 columns):\n",
      " #   Column           Non-Null Count  Dtype   \n",
      "---  ------           --------------  -----   \n",
      " 0   repo             443 non-null    object  \n",
      " 1   language         443 non-null    category\n",
      " 2   readme_contents  443 non-null    object  \n",
      " 3   clean            443 non-null    object  \n",
      " 4   stem             443 non-null    object  \n",
      " 5   lemmatized       443 non-null    object  \n",
      " 6   username         443 non-null    object  \n",
      " 7   lemmatized_len   443 non-null    int64   \n",
      "dtypes: category(1), int64(1), object(6)\n",
      "memory usage: 25.1+ KB\n"
     ]
    }
   ],
   "source": [
    "df.info()"
   ]
  },
  {
   "cell_type": "markdown",
   "id": "5be5001b",
   "metadata": {},
   "source": [
    "# Explore based on Ryan's notebooks"
   ]
  },
  {
   "cell_type": "markdown",
   "id": "c790827c",
   "metadata": {},
   "source": [
    "# Top five languages"
   ]
  },
  {
   "cell_type": "markdown",
   "id": "bc9bde3f",
   "metadata": {},
   "source": [
    "### make the following cell Code to generate language series"
   ]
  },
  {
   "cell_type": "markdown",
   "id": "292f8512",
   "metadata": {},
   "source": [
    "JavaScript_words_series = (' '.join(df[df.language == 'JavaScript']['readme_contents']))\n",
    "Python_words_series = (' '.join(df[df.language == 'Python']['readme_contents']))\n",
    "TypeScript_words_series = (' '.join(df[df.language == 'TypeScript']['readme_contents']))\n",
    "Go_words_words_series = (' '.join(df[df.language == 'Go']['readme_contents']))\n",
    "Java_words_series = (' '.join(df[df.language == 'Java']['readme_contents']))\n",
    "\n",
    "all_words_series = (' '.join(df['readme_contents']))\n"
   ]
  },
  {
   "cell_type": "markdown",
   "id": "c0788216",
   "metadata": {},
   "source": [
    "# Thursday: Freqency of a word within a single readme"
   ]
  },
  {
   "cell_type": "code",
   "execution_count": 16,
   "id": "0ffaa2a8",
   "metadata": {},
   "outputs": [
    {
     "data": {
      "text/html": [
       "<div>\n",
       "<style scoped>\n",
       "    .dataframe tbody tr th:only-of-type {\n",
       "        vertical-align: middle;\n",
       "    }\n",
       "\n",
       "    .dataframe tbody tr th {\n",
       "        vertical-align: top;\n",
       "    }\n",
       "\n",
       "    .dataframe thead th {\n",
       "        text-align: right;\n",
       "    }\n",
       "</style>\n",
       "<table border=\"1\" class=\"dataframe\">\n",
       "  <thead>\n",
       "    <tr style=\"text-align: right;\">\n",
       "      <th></th>\n",
       "      <th>repo</th>\n",
       "      <th>language</th>\n",
       "      <th>readme_contents</th>\n",
       "      <th>clean</th>\n",
       "      <th>stem</th>\n",
       "      <th>lemmatized</th>\n",
       "      <th>username</th>\n",
       "      <th>lemmatized_len</th>\n",
       "    </tr>\n",
       "  </thead>\n",
       "  <tbody>\n",
       "    <tr>\n",
       "      <th>0</th>\n",
       "      <td>awesome-actions</td>\n",
       "      <td>Not Listed</td>\n",
       "      <td>&lt;p align=\"center\"&gt;\\n  &lt;br&gt;\\n    &lt;img src=\"awes...</td>\n",
       "      <td>p aligncenter br srcawesomeactionspng width150...</td>\n",
       "      <td>p aligncent br srcawesomeactionspng width150 b...</td>\n",
       "      <td>p aligncenter br srcawesomeactionspng width150...</td>\n",
       "      <td>sdras</td>\n",
       "      <td>34287</td>\n",
       "    </tr>\n",
       "    <tr>\n",
       "      <th>1</th>\n",
       "      <td>InstaPy</td>\n",
       "      <td>Python</td>\n",
       "      <td>&lt;p align=\"center\"&gt;\\n  &lt;img src=\"https://i.imgu...</td>\n",
       "      <td>p aligncenter srchttpsiimgurcomsjzfzsljpg widt...</td>\n",
       "      <td>p aligncent srchttpsiimgurcomsjzfzsljpg width1...</td>\n",
       "      <td>p aligncenter srchttpsiimgurcomsjzfzsljpg widt...</td>\n",
       "      <td>InstaPy</td>\n",
       "      <td>2643</td>\n",
       "    </tr>\n",
       "    <tr>\n",
       "      <th>2</th>\n",
       "      <td>osquery</td>\n",
       "      <td>Other</td>\n",
       "      <td># osquery\\n\\n&lt;p align=\"center\"&gt;\\n&lt;img alt=\"osq...</td>\n",
       "      <td>osquery p aligncenter altosquery logo width200...</td>\n",
       "      <td>osqueri p aligncent altosqueri logo width200 s...</td>\n",
       "      <td>osquery p aligncenter altosquery logo width200...</td>\n",
       "      <td>osquery</td>\n",
       "      <td>4604</td>\n",
       "    </tr>\n",
       "    <tr>\n",
       "      <th>3</th>\n",
       "      <td>Best-App</td>\n",
       "      <td>Not Listed</td>\n",
       "      <td>\\nBest App\\n----\\n\\n*经常会有朋友想知道有哪些 Apps 或 服务 是值...</td>\n",
       "      <td>best app apps bestapp ios app httpsappsappleco...</td>\n",
       "      <td>best app app bestapp io app httpsappsapplecomc...</td>\n",
       "      <td>best app apps bestapp io app httpsappsapplecom...</td>\n",
       "      <td>hzlzh</td>\n",
       "      <td>17437</td>\n",
       "    </tr>\n",
       "    <tr>\n",
       "      <th>4</th>\n",
       "      <td>actix-web</td>\n",
       "      <td>Other</td>\n",
       "      <td>actix-web/README.md</td>\n",
       "      <td>actixwebreadmemd</td>\n",
       "      <td>actixwebreadmemd</td>\n",
       "      <td>actixwebreadmemd</td>\n",
       "      <td>actix</td>\n",
       "      <td>16</td>\n",
       "    </tr>\n",
       "  </tbody>\n",
       "</table>\n",
       "</div>"
      ],
      "text/plain": [
       "              repo    language  \\\n",
       "0  awesome-actions  Not Listed   \n",
       "1          InstaPy      Python   \n",
       "2          osquery       Other   \n",
       "3         Best-App  Not Listed   \n",
       "4        actix-web       Other   \n",
       "\n",
       "                                     readme_contents  \\\n",
       "0  <p align=\"center\">\\n  <br>\\n    <img src=\"awes...   \n",
       "1  <p align=\"center\">\\n  <img src=\"https://i.imgu...   \n",
       "2  # osquery\\n\\n<p align=\"center\">\\n<img alt=\"osq...   \n",
       "3  \\nBest App\\n----\\n\\n*经常会有朋友想知道有哪些 Apps 或 服务 是值...   \n",
       "4                                actix-web/README.md   \n",
       "\n",
       "                                               clean  \\\n",
       "0  p aligncenter br srcawesomeactionspng width150...   \n",
       "1  p aligncenter srchttpsiimgurcomsjzfzsljpg widt...   \n",
       "2  osquery p aligncenter altosquery logo width200...   \n",
       "3  best app apps bestapp ios app httpsappsappleco...   \n",
       "4                                   actixwebreadmemd   \n",
       "\n",
       "                                                stem  \\\n",
       "0  p aligncent br srcawesomeactionspng width150 b...   \n",
       "1  p aligncent srchttpsiimgurcomsjzfzsljpg width1...   \n",
       "2  osqueri p aligncent altosqueri logo width200 s...   \n",
       "3  best app app bestapp io app httpsappsapplecomc...   \n",
       "4                                   actixwebreadmemd   \n",
       "\n",
       "                                          lemmatized username  lemmatized_len  \n",
       "0  p aligncenter br srcawesomeactionspng width150...    sdras           34287  \n",
       "1  p aligncenter srchttpsiimgurcomsjzfzsljpg widt...  InstaPy            2643  \n",
       "2  osquery p aligncenter altosquery logo width200...  osquery            4604  \n",
       "3  best app apps bestapp io app httpsappsapplecom...    hzlzh           17437  \n",
       "4                                   actixwebreadmemd    actix              16  "
      ]
     },
     "execution_count": 16,
     "metadata": {},
     "output_type": "execute_result"
    }
   ],
   "source": [
    "# plan have loop run through the contenct of every read me and count the words that are in that readme. \n",
    "# ham_words = clean(' '.join(df[df.label == 'ham']['text']))\n",
    "# readme_words = join ['lemmatized'] but df.label = row\n",
    "df.head()\n",
    "## let's get some sights on word frequency by taking our words back apart\n",
    "# we will split each set of words by the spaces,\n",
    "# turn that into a list, cast that list as a Series,\n",
    "# and then take the value counts of that Series\n",
    "# We will do this for each type of word present\n",
    "#ham_freq = pd.Series(ham_words).value_counts()"
   ]
  },
  {
   "cell_type": "code",
   "execution_count": 17,
   "id": "364a67f6",
   "metadata": {},
   "outputs": [
    {
     "name": "stdout",
     "output_type": "stream",
     "text": [
      "<class 'pandas.core.series.Series'>\n",
      "RangeIndex: 443 entries, 0 to 442\n",
      "Series name: lemmatized\n",
      "Non-Null Count  Dtype \n",
      "--------------  ----- \n",
      "443 non-null    object\n",
      "dtypes: object(1)\n",
      "memory usage: 3.6+ KB\n"
     ]
    }
   ],
   "source": [
    "df.lemmatized.info()"
   ]
  },
  {
   "cell_type": "code",
   "execution_count": 18,
   "id": "cc76b19a",
   "metadata": {},
   "outputs": [],
   "source": [
    "wnl = nltk.stem.WordNetLemmatizer()"
   ]
  },
  {
   "cell_type": "code",
   "execution_count": 19,
   "id": "d18b98ab",
   "metadata": {
    "scrolled": true
   },
   "outputs": [],
   "source": [
    "lemmas = [wnl.lemmatize(word) for word in df.lemmatized[1]]"
   ]
  },
  {
   "cell_type": "code",
   "execution_count": 20,
   "id": "2149bf57",
   "metadata": {},
   "outputs": [],
   "source": [
    "df1 = df.lemmatized.str.split().apply(lambda x: Counter(x))"
   ]
  },
  {
   "cell_type": "code",
   "execution_count": 21,
   "id": "869ba8b0",
   "metadata": {
    "scrolled": true
   },
   "outputs": [
    {
     "data": {
      "text/plain": [
       "0      {'p': 2, 'aligncenter': 1, 'br': 2, 'srcawesom...\n",
       "1      {'p': 7, 'aligncenter': 3, 'srchttpsiimgurcoms...\n",
       "2      {'osquery': 12, 'p': 4, 'aligncenter': 2, 'alt...\n",
       "3      {'best': 1, 'app': 12, 'apps': 9, 'bestapp': 1...\n",
       "4                                {'actixwebreadmemd': 1}\n",
       "                             ...                        \n",
       "438    {'slyhttpdarsainsly': 1, 'javascript': 1, 'lib...\n",
       "439    {'20230112': 1, '0000': 1, 'android': 1, 'wind...\n",
       "440    {'english': 2, 'repo': 1, 'gitbook': 1, 'branc...\n",
       "441                                      {'readmemd': 1}\n",
       "442    {'github': 9, 'licensehttpsimgshieldsiogithubl...\n",
       "Name: lemmatized, Length: 443, dtype: object"
      ]
     },
     "execution_count": 21,
     "metadata": {},
     "output_type": "execute_result"
    }
   ],
   "source": [
    "df1 "
   ]
  },
  {
   "cell_type": "code",
   "execution_count": 22,
   "id": "f5959c42",
   "metadata": {},
   "outputs": [],
   "source": [
    "def lemm_counter(df):\n",
    "    df.lemmatized.str.split().apply(lambda x: Counter(x))\n",
    "    return df"
   ]
  },
  {
   "cell_type": "code",
   "execution_count": 23,
   "id": "c6d7e4f7",
   "metadata": {},
   "outputs": [],
   "source": [
    "ones = e.get_ngram_frequency(df.lemmatized)"
   ]
  },
  {
   "cell_type": "code",
   "execution_count": 24,
   "id": "ff7fb83f",
   "metadata": {},
   "outputs": [],
   "source": [
    "freq_words = list(ones[ones >10].index)"
   ]
  },
  {
   "cell_type": "code",
   "execution_count": 25,
   "id": "067bed65",
   "metadata": {
    "scrolled": false
   },
   "outputs": [],
   "source": [
    "# BEWARE THIS BOX IS REALLY LONG!!!!!\n",
    "\n",
    "#for word in freq_words:\n",
    "    #print(f'{word}\\n----------------\\n{df[df.lemmatized.str.contains(word)].index.value_counts()}\\n')\n"
   ]
  },
  {
   "cell_type": "code",
   "execution_count": 26,
   "id": "03590684",
   "metadata": {},
   "outputs": [
    {
     "name": "stdout",
     "output_type": "stream",
     "text": [
      "<class 'pandas.core.series.Series'>\n"
     ]
    }
   ],
   "source": [
    "print(type(df.lemmatized))"
   ]
  },
  {
   "cell_type": "markdown",
   "id": "f2db68f2",
   "metadata": {},
   "source": [
    "#### beginning of block i want in loop"
   ]
  },
  {
   "cell_type": "code",
   "execution_count": 27,
   "id": "60a86e14",
   "metadata": {},
   "outputs": [
    {
     "data": {
      "text/html": [
       "<div>\n",
       "<style scoped>\n",
       "    .dataframe tbody tr th:only-of-type {\n",
       "        vertical-align: middle;\n",
       "    }\n",
       "\n",
       "    .dataframe tbody tr th {\n",
       "        vertical-align: top;\n",
       "    }\n",
       "\n",
       "    .dataframe thead th {\n",
       "        text-align: right;\n",
       "    }\n",
       "</style>\n",
       "<table border=\"1\" class=\"dataframe\">\n",
       "  <thead>\n",
       "    <tr style=\"text-align: right;\">\n",
       "      <th></th>\n",
       "      <th>repo</th>\n",
       "      <th>language</th>\n",
       "      <th>readme_contents</th>\n",
       "      <th>clean</th>\n",
       "      <th>stem</th>\n",
       "      <th>lemmatized</th>\n",
       "      <th>username</th>\n",
       "      <th>lemmatized_len</th>\n",
       "    </tr>\n",
       "  </thead>\n",
       "  <tbody>\n",
       "    <tr>\n",
       "      <th>0</th>\n",
       "      <td>awesome-actions</td>\n",
       "      <td>Not Listed</td>\n",
       "      <td>&lt;p align=\"center\"&gt;\\n  &lt;br&gt;\\n    &lt;img src=\"awes...</td>\n",
       "      <td>p aligncenter br srcawesomeactionspng width150...</td>\n",
       "      <td>p aligncent br srcawesomeactionspng width150 b...</td>\n",
       "      <td>p aligncenter br srcawesomeactionspng width150...</td>\n",
       "      <td>sdras</td>\n",
       "      <td>34287</td>\n",
       "    </tr>\n",
       "    <tr>\n",
       "      <th>1</th>\n",
       "      <td>InstaPy</td>\n",
       "      <td>Python</td>\n",
       "      <td>&lt;p align=\"center\"&gt;\\n  &lt;img src=\"https://i.imgu...</td>\n",
       "      <td>p aligncenter srchttpsiimgurcomsjzfzsljpg widt...</td>\n",
       "      <td>p aligncent srchttpsiimgurcomsjzfzsljpg width1...</td>\n",
       "      <td>p aligncenter srchttpsiimgurcomsjzfzsljpg widt...</td>\n",
       "      <td>InstaPy</td>\n",
       "      <td>2643</td>\n",
       "    </tr>\n",
       "    <tr>\n",
       "      <th>2</th>\n",
       "      <td>osquery</td>\n",
       "      <td>Other</td>\n",
       "      <td># osquery\\n\\n&lt;p align=\"center\"&gt;\\n&lt;img alt=\"osq...</td>\n",
       "      <td>osquery p aligncenter altosquery logo width200...</td>\n",
       "      <td>osqueri p aligncent altosqueri logo width200 s...</td>\n",
       "      <td>osquery p aligncenter altosquery logo width200...</td>\n",
       "      <td>osquery</td>\n",
       "      <td>4604</td>\n",
       "    </tr>\n",
       "    <tr>\n",
       "      <th>3</th>\n",
       "      <td>Best-App</td>\n",
       "      <td>Not Listed</td>\n",
       "      <td>\\nBest App\\n----\\n\\n*经常会有朋友想知道有哪些 Apps 或 服务 是值...</td>\n",
       "      <td>best app apps bestapp ios app httpsappsappleco...</td>\n",
       "      <td>best app app bestapp io app httpsappsapplecomc...</td>\n",
       "      <td>best app apps bestapp io app httpsappsapplecom...</td>\n",
       "      <td>hzlzh</td>\n",
       "      <td>17437</td>\n",
       "    </tr>\n",
       "    <tr>\n",
       "      <th>4</th>\n",
       "      <td>actix-web</td>\n",
       "      <td>Other</td>\n",
       "      <td>actix-web/README.md</td>\n",
       "      <td>actixwebreadmemd</td>\n",
       "      <td>actixwebreadmemd</td>\n",
       "      <td>actixwebreadmemd</td>\n",
       "      <td>actix</td>\n",
       "      <td>16</td>\n",
       "    </tr>\n",
       "  </tbody>\n",
       "</table>\n",
       "</div>"
      ],
      "text/plain": [
       "              repo    language  \\\n",
       "0  awesome-actions  Not Listed   \n",
       "1          InstaPy      Python   \n",
       "2          osquery       Other   \n",
       "3         Best-App  Not Listed   \n",
       "4        actix-web       Other   \n",
       "\n",
       "                                     readme_contents  \\\n",
       "0  <p align=\"center\">\\n  <br>\\n    <img src=\"awes...   \n",
       "1  <p align=\"center\">\\n  <img src=\"https://i.imgu...   \n",
       "2  # osquery\\n\\n<p align=\"center\">\\n<img alt=\"osq...   \n",
       "3  \\nBest App\\n----\\n\\n*经常会有朋友想知道有哪些 Apps 或 服务 是值...   \n",
       "4                                actix-web/README.md   \n",
       "\n",
       "                                               clean  \\\n",
       "0  p aligncenter br srcawesomeactionspng width150...   \n",
       "1  p aligncenter srchttpsiimgurcomsjzfzsljpg widt...   \n",
       "2  osquery p aligncenter altosquery logo width200...   \n",
       "3  best app apps bestapp ios app httpsappsappleco...   \n",
       "4                                   actixwebreadmemd   \n",
       "\n",
       "                                                stem  \\\n",
       "0  p aligncent br srcawesomeactionspng width150 b...   \n",
       "1  p aligncent srchttpsiimgurcomsjzfzsljpg width1...   \n",
       "2  osqueri p aligncent altosqueri logo width200 s...   \n",
       "3  best app app bestapp io app httpsappsapplecomc...   \n",
       "4                                   actixwebreadmemd   \n",
       "\n",
       "                                          lemmatized username  lemmatized_len  \n",
       "0  p aligncenter br srcawesomeactionspng width150...    sdras           34287  \n",
       "1  p aligncenter srchttpsiimgurcomsjzfzsljpg widt...  InstaPy            2643  \n",
       "2  osquery p aligncenter altosquery logo width200...  osquery            4604  \n",
       "3  best app apps bestapp io app httpsappsapplecom...    hzlzh           17437  \n",
       "4                                   actixwebreadmemd    actix              16  "
      ]
     },
     "execution_count": 27,
     "metadata": {},
     "output_type": "execute_result"
    }
   ],
   "source": [
    "df.head()"
   ]
  },
  {
   "cell_type": "code",
   "execution_count": 28,
   "id": "7fe540b9",
   "metadata": {},
   "outputs": [],
   "source": [
    "row1 = df.lemmatized[1]"
   ]
  },
  {
   "cell_type": "code",
   "execution_count": 29,
   "id": "d8f68209",
   "metadata": {},
   "outputs": [
    {
     "data": {
      "text/plain": [
       "str"
      ]
     },
     "execution_count": 29,
     "metadata": {},
     "output_type": "execute_result"
    }
   ],
   "source": [
    "type(row1)"
   ]
  },
  {
   "cell_type": "code",
   "execution_count": 30,
   "id": "653d3f40",
   "metadata": {},
   "outputs": [],
   "source": [
    "row1_series = pd.Series(row1)"
   ]
  },
  {
   "cell_type": "markdown",
   "id": "40a1881b",
   "metadata": {},
   "source": [
    "#### end of block i want in loop"
   ]
  },
  {
   "cell_type": "code",
   "execution_count": 31,
   "id": "00b838d2",
   "metadata": {},
   "outputs": [
    {
     "data": {
      "text/html": [
       "<div>\n",
       "<style scoped>\n",
       "    .dataframe tbody tr th:only-of-type {\n",
       "        vertical-align: middle;\n",
       "    }\n",
       "\n",
       "    .dataframe tbody tr th {\n",
       "        vertical-align: top;\n",
       "    }\n",
       "\n",
       "    .dataframe thead th {\n",
       "        text-align: right;\n",
       "    }\n",
       "</style>\n",
       "<table border=\"1\" class=\"dataframe\">\n",
       "  <thead>\n",
       "    <tr style=\"text-align: right;\">\n",
       "      <th></th>\n",
       "      <th>word_1</th>\n",
       "      <th>count_1</th>\n",
       "      <th>word_2</th>\n",
       "      <th>count_2</th>\n",
       "      <th>word_3</th>\n",
       "      <th>count_3</th>\n",
       "      <th>word_4</th>\n",
       "      <th>count_4</th>\n",
       "      <th>word_5</th>\n",
       "      <th>count_5</th>\n",
       "    </tr>\n",
       "  </thead>\n",
       "  <tbody>\n",
       "    <tr>\n",
       "      <th>0</th>\n",
       "      <td>p</td>\n",
       "      <td>7</td>\n",
       "      <td>talk</td>\n",
       "      <td>3</td>\n",
       "      <td>aligncenter</td>\n",
       "      <td>3</td>\n",
       "      <td>project</td>\n",
       "      <td>3</td>\n",
       "      <td>community</td>\n",
       "      <td>3</td>\n",
       "    </tr>\n",
       "  </tbody>\n",
       "</table>\n",
       "</div>"
      ],
      "text/plain": [
       "  word_1  count_1 word_2  count_2       word_3  count_3   word_4  count_4  \\\n",
       "0      p        7   talk        3  aligncenter        3  project        3   \n",
       "\n",
       "      word_5  count_5  \n",
       "0  community        3  "
      ]
     },
     "execution_count": 31,
     "metadata": {},
     "output_type": "execute_result"
    }
   ],
   "source": [
    "e.top_five_words(row1_series)"
   ]
  },
  {
   "cell_type": "code",
   "execution_count": 32,
   "id": "1e591759",
   "metadata": {},
   "outputs": [],
   "source": [
    "# now to make a loop that runs through the rows of and converts the str of the lemmatized column into series\n"
   ]
  },
  {
   "cell_type": "code",
   "execution_count": 33,
   "id": "3263c69e",
   "metadata": {},
   "outputs": [
    {
     "data": {
      "text/html": [
       "<div>\n",
       "<style scoped>\n",
       "    .dataframe tbody tr th:only-of-type {\n",
       "        vertical-align: middle;\n",
       "    }\n",
       "\n",
       "    .dataframe tbody tr th {\n",
       "        vertical-align: top;\n",
       "    }\n",
       "\n",
       "    .dataframe thead th {\n",
       "        text-align: right;\n",
       "    }\n",
       "</style>\n",
       "<table border=\"1\" class=\"dataframe\">\n",
       "  <thead>\n",
       "    <tr style=\"text-align: right;\">\n",
       "      <th></th>\n",
       "      <th>word_1</th>\n",
       "      <th>count_1</th>\n",
       "      <th>word_2</th>\n",
       "      <th>count_2</th>\n",
       "      <th>word_3</th>\n",
       "      <th>count_3</th>\n",
       "      <th>word_4</th>\n",
       "      <th>count_4</th>\n",
       "      <th>word_5</th>\n",
       "      <th>count_5</th>\n",
       "    </tr>\n",
       "  </thead>\n",
       "  <tbody>\n",
       "    <tr>\n",
       "      <th>0</th>\n",
       "      <td>github</td>\n",
       "      <td>120</td>\n",
       "      <td>action</td>\n",
       "      <td>106</td>\n",
       "      <td>run</td>\n",
       "      <td>45</td>\n",
       "      <td>deploy</td>\n",
       "      <td>29</td>\n",
       "      <td>pull</td>\n",
       "      <td>27</td>\n",
       "    </tr>\n",
       "    <tr>\n",
       "      <th>1</th>\n",
       "      <td>p</td>\n",
       "      <td>7</td>\n",
       "      <td>talk</td>\n",
       "      <td>3</td>\n",
       "      <td>aligncenter</td>\n",
       "      <td>3</td>\n",
       "      <td>project</td>\n",
       "      <td>3</td>\n",
       "      <td>community</td>\n",
       "      <td>3</td>\n",
       "    </tr>\n",
       "    <tr>\n",
       "      <th>2</th>\n",
       "      <td>release</td>\n",
       "      <td>13</td>\n",
       "      <td>osquery</td>\n",
       "      <td>12</td>\n",
       "      <td>sql</td>\n",
       "      <td>11</td>\n",
       "      <td>select</td>\n",
       "      <td>7</td>\n",
       "      <td>minor</td>\n",
       "      <td>5</td>\n",
       "    </tr>\n",
       "    <tr>\n",
       "      <th>3</th>\n",
       "      <td>pro</td>\n",
       "      <td>20</td>\n",
       "      <td>app</td>\n",
       "      <td>12</td>\n",
       "      <td>999</td>\n",
       "      <td>11</td>\n",
       "      <td>499</td>\n",
       "      <td>11</td>\n",
       "      <td>apps</td>\n",
       "      <td>9</td>\n",
       "    </tr>\n",
       "    <tr>\n",
       "      <th>4</th>\n",
       "      <td>actixwebreadmemd</td>\n",
       "      <td>1</td>\n",
       "      <td>NaN</td>\n",
       "      <td>0</td>\n",
       "      <td>NaN</td>\n",
       "      <td>0</td>\n",
       "      <td>NaN</td>\n",
       "      <td>0</td>\n",
       "      <td>NaN</td>\n",
       "      <td>0</td>\n",
       "    </tr>\n",
       "    <tr>\n",
       "      <th>...</th>\n",
       "      <td>...</td>\n",
       "      <td>...</td>\n",
       "      <td>...</td>\n",
       "      <td>...</td>\n",
       "      <td>...</td>\n",
       "      <td>...</td>\n",
       "      <td>...</td>\n",
       "      <td>...</td>\n",
       "      <td>...</td>\n",
       "      <td>...</td>\n",
       "    </tr>\n",
       "    <tr>\n",
       "      <th>438</th>\n",
       "      <td>1</td>\n",
       "      <td>6</td>\n",
       "      <td>var</td>\n",
       "      <td>3</td>\n",
       "      <td>jquery</td>\n",
       "      <td>3</td>\n",
       "      <td>navigation</td>\n",
       "      <td>3</td>\n",
       "      <td>instance</td>\n",
       "      <td>3</td>\n",
       "    </tr>\n",
       "    <tr>\n",
       "      <th>439</th>\n",
       "      <td>v2ray</td>\n",
       "      <td>2</td>\n",
       "      <td>20230112</td>\n",
       "      <td>1</td>\n",
       "      <td>vmesseyjhzgqioiaimtuumja0ljmxljyziiwgimfpzci6i...</td>\n",
       "      <td>1</td>\n",
       "      <td>vmesseyj2ijogijiilcaichmioiaiz2l0ahvilmnvbs9mc...</td>\n",
       "      <td>1</td>\n",
       "      <td>vmesseyj2ijogijiilcaichmioiaiz2l0ahvilmnvbs9mc...</td>\n",
       "      <td>1</td>\n",
       "    </tr>\n",
       "    <tr>\n",
       "      <th>440</th>\n",
       "      <td>p</td>\n",
       "      <td>6</td>\n",
       "      <td>aligncenter</td>\n",
       "      <td>4</td>\n",
       "      <td>hrefhttpsgithubcomhaizlinfeinterviewstargazersimg</td>\n",
       "      <td>4</td>\n",
       "      <td>altstatra</td>\n",
       "      <td>4</td>\n",
       "      <td>hrefhttpswwwgeekxhcomimg</td>\n",
       "      <td>3</td>\n",
       "    </tr>\n",
       "    <tr>\n",
       "      <th>441</th>\n",
       "      <td>readmemd</td>\n",
       "      <td>1</td>\n",
       "      <td>NaN</td>\n",
       "      <td>0</td>\n",
       "      <td>NaN</td>\n",
       "      <td>0</td>\n",
       "      <td>NaN</td>\n",
       "      <td>0</td>\n",
       "      <td>NaN</td>\n",
       "      <td>0</td>\n",
       "    </tr>\n",
       "    <tr>\n",
       "      <th>442</th>\n",
       "      <td>learn</td>\n",
       "      <td>17</td>\n",
       "      <td>lesson</td>\n",
       "      <td>13</td>\n",
       "      <td>basic</td>\n",
       "      <td>13</td>\n",
       "      <td>javascript</td>\n",
       "      <td>13</td>\n",
       "      <td>curriculum</td>\n",
       "      <td>11</td>\n",
       "    </tr>\n",
       "  </tbody>\n",
       "</table>\n",
       "<p>443 rows × 10 columns</p>\n",
       "</div>"
      ],
      "text/plain": [
       "               word_1  count_1       word_2  count_2  \\\n",
       "0              github      120       action      106   \n",
       "1                   p        7         talk        3   \n",
       "2             release       13      osquery       12   \n",
       "3                 pro       20          app       12   \n",
       "4    actixwebreadmemd        1          NaN        0   \n",
       "..                ...      ...          ...      ...   \n",
       "438                 1        6          var        3   \n",
       "439             v2ray        2     20230112        1   \n",
       "440                 p        6  aligncenter        4   \n",
       "441          readmemd        1          NaN        0   \n",
       "442             learn       17       lesson       13   \n",
       "\n",
       "                                                word_3  count_3  \\\n",
       "0                                                  run       45   \n",
       "1                                          aligncenter        3   \n",
       "2                                                  sql       11   \n",
       "3                                                  999       11   \n",
       "4                                                  NaN        0   \n",
       "..                                                 ...      ...   \n",
       "438                                             jquery        3   \n",
       "439  vmesseyjhzgqioiaimtuumja0ljmxljyziiwgimfpzci6i...        1   \n",
       "440  hrefhttpsgithubcomhaizlinfeinterviewstargazersimg        4   \n",
       "441                                                NaN        0   \n",
       "442                                              basic       13   \n",
       "\n",
       "                                                word_4  count_4  \\\n",
       "0                                               deploy       29   \n",
       "1                                              project        3   \n",
       "2                                               select        7   \n",
       "3                                                  499       11   \n",
       "4                                                  NaN        0   \n",
       "..                                                 ...      ...   \n",
       "438                                         navigation        3   \n",
       "439  vmesseyj2ijogijiilcaichmioiaiz2l0ahvilmnvbs9mc...        1   \n",
       "440                                          altstatra        4   \n",
       "441                                                NaN        0   \n",
       "442                                         javascript       13   \n",
       "\n",
       "                                                word_5  count_5  \n",
       "0                                                 pull       27  \n",
       "1                                            community        3  \n",
       "2                                                minor        5  \n",
       "3                                                 apps        9  \n",
       "4                                                  NaN        0  \n",
       "..                                                 ...      ...  \n",
       "438                                           instance        3  \n",
       "439  vmesseyj2ijogijiilcaichmioiaiz2l0ahvilmnvbs9mc...        1  \n",
       "440                           hrefhttpswwwgeekxhcomimg        3  \n",
       "441                                                NaN        0  \n",
       "442                                         curriculum       11  \n",
       "\n",
       "[443 rows x 10 columns]"
      ]
     },
     "execution_count": 33,
     "metadata": {},
     "output_type": "execute_result"
    }
   ],
   "source": [
    "e.top_five_words(df.lemmatized)"
   ]
  },
  {
   "cell_type": "markdown",
   "id": "d5149696",
   "metadata": {},
   "source": [
    "# looking into significance"
   ]
  },
  {
   "cell_type": "code",
   "execution_count": null,
   "id": "40dba2e0",
   "metadata": {},
   "outputs": [],
   "source": []
  },
  {
   "cell_type": "code",
   "execution_count": null,
   "id": "58cc318a",
   "metadata": {},
   "outputs": [],
   "source": []
  },
  {
   "cell_type": "code",
   "execution_count": null,
   "id": "746c06c2",
   "metadata": {},
   "outputs": [],
   "source": []
  },
  {
   "cell_type": "code",
   "execution_count": null,
   "id": "d46c0882",
   "metadata": {},
   "outputs": [],
   "source": []
  },
  {
   "cell_type": "markdown",
   "id": "3f2c11be",
   "metadata": {},
   "source": [
    "## Moving into testing frequency per readme with TF-IDF"
   ]
  },
  {
   "cell_type": "code",
   "execution_count": 34,
   "id": "25cb012c",
   "metadata": {},
   "outputs": [],
   "source": [
    "document = df.lemmatized[1]"
   ]
  },
  {
   "cell_type": "code",
   "execution_count": 35,
   "id": "c26aa8c9",
   "metadata": {},
   "outputs": [
    {
     "data": {
      "text/html": [
       "<div>\n",
       "<style scoped>\n",
       "    .dataframe tbody tr th:only-of-type {\n",
       "        vertical-align: middle;\n",
       "    }\n",
       "\n",
       "    .dataframe tbody tr th {\n",
       "        vertical-align: top;\n",
       "    }\n",
       "\n",
       "    .dataframe thead th {\n",
       "        text-align: right;\n",
       "    }\n",
       "</style>\n",
       "<table border=\"1\" class=\"dataframe\">\n",
       "  <thead>\n",
       "    <tr style=\"text-align: right;\">\n",
       "      <th></th>\n",
       "      <th>raw_count</th>\n",
       "      <th>frequency</th>\n",
       "    </tr>\n",
       "  </thead>\n",
       "  <tbody>\n",
       "    <tr>\n",
       "      <th>p</th>\n",
       "      <td>7</td>\n",
       "      <td>0.044304</td>\n",
       "    </tr>\n",
       "    <tr>\n",
       "      <th>talk</th>\n",
       "      <td>3</td>\n",
       "      <td>0.018987</td>\n",
       "    </tr>\n",
       "    <tr>\n",
       "      <th>aligncenter</th>\n",
       "      <td>3</td>\n",
       "      <td>0.018987</td>\n",
       "    </tr>\n",
       "    <tr>\n",
       "      <th>project</th>\n",
       "      <td>3</td>\n",
       "      <td>0.018987</td>\n",
       "    </tr>\n",
       "    <tr>\n",
       "      <th>community</th>\n",
       "      <td>3</td>\n",
       "      <td>0.018987</td>\n",
       "    </tr>\n",
       "    <tr>\n",
       "      <th>...</th>\n",
       "      <td>...</td>\n",
       "      <td>...</td>\n",
       "    </tr>\n",
       "    <tr>\n",
       "      <th>work</th>\n",
       "      <td>1</td>\n",
       "      <td>0.006329</td>\n",
       "    </tr>\n",
       "    <tr>\n",
       "      <th>channelhttpsdiscordggfdetsht</th>\n",
       "      <td>1</td>\n",
       "      <td>0.006329</td>\n",
       "    </tr>\n",
       "    <tr>\n",
       "      <th>discord</th>\n",
       "      <td>1</td>\n",
       "      <td>0.006329</td>\n",
       "    </tr>\n",
       "    <tr>\n",
       "      <th>instapyhttpstwittercominstapy</th>\n",
       "      <td>1</td>\n",
       "      <td>0.006329</td>\n",
       "    </tr>\n",
       "    <tr>\n",
       "      <th>extensive</th>\n",
       "      <td>1</td>\n",
       "      <td>0.006329</td>\n",
       "    </tr>\n",
       "  </tbody>\n",
       "</table>\n",
       "<p>131 rows × 2 columns</p>\n",
       "</div>"
      ],
      "text/plain": [
       "                               raw_count  frequency\n",
       "p                                      7   0.044304\n",
       "talk                                   3   0.018987\n",
       "aligncenter                            3   0.018987\n",
       "project                                3   0.018987\n",
       "community                              3   0.018987\n",
       "...                                  ...        ...\n",
       "work                                   1   0.006329\n",
       "channelhttpsdiscordggfdetsht           1   0.006329\n",
       "discord                                1   0.006329\n",
       "instapyhttpstwittercominstapy          1   0.006329\n",
       "extensive                              1   0.006329\n",
       "\n",
       "[131 rows x 2 columns]"
      ]
     },
     "execution_count": 35,
     "metadata": {},
     "output_type": "execute_result"
    }
   ],
   "source": [
    "\n",
    "\n",
    "# clean up the text\n",
    "document = document.lower().replace(',', '').replace('.', '')\n",
    "# transform into a series\n",
    "words = pd.Series(document.split())\n",
    "\n",
    "# From the Series we can extract the value_counts, which is our raw count\n",
    "# for term frequency. Once we have the raw counts, we can calculate the\n",
    "# other measures.\n",
    "(pd.DataFrame({'raw_count': words.value_counts()})\n",
    " .assign(frequency=lambda df: df.raw_count / df.raw_count.sum()))\n"
   ]
  },
  {
   "cell_type": "code",
   "execution_count": 36,
   "id": "4a2c9517",
   "metadata": {},
   "outputs": [
    {
     "data": {
      "text/plain": [
       "'p aligncenter srchttpsiimgurcomsjzfzsljpg width154 h1 aligncenterinstapyh1 p aligncentertooling bautomatesb social medium interaction farm like comment follower instagram implemented python using selenium modulep p aligncenter hrefhttpsgithubcomtimgrossmanninstapyblobmasterlicense srchttpsimgshieldsiobadgelicensegplv3bluesvg hrefhttpsgithubcomseleniumhqselenium srchttpsimgshieldsiobadgebuilt20withseleniumyellowsvg hrefhttpswwwpythonorg srchttpsimgshieldsiobadgebuilt20withpython3redsvg hrefhttpswwwgithubcomtimgrossmanninstapybacker srchttpsopencollectivecominstapybackersbadgesvg hrefhttpswwwgithubcomtimgrossmanninstapysponsors srchttpsopencollectivecominstapysponsorsbadgesvg hrefhttpsdiscordggfdetsht srchttpsimgshieldsiodiscord510385886869979136svg p p twitter instapyhttpstwittercominstapy discord channelhttpsdiscordggfdetsht work freecodingcamphttpswwwfreecodecamporgnewsmyopensourceinstagrambotgotme2500realfollowersfor5inservercostse40491358340 talk automating instagramhttpsyoutube4tmkfzyioq talk workhttpswwwyoutubecomwatchvautst302ogt0slistpla4p1npx9hthxvwko0xyxfpbhyzfkw7o listen talk python meepisodehttpstalkpythonfmepisodesshow142automatingthewebwithseleniumandinstapy newsletter sign newsletter herehttpeepurlcomczbvv guide bot creation learn botshttpswwwudemycomcoursethecompleteguidetobotcreationreferralcode7418ebb47e11e34d86c9 br find full documentation docsdocs table content run instapydocshomemdinstallation installing instapydocshomemdinstallation running instapydocshomemdrunninginstapy updating instapydocshomemdupdatinginstapy guide tutorialsdocshomemdguides video tutorialsdocshomemdvideotutorials written guidesdocshomemdwrittenguides external additionals toolsdocshomemdexternaltools running instapy dockerdocshomemddocker documentation instapys featuresdocssettingsmd supportdocshomemdsupport creditsdocshomemdcredits br credit community active supportive community every project need sustain together reached every continent country world thank part instapy community p aligncenter srchttpsiimgurcomxkxhcm7rpng altinstapy reach width500px p contributor project exists thanks people contribute contributehttpsgithubcomtimgrossmanninstapywikihowtocontribute hrefhttpsgithubcomtimgrossmanninstapygraphscontributorsimg srchttpsopencollectivecominstapycontributorssvgwidth890buttonfalse backer thank backer become backerhttpsopencollectivecominstapybacker hrefhttpsopencollectivecominstapybackers targetblankimg srchttpsopencollectivecominstapybackerssvgwidth890a disclaimera namedisclaimer please note research project mean responsible usage use behalf im also responsible account get banned due extensive use'"
      ]
     },
     "execution_count": 36,
     "metadata": {},
     "output_type": "execute_result"
    }
   ],
   "source": [
    "row1 = df.lemmatized[1]\n",
    "row1"
   ]
  },
  {
   "cell_type": "code",
   "execution_count": 37,
   "id": "efcab9c1",
   "metadata": {},
   "outputs": [
    {
     "data": {
      "text/plain": [
       "str"
      ]
     },
     "execution_count": 37,
     "metadata": {},
     "output_type": "execute_result"
    }
   ],
   "source": [
    "type(row1)"
   ]
  },
  {
   "cell_type": "code",
   "execution_count": 38,
   "id": "6438227b",
   "metadata": {},
   "outputs": [
    {
     "data": {
      "text/plain": [
       "0                                p\n",
       "1                      aligncenter\n",
       "2      srchttpsiimgurcomsjzfzsljpg\n",
       "3                         width154\n",
       "4                               h1\n",
       "                  ...             \n",
       "153                            get\n",
       "154                         banned\n",
       "155                            due\n",
       "156                      extensive\n",
       "157                            use\n",
       "Length: 158, dtype: object"
      ]
     },
     "execution_count": 38,
     "metadata": {},
     "output_type": "execute_result"
    }
   ],
   "source": [
    "words = pd.Series(row1.split())\n",
    "words"
   ]
  },
  {
   "cell_type": "code",
   "execution_count": 39,
   "id": "342f718e",
   "metadata": {},
   "outputs": [
    {
     "ename": "SyntaxError",
     "evalue": "unexpected EOF while parsing (1586270342.py, line 3)",
     "output_type": "error",
     "traceback": [
      "\u001b[0;36m  Input \u001b[0;32mIn [39]\u001b[0;36m\u001b[0m\n\u001b[0;31m    .assign(augmented_frequency=lambda df: df.frequency / df.frequency.max())\u001b[0m\n\u001b[0m                                                                             ^\u001b[0m\n\u001b[0;31mSyntaxError\u001b[0m\u001b[0;31m:\u001b[0m unexpected EOF while parsing\n"
     ]
    }
   ],
   "source": [
    "words_df=(pd.DataFrame({'raw_count': words.value_counts()})\n",
    " .assign(frequency=lambda df: df.raw_count / df.raw_count.sum())\n",
    " .assign(augmented_frequency=lambda df: df.frequency / df.frequency.max())"
   ]
  },
  {
   "cell_type": "code",
   "execution_count": null,
   "id": "1495f001",
   "metadata": {},
   "outputs": [],
   "source": [
    "words_df"
   ]
  },
  {
   "cell_type": "code",
   "execution_count": null,
   "id": "ba061778",
   "metadata": {},
   "outputs": [],
   "source": [
    "words_df_augfreq = words_df[words_df.augmented_frequency>0.3]"
   ]
  },
  {
   "cell_type": "code",
   "execution_count": null,
   "id": "4583b3a6",
   "metadata": {},
   "outputs": [],
   "source": [
    "words_df_augfreq.set_index()"
   ]
  },
  {
   "cell_type": "code",
   "execution_count": null,
   "id": "7bd01ea9",
   "metadata": {},
   "outputs": [],
   "source": [
    "tfs = []\n",
    "\n",
    "# We'll caclulate the tf-idf value for every word across every document\n",
    "\n",
    "# Start by iterating over all the documents\n",
    "for doc, text in documents.items():\n",
    "    # We'll make a data frame that contains the tf for every word in every document\n",
    "    df = (pd.Series(text.split())\n",
    "          .value_counts()\n",
    "          .reset_index()\n",
    "          .set_axis(['word', 'raw_count'], axis=1, inplace=False)\n",
    "          .assign(tf=lambda df: df.raw_count / df.shape[0])\n",
    "          .drop(columns='raw_count')\n",
    "          .assign(doc=doc))\n",
    "    # Then add that data frame to our list\n",
    "    tfs.append(df)\n",
    "\n",
    "# We'll then concatenate all the tf values together.\n",
    "(pd.concat(tfs)\n",
    " # calculate the idf value for each word\n",
    " .assign(idf=lambda df: df.word.apply(idf))\n",
    " # then use the if and idf values to calculate tf-idf \n",
    " .assign(tf_idf=lambda df: df.idf * df.tf)\n",
    " .drop(columns=['tf', 'idf'])\n",
    " .sort_values(by='tf_idf', ascending=False))"
   ]
  },
  {
   "cell_type": "markdown",
   "id": "d3493ad4",
   "metadata": {},
   "source": [
    "# working on repo titles"
   ]
  },
  {
   "cell_type": "code",
   "execution_count": null,
   "id": "e1326728",
   "metadata": {},
   "outputs": [],
   "source": [
    "# is there significant indication of language in the title alone?\n",
    "# titles will initally be lemmatized"
   ]
  },
  {
   "cell_type": "code",
   "execution_count": 40,
   "id": "86398840",
   "metadata": {},
   "outputs": [
    {
     "data": {
      "text/html": [
       "<div>\n",
       "<style scoped>\n",
       "    .dataframe tbody tr th:only-of-type {\n",
       "        vertical-align: middle;\n",
       "    }\n",
       "\n",
       "    .dataframe tbody tr th {\n",
       "        vertical-align: top;\n",
       "    }\n",
       "\n",
       "    .dataframe thead th {\n",
       "        text-align: right;\n",
       "    }\n",
       "</style>\n",
       "<table border=\"1\" class=\"dataframe\">\n",
       "  <thead>\n",
       "    <tr style=\"text-align: right;\">\n",
       "      <th></th>\n",
       "      <th>repo</th>\n",
       "      <th>language</th>\n",
       "      <th>readme_contents</th>\n",
       "      <th>clean</th>\n",
       "      <th>stem</th>\n",
       "      <th>lemmatized</th>\n",
       "      <th>username</th>\n",
       "      <th>lemmatized_len</th>\n",
       "    </tr>\n",
       "  </thead>\n",
       "  <tbody>\n",
       "    <tr>\n",
       "      <th>0</th>\n",
       "      <td>awesome-actions</td>\n",
       "      <td>Not Listed</td>\n",
       "      <td>&lt;p align=\"center\"&gt;\\n  &lt;br&gt;\\n    &lt;img src=\"awes...</td>\n",
       "      <td>p aligncenter br srcawesomeactionspng width150...</td>\n",
       "      <td>p aligncent br srcawesomeactionspng width150 b...</td>\n",
       "      <td>p aligncenter br srcawesomeactionspng width150...</td>\n",
       "      <td>sdras</td>\n",
       "      <td>34287</td>\n",
       "    </tr>\n",
       "    <tr>\n",
       "      <th>1</th>\n",
       "      <td>InstaPy</td>\n",
       "      <td>Python</td>\n",
       "      <td>&lt;p align=\"center\"&gt;\\n  &lt;img src=\"https://i.imgu...</td>\n",
       "      <td>p aligncenter srchttpsiimgurcomsjzfzsljpg widt...</td>\n",
       "      <td>p aligncent srchttpsiimgurcomsjzfzsljpg width1...</td>\n",
       "      <td>p aligncenter srchttpsiimgurcomsjzfzsljpg widt...</td>\n",
       "      <td>InstaPy</td>\n",
       "      <td>2643</td>\n",
       "    </tr>\n",
       "    <tr>\n",
       "      <th>2</th>\n",
       "      <td>osquery</td>\n",
       "      <td>Other</td>\n",
       "      <td># osquery\\n\\n&lt;p align=\"center\"&gt;\\n&lt;img alt=\"osq...</td>\n",
       "      <td>osquery p aligncenter altosquery logo width200...</td>\n",
       "      <td>osqueri p aligncent altosqueri logo width200 s...</td>\n",
       "      <td>osquery p aligncenter altosquery logo width200...</td>\n",
       "      <td>osquery</td>\n",
       "      <td>4604</td>\n",
       "    </tr>\n",
       "    <tr>\n",
       "      <th>3</th>\n",
       "      <td>Best-App</td>\n",
       "      <td>Not Listed</td>\n",
       "      <td>\\nBest App\\n----\\n\\n*经常会有朋友想知道有哪些 Apps 或 服务 是值...</td>\n",
       "      <td>best app apps bestapp ios app httpsappsappleco...</td>\n",
       "      <td>best app app bestapp io app httpsappsapplecomc...</td>\n",
       "      <td>best app apps bestapp io app httpsappsapplecom...</td>\n",
       "      <td>hzlzh</td>\n",
       "      <td>17437</td>\n",
       "    </tr>\n",
       "    <tr>\n",
       "      <th>4</th>\n",
       "      <td>actix-web</td>\n",
       "      <td>Other</td>\n",
       "      <td>actix-web/README.md</td>\n",
       "      <td>actixwebreadmemd</td>\n",
       "      <td>actixwebreadmemd</td>\n",
       "      <td>actixwebreadmemd</td>\n",
       "      <td>actix</td>\n",
       "      <td>16</td>\n",
       "    </tr>\n",
       "  </tbody>\n",
       "</table>\n",
       "</div>"
      ],
      "text/plain": [
       "              repo    language  \\\n",
       "0  awesome-actions  Not Listed   \n",
       "1          InstaPy      Python   \n",
       "2          osquery       Other   \n",
       "3         Best-App  Not Listed   \n",
       "4        actix-web       Other   \n",
       "\n",
       "                                     readme_contents  \\\n",
       "0  <p align=\"center\">\\n  <br>\\n    <img src=\"awes...   \n",
       "1  <p align=\"center\">\\n  <img src=\"https://i.imgu...   \n",
       "2  # osquery\\n\\n<p align=\"center\">\\n<img alt=\"osq...   \n",
       "3  \\nBest App\\n----\\n\\n*经常会有朋友想知道有哪些 Apps 或 服务 是值...   \n",
       "4                                actix-web/README.md   \n",
       "\n",
       "                                               clean  \\\n",
       "0  p aligncenter br srcawesomeactionspng width150...   \n",
       "1  p aligncenter srchttpsiimgurcomsjzfzsljpg widt...   \n",
       "2  osquery p aligncenter altosquery logo width200...   \n",
       "3  best app apps bestapp ios app httpsappsappleco...   \n",
       "4                                   actixwebreadmemd   \n",
       "\n",
       "                                                stem  \\\n",
       "0  p aligncent br srcawesomeactionspng width150 b...   \n",
       "1  p aligncent srchttpsiimgurcomsjzfzsljpg width1...   \n",
       "2  osqueri p aligncent altosqueri logo width200 s...   \n",
       "3  best app app bestapp io app httpsappsapplecomc...   \n",
       "4                                   actixwebreadmemd   \n",
       "\n",
       "                                          lemmatized username  lemmatized_len  \n",
       "0  p aligncenter br srcawesomeactionspng width150...    sdras           34287  \n",
       "1  p aligncenter srchttpsiimgurcomsjzfzsljpg widt...  InstaPy            2643  \n",
       "2  osquery p aligncenter altosquery logo width200...  osquery            4604  \n",
       "3  best app apps bestapp io app httpsappsapplecom...    hzlzh           17437  \n",
       "4                                   actixwebreadmemd    actix              16  "
      ]
     },
     "execution_count": 40,
     "metadata": {},
     "output_type": "execute_result"
    }
   ],
   "source": [
    "df.head()"
   ]
  },
  {
   "cell_type": "code",
   "execution_count": 41,
   "id": "d20799c6",
   "metadata": {},
   "outputs": [],
   "source": [
    "tok_name = p.tokenize('repo')"
   ]
  },
  {
   "cell_type": "code",
   "execution_count": 42,
   "id": "1e454dc4",
   "metadata": {},
   "outputs": [
    {
     "data": {
      "text/plain": [
       "'repo'"
      ]
     },
     "execution_count": 42,
     "metadata": {},
     "output_type": "execute_result"
    }
   ],
   "source": [
    "df[‘clean_title’] = df[‘repo’].apply(p.squeaky_clean)"
   ]
  },
  {
   "cell_type": "markdown",
   "id": "db49885e",
   "metadata": {},
   "source": [
    "## column for lemmatized repo names"
   ]
  },
  {
   "cell_type": "code",
   "execution_count": 63,
   "id": "8c0d7c72",
   "metadata": {},
   "outputs": [
    {
     "data": {
      "text/html": [
       "<div>\n",
       "<style scoped>\n",
       "    .dataframe tbody tr th:only-of-type {\n",
       "        vertical-align: middle;\n",
       "    }\n",
       "\n",
       "    .dataframe tbody tr th {\n",
       "        vertical-align: top;\n",
       "    }\n",
       "\n",
       "    .dataframe thead th {\n",
       "        text-align: right;\n",
       "    }\n",
       "</style>\n",
       "<table border=\"1\" class=\"dataframe\">\n",
       "  <thead>\n",
       "    <tr style=\"text-align: right;\">\n",
       "      <th></th>\n",
       "      <th>repo</th>\n",
       "      <th>language</th>\n",
       "      <th>readme_contents</th>\n",
       "      <th>clean</th>\n",
       "      <th>stem</th>\n",
       "      <th>lemmatized</th>\n",
       "      <th>username</th>\n",
       "      <th>lemmatized_len</th>\n",
       "      <th>clean_title</th>\n",
       "      <th>dirty_title</th>\n",
       "    </tr>\n",
       "  </thead>\n",
       "  <tbody>\n",
       "    <tr>\n",
       "      <th>0</th>\n",
       "      <td>awesome-actions</td>\n",
       "      <td>Not Listed</td>\n",
       "      <td>&lt;p align=\"center\"&gt;\\n  &lt;br&gt;\\n    &lt;img src=\"awes...</td>\n",
       "      <td>p aligncenter br srcawesomeactionspng width150...</td>\n",
       "      <td>p aligncent br srcawesomeactionspng width150 b...</td>\n",
       "      <td>p aligncenter br srcawesomeactionspng width150...</td>\n",
       "      <td>sdras</td>\n",
       "      <td>34287</td>\n",
       "      <td>awesomeactions</td>\n",
       "      <td>awesome-actions</td>\n",
       "    </tr>\n",
       "  </tbody>\n",
       "</table>\n",
       "</div>"
      ],
      "text/plain": [
       "              repo    language  \\\n",
       "0  awesome-actions  Not Listed   \n",
       "\n",
       "                                     readme_contents  \\\n",
       "0  <p align=\"center\">\\n  <br>\\n    <img src=\"awes...   \n",
       "\n",
       "                                               clean  \\\n",
       "0  p aligncenter br srcawesomeactionspng width150...   \n",
       "\n",
       "                                                stem  \\\n",
       "0  p aligncent br srcawesomeactionspng width150 b...   \n",
       "\n",
       "                                          lemmatized username  lemmatized_len  \\\n",
       "0  p aligncenter br srcawesomeactionspng width150...    sdras           34287   \n",
       "\n",
       "      clean_title      dirty_title  \n",
       "0  awesomeactions  awesome-actions  "
      ]
     },
     "execution_count": 63,
     "metadata": {},
     "output_type": "execute_result"
    }
   ],
   "source": [
    "df.head(1)"
   ]
  },
  {
   "cell_type": "code",
   "execution_count": 43,
   "id": "81d330ce",
   "metadata": {},
   "outputs": [],
   "source": [
    "df['clean_title'] = df['repo'].apply(p.squeaky_clean)"
   ]
  },
  {
   "cell_type": "code",
   "execution_count": 53,
   "id": "97341ebb",
   "metadata": {},
   "outputs": [],
   "source": [
    "df['dirty_title'] = df['repo']"
   ]
  },
  {
   "cell_type": "code",
   "execution_count": 69,
   "id": "76d4ecaf",
   "metadata": {},
   "outputs": [
    {
     "data": {
      "text/plain": [
       "language\n",
       "Go             38\n",
       "Java           37\n",
       "JavaScript     94\n",
       "Not Listed     41\n",
       "Other         147\n",
       "Python         46\n",
       "TypeScript     40\n",
       "Name: clean_title, dtype: int64"
      ]
     },
     "execution_count": 69,
     "metadata": {},
     "output_type": "execute_result"
    }
   ],
   "source": [
    "df_clean_title_count = df.groupby(['language'])['clean_title'].count()\n",
    "df_clean_title_count"
   ]
  },
  {
   "cell_type": "code",
   "execution_count": 82,
   "id": "be8b9372",
   "metadata": {
    "scrolled": true
   },
   "outputs": [
    {
     "data": {
      "text/plain": [
       "language    clean_title          \n",
       "Go          12306                    0\n",
       "            30daysofjavascript       0\n",
       "            30secondsofcss           0\n",
       "            50projects50days         0\n",
       "            955wlb                   0\n",
       "                                    ..\n",
       "TypeScript  youmightnotneedjquery    0\n",
       "            zheng                    0\n",
       "            zipline                  0\n",
       "            zshsyntaxhighlighting    0\n",
       "            zxing                    0\n",
       "Name: clean_title, Length: 3087, dtype: int64"
      ]
     },
     "execution_count": 82,
     "metadata": {},
     "output_type": "execute_result"
    }
   ],
   "source": [
    "df_clean_title_count = df.groupby(['language', 'clean_title'])['clean_title'].count()\n",
    "df_clean_title_count"
   ]
  },
  {
   "cell_type": "code",
   "execution_count": 83,
   "id": "fd8659c0",
   "metadata": {},
   "outputs": [
    {
     "data": {
      "text/plain": [
       "False    405\n",
       "True      38\n",
       "Name: language, dtype: int64"
      ]
     },
     "execution_count": 83,
     "metadata": {},
     "output_type": "execute_result"
    }
   ],
   "source": [
    "((df.language == 'Go') == True).value_counts()"
   ]
  },
  {
   "cell_type": "code",
   "execution_count": 80,
   "id": "05da501d",
   "metadata": {},
   "outputs": [
    {
     "data": {
      "text/plain": [
       "pandas.core.frame.DataFrame"
      ]
     },
     "execution_count": 80,
     "metadata": {},
     "output_type": "execute_result"
    }
   ],
   "source": [
    "type(poop)"
   ]
  },
  {
   "cell_type": "code",
   "execution_count": null,
   "id": "c55c70d1",
   "metadata": {},
   "outputs": [],
   "source": []
  },
  {
   "cell_type": "markdown",
   "id": "b9c1bff0",
   "metadata": {},
   "source": [
    "# conclusion: titles are insignificant\n",
    "### out of 443 rows: \n",
    "- when titles are cleand, 441 have no repeating words\n",
    "- when titles are left as their original, 443 have no repeating words"
   ]
  },
  {
   "cell_type": "code",
   "execution_count": null,
   "id": "e2ef14bc",
   "metadata": {},
   "outputs": [],
   "source": []
  }
 ],
 "metadata": {
  "kernelspec": {
   "display_name": "Python 3 (ipykernel)",
   "language": "python",
   "name": "python3"
  },
  "language_info": {
   "codemirror_mode": {
    "name": "ipython",
    "version": 3
   },
   "file_extension": ".py",
   "mimetype": "text/x-python",
   "name": "python",
   "nbconvert_exporter": "python",
   "pygments_lexer": "ipython3",
   "version": "3.9.12"
  }
 },
 "nbformat": 4,
 "nbformat_minor": 5
}
