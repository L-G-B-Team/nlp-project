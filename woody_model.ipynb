{
 "cells": [
  {
   "cell_type": "code",
   "execution_count": 2,
   "metadata": {},
   "outputs": [],
   "source": [
    "import warnings\n",
    "from importlib import reload\n",
    "\n",
    "import matplotlib.pyplot as plt\n",
    "import numpy as np\n",
    "import pandas as pd\n",
    "import seaborn as sns\n",
    "import acquire as a\n",
    "import prepare as p\n",
    "import explore as e\n",
    "import model as m"
   ]
  },
  {
   "cell_type": "code",
   "execution_count": 3,
   "metadata": {},
   "outputs": [],
   "source": [
    "warnings.simplefilter(\"ignore\")\n",
    "%matplotlib inline\n",
    "%config InlineBackend.figure_format = 'retina'"
   ]
  },
  {
   "cell_type": "code",
   "execution_count": 4,
   "metadata": {},
   "outputs": [],
   "source": [
    "readme_df = a.acquire_readmes()\n",
    "readme_df = p.prep_df_for_nlp(readme_df,'readme_contents')\n",
    "train, validate, test = p.split_data(readme_df,'language')"
   ]
  },
  {
   "cell_type": "code",
   "execution_count": 25,
   "metadata": {},
   "outputs": [
    {
     "data": {
      "text/plain": [
       "74      virginica\n",
       "115     virginica\n",
       "1          setosa\n",
       "4          setosa\n",
       "117     virginica\n",
       "          ...    \n",
       "94     versicolor\n",
       "47         setosa\n",
       "95     versicolor\n",
       "58      virginica\n",
       "139     virginica\n",
       "Name: yhat, Length: 97, dtype: object"
      ]
     },
     "execution_count": 25,
     "metadata": {},
     "output_type": "execute_result"
    }
   ],
   "source": [
    "from sklearn.tree import DecisionTreeClassifier\n",
    "reload(m)\n",
    "\n",
    "data = sns.load_dataset('iris')\n",
    "tr,va,te = p.split_data(data,target='species')\n",
    "trx = tr[['sepal_length','sepal_width']]\n",
    "tray = tr.species\n",
    "model = DecisionTreeClassifier(max_depth=4)\n",
    "m.model_data(model,trx,tray)"
   ]
  },
  {
   "cell_type": "code",
   "execution_count": 31,
   "metadata": {},
   "outputs": [
    {
     "data": {
      "text/plain": [
       "yhat_max_depth_2     0.845361\n",
       "yhat_max_depth_3     0.855670\n",
       "yhat_max_depth_4     0.876289\n",
       "yhat_max_depth_5     0.886598\n",
       "yhat_max_depth_6     0.917526\n",
       "yhat_max_depth_7     0.938144\n",
       "yhat_max_depth_8     0.948454\n",
       "yhat_max_depth_9     0.948454\n",
       "yhat_max_depth_10    0.948454\n",
       "yhat_max_depth_11    0.948454\n",
       "yhat_max_depth_12    0.948454\n",
       "yhat_max_depth_13    0.948454\n",
       "yhat_max_depth_14    0.948454\n",
       "yhat_max_depth_15    0.948454\n",
       "yhat_max_depth_16    0.948454\n",
       "yhat_max_depth_17    0.948454\n",
       "yhat_max_depth_18    0.948454\n",
       "yhat_max_depth_19    0.948454\n",
       "yhat_max_depth_20    0.948454\n",
       "yhat_max_depth_21    0.948454\n",
       "yhat_max_depth_22    0.948454\n",
       "yhat_max_depth_23    0.948454\n",
       "yhat_max_depth_24    0.948454\n",
       "yhat_max_depth_25    0.948454\n",
       "yhat_max_depth_26    0.948454\n",
       "yhat_max_depth_27    0.948454\n",
       "yhat_max_depth_28    0.948454\n",
       "yhat_max_depth_29    0.948454\n",
       "Name: Decision Tree, dtype: float64"
      ]
     },
     "execution_count": 31,
     "metadata": {},
     "output_type": "execute_result"
    }
   ],
   "source": [
    "reload(m)\n",
    "m.tune_decision_tree(trx,tray)"
   ]
  },
  {
   "cell_type": "code",
   "execution_count": 34,
   "metadata": {},
   "outputs": [],
   "source": [
    "reload(m)\n",
    "random_forest_accuracy = m.tune_random_forest(trx,tray)\n",
    "sns.heatmap(random_forest_accuracy)"
   ]
  }
 ],
 "metadata": {
  "kernelspec": {
   "display_name": "base",
   "language": "python",
   "name": "python3"
  },
  "language_info": {
   "codemirror_mode": {
    "name": "ipython",
    "version": 3
   },
   "file_extension": ".py",
   "mimetype": "text/x-python",
   "name": "python",
   "nbconvert_exporter": "python",
   "pygments_lexer": "ipython3",
   "version": "3.9.13"
  },
  "orig_nbformat": 4,
  "vscode": {
   "interpreter": {
    "hash": "3067ead486e059ec00ffe7555bdb889e6e264a24dc711bf108106cc7baee8d5d"
   }
  }
 },
 "nbformat": 4,
 "nbformat_minor": 2
}
