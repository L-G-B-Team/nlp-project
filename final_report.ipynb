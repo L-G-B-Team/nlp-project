{
 "cells": [
  {
   "cell_type": "markdown",
   "id": "passive-collect",
   "metadata": {},
   "source": [
    "# NLP Project"
   ]
  },
  {
   "cell_type": "markdown",
   "id": "typical-anime",
   "metadata": {},
   "source": [
    "## Project Goals\n",
    "* Webscrape 682 top starred repositories on GitHub and clean the data.\n",
    "* Explore to find features that indicate a specific programming language.\n",
    "* Based on the findings predict the main programming language of an out-of-sample repository."
   ]
  },
  {
   "cell_type": "markdown",
   "id": "recognized-insertion",
   "metadata": {},
   "source": [
    "# Imports"
   ]
  },
  {
   "cell_type": "code",
   "execution_count": 2,
   "id": "following-steam",
   "metadata": {},
   "outputs": [],
   "source": [
    "import pandas as pd\n",
    "import numpy as np\n",
    "\n",
    "import matplotlib.pyplot as plt\n",
    "import seaborn as sns\n",
    "import os\n",
    "\n",
    "import warnings\n",
    "warnings.filterwarnings(\"ignore\")\n",
    "\n",
    "from scipy import stats\n",
    "import re\n",
    "\n",
    "from importlib import reload\n",
    "\n",
    "import acquire as a\n",
    "import prepare as p\n",
    "import explore as e\n",
    "import model as m"
   ]
  },
  {
   "attachments": {},
   "cell_type": "markdown",
   "id": "further-swimming",
   "metadata": {},
   "source": [
    "# Acquire\n",
    "\n",
    "* Data acquired from GitHub starred repos README files using Github API\n",
    "* Before cleaning and preparation, "
   ]
  },
  {
   "cell_type": "markdown",
   "id": "strategic-steering",
   "metadata": {},
   "source": [
    "# Prepare\n",
    "\n",
    "**Prepare Actions:**\n",
    "* Determine the top five languages and lump all others as \"Other\" (NULLs have been kept and listed as \"Not Listed\")\n",
    "* README content prep:\n",
    "    * Normalize language (remove any non-ASCII characters aka. other languages)\n",
    "    * Remove all punctuation\n",
    "    * Make all lowercase\n",
    "    * Determine stopwords by looking words that appear evenly across all languages and remove them\n",
    "* Split data into train, validate and test (approx. 60/25/15), stratifying on 'language'\n",
    "* Scaled continuous variable"
   ]
  },
  {
   "cell_type": "markdown",
   "id": "purple-plymouth",
   "metadata": {},
   "source": [
    "## Data dictionary\n",
    "| Feature | Definition | Type |\n",
    "|:--------|:-----------|:-------\n",
    "|**repo**| Name of the repository on GitHub| *string*|\n",
    "|**word_freq**| Number of times a word appears across all README| *float*|\n",
    "|**lemmatized_len**| Number of characters in| *int*|\n",
    "|**username**| Username of GitHub user| *string*|\n",
    "|**Target variable**\n",
    "|**language**| Primary programming language used in the repository | *string* |\n"
   ]
  },
  {
   "cell_type": "code",
   "execution_count": 3,
   "id": "pressing-legislation",
   "metadata": {
    "scrolled": false
   },
   "outputs": [],
   "source": [
    "# acquiring data\n",
    "df = a.acquire_readmes()\n",
    "\n",
    "# prepping data\n",
    "df = p.prep_df_for_nlp(df,'readme_contents')\n",
    "\n",
    "# splitting data into train, validate, and test\n",
    "train, validate, test = p.split_data(df, 'language')"
   ]
  },
  {
   "cell_type": "markdown",
   "id": "tutorial-continuity",
   "metadata": {},
   "source": [
    "## A brief look at the data"
   ]
  },
  {
   "cell_type": "code",
   "execution_count": 27,
   "id": "bc8a0cd0",
   "metadata": {},
   "outputs": [
    {
     "data": {
      "text/html": [
       "<div>\n",
       "<style scoped>\n",
       "    .dataframe tbody tr th:only-of-type {\n",
       "        vertical-align: middle;\n",
       "    }\n",
       "\n",
       "    .dataframe tbody tr th {\n",
       "        vertical-align: top;\n",
       "    }\n",
       "\n",
       "    .dataframe thead th {\n",
       "        text-align: right;\n",
       "    }\n",
       "</style>\n",
       "<table border=\"1\" class=\"dataframe\">\n",
       "  <thead>\n",
       "    <tr style=\"text-align: right;\">\n",
       "      <th></th>\n",
       "      <th>repo</th>\n",
       "      <th>language</th>\n",
       "      <th>readme_contents</th>\n",
       "      <th>clean</th>\n",
       "      <th>stem</th>\n",
       "      <th>lemmatized</th>\n",
       "      <th>username</th>\n",
       "      <th>lemmatized_len</th>\n",
       "    </tr>\n",
       "  </thead>\n",
       "  <tbody>\n",
       "    <tr>\n",
       "      <th>503</th>\n",
       "      <td>daisyui</td>\n",
       "      <td>Other</td>\n",
       "      <td>&lt;div align=\"center\"&gt;\\n\\n[![][logo-url]][docs-u...</td>\n",
       "      <td>logourldocsurl popular free tailwind css compo...</td>\n",
       "      <td>logourldocsurl popular free tailwind css compo...</td>\n",
       "      <td>logourldocsurl popular free tailwind cs compon...</td>\n",
       "      <td>saadeghi</td>\n",
       "      <td>3034</td>\n",
       "    </tr>\n",
       "    <tr>\n",
       "      <th>496</th>\n",
       "      <td>responsively app</td>\n",
       "      <td>JavaScript</td>\n",
       "      <td>&lt;div align=\"center\"&gt;\\n  &lt;img src=\"https://resp...</td>\n",
       "      <td>responsively app musthave devtool developers q...</td>\n",
       "      <td>respons app musthav devtool develop quicker re...</td>\n",
       "      <td>responsively app musthave devtool developer qu...</td>\n",
       "      <td>responsively-org</td>\n",
       "      <td>2175</td>\n",
       "    </tr>\n",
       "    <tr>\n",
       "      <th>296</th>\n",
       "      <td>ClickHouse</td>\n",
       "      <td>Other</td>\n",
       "      <td>[![ClickHouse — open source distributed column...</td>\n",
       "      <td>clickhouse source distributed columnoriented d...</td>\n",
       "      <td>clickhous sourc distribut columnori dbm clickh...</td>\n",
       "      <td>clickhouse source distributed columnoriented d...</td>\n",
       "      <td>ClickHouse</td>\n",
       "      <td>1207</td>\n",
       "    </tr>\n",
       "    <tr>\n",
       "      <th>102</th>\n",
       "      <td>deepnlp</td>\n",
       "      <td>Python</td>\n",
       "      <td>Deep Learning NLP Pipeline implemented on Tens...</td>\n",
       "      <td>deep learning nlp pipeline implemented tensorf...</td>\n",
       "      <td>deep learn nlp pipelin implement tensorflow fo...</td>\n",
       "      <td>deep learning nlp pipeline implemented tensorf...</td>\n",
       "      <td>rockingdingo</td>\n",
       "      <td>7065</td>\n",
       "    </tr>\n",
       "    <tr>\n",
       "      <th>605</th>\n",
       "      <td>dotenv</td>\n",
       "      <td>JavaScript</td>\n",
       "      <td>&lt;div align=\"center\"&gt;\\n\\n&lt;p&gt;\\n  &lt;sup&gt;\\n    &lt;a h...</td>\n",
       "      <td>dotenv supported community special thanks warp...</td>\n",
       "      <td>dotenv support commun special thank warp blazi...</td>\n",
       "      <td>dotenv supported community special thanks warp...</td>\n",
       "      <td>motdotla</td>\n",
       "      <td>7753</td>\n",
       "    </tr>\n",
       "  </tbody>\n",
       "</table>\n",
       "</div>"
      ],
      "text/plain": [
       "                 repo    language  \\\n",
       "503           daisyui       Other   \n",
       "496  responsively app  JavaScript   \n",
       "296        ClickHouse       Other   \n",
       "102           deepnlp      Python   \n",
       "605            dotenv  JavaScript   \n",
       "\n",
       "                                       readme_contents  \\\n",
       "503  <div align=\"center\">\\n\\n[![][logo-url]][docs-u...   \n",
       "496  <div align=\"center\">\\n  <img src=\"https://resp...   \n",
       "296  [![ClickHouse — open source distributed column...   \n",
       "102  Deep Learning NLP Pipeline implemented on Tens...   \n",
       "605  <div align=\"center\">\\n\\n<p>\\n  <sup>\\n    <a h...   \n",
       "\n",
       "                                                 clean  \\\n",
       "503  logourldocsurl popular free tailwind css compo...   \n",
       "496  responsively app musthave devtool developers q...   \n",
       "296  clickhouse source distributed columnoriented d...   \n",
       "102  deep learning nlp pipeline implemented tensorf...   \n",
       "605  dotenv supported community special thanks warp...   \n",
       "\n",
       "                                                  stem  \\\n",
       "503  logourldocsurl popular free tailwind css compo...   \n",
       "496  respons app musthav devtool develop quicker re...   \n",
       "296  clickhous sourc distribut columnori dbm clickh...   \n",
       "102  deep learn nlp pipelin implement tensorflow fo...   \n",
       "605  dotenv support commun special thank warp blazi...   \n",
       "\n",
       "                                            lemmatized          username  \\\n",
       "503  logourldocsurl popular free tailwind cs compon...          saadeghi   \n",
       "496  responsively app musthave devtool developer qu...  responsively-org   \n",
       "296  clickhouse source distributed columnoriented d...        ClickHouse   \n",
       "102  deep learning nlp pipeline implemented tensorf...      rockingdingo   \n",
       "605  dotenv supported community special thanks warp...          motdotla   \n",
       "\n",
       "     lemmatized_len  \n",
       "503            3034  \n",
       "496            2175  \n",
       "296            1207  \n",
       "102            7065  \n",
       "605            7753  "
      ]
     },
     "execution_count": 27,
     "metadata": {},
     "output_type": "execute_result"
    }
   ],
   "source": [
    "train.head()"
   ]
  },
  {
   "cell_type": "code",
   "execution_count": 5,
   "id": "clear-junior",
   "metadata": {},
   "outputs": [
    {
     "data": {
      "text/plain": [
       "Other         184\n",
       "JavaScript    121\n",
       "Not Listed     54\n",
       "Python         54\n",
       "TypeScript     50\n",
       "Go             47\n",
       "Java           42\n",
       "Name: language, dtype: int64"
      ]
     },
     "execution_count": 5,
     "metadata": {},
     "output_type": "execute_result"
    }
   ],
   "source": [
    "# show the first 5 rows of the data\n",
    "train.language.value_counts()"
   ]
  },
  {
   "cell_type": "code",
   "execution_count": 6,
   "id": "2350f3cb",
   "metadata": {},
   "outputs": [
    {
     "data": {
      "text/plain": [
       "Other         0.333333\n",
       "JavaScript    0.219203\n",
       "Not Listed    0.097826\n",
       "Python        0.097826\n",
       "TypeScript    0.090580\n",
       "Go            0.085145\n",
       "Java          0.076087\n",
       "Name: language, dtype: float64"
      ]
     },
     "execution_count": 6,
     "metadata": {},
     "output_type": "execute_result"
    }
   ],
   "source": [
    "# show the first 5 rows of the data\n",
    "train.language.value_counts(normalize=True)"
   ]
  },
  {
   "cell_type": "markdown",
   "id": "local-paper",
   "metadata": {},
   "source": [
    "# Explore"
   ]
  },
  {
   "cell_type": "code",
   "execution_count": 8,
   "id": "9e07659d",
   "metadata": {
    "scrolled": true
   },
   "outputs": [
    {
     "data": {
      "image/png": "[encoded data removed]",
      "text/plain": [
       "<Figure size 2000x1000 with 1 Axes>"
      ]
     },
     "metadata": {},
     "output_type": "display_data"
    }
   ],
   "source": [
    "# Distribution of READMEs across languages\n",
    "e.language_distribution(train)"
   ]
  },
  {
   "cell_type": "markdown",
   "id": "considerable-attendance",
   "metadata": {},
   "source": [
    "## Does the name of the programming language appearing in the README indicate the main programming language?"
   ]
  },
  {
   "cell_type": "markdown",
   "id": "82adcf1d",
   "metadata": {},
   "source": [
    "**Set Hypothesis**\n",
    "\n",
    "$H_0$ = There is no relationship between each ```language``` and language name in README.\n",
    "\n",
    "$H_a$ = There is a relationship between each ```language``` and language name in README."
   ]
  },
  {
   "cell_type": "markdown",
   "id": "a168c783",
   "metadata": {},
   "source": [
    "### JavaScript?"
   ]
  },
  {
   "cell_type": "code",
   "execution_count": 9,
   "id": "26c6bd6f",
   "metadata": {
    "scrolled": true
   },
   "outputs": [
    {
     "name": "stdout",
     "output_type": "stream",
     "text": [
      "Chi^2 Stat:105.95533031740635\n",
      "p-value: 7.541620207758735e-25\n"
     ]
    },
    {
     "data": {
      "text/markdown": [
       "## Because $\\alpha$ > p,we  reject $H_0$"
      ],
      "text/plain": [
       "<IPython.core.display.Markdown object>"
      ]
     },
     "execution_count": 9,
     "metadata": {},
     "output_type": "execute_result"
    }
   ],
   "source": [
    "# χ^2 test for appearance of word 'javascript' in JavaScript READMEs\n",
    "e.language_name_chi2(df, 'JavaScript')"
   ]
  },
  {
   "cell_type": "markdown",
   "id": "f6538bd9",
   "metadata": {},
   "source": [
    "### TypeScript?"
   ]
  },
  {
   "cell_type": "code",
   "execution_count": 10,
   "id": "5f490f0f",
   "metadata": {
    "scrolled": true
   },
   "outputs": [
    {
     "name": "stdout",
     "output_type": "stream",
     "text": [
      "Chi^2 Stat:40.80903884903238\n",
      "p-value: 1.678549103455844e-10\n"
     ]
    },
    {
     "data": {
      "text/markdown": [
       "## Because $\\alpha$ > p,we  reject $H_0$"
      ],
      "text/plain": [
       "<IPython.core.display.Markdown object>"
      ]
     },
     "execution_count": 10,
     "metadata": {},
     "output_type": "execute_result"
    }
   ],
   "source": [
    "# χ^2 test for appearance of word 'typescript' in TypeScript READMEs\n",
    "e.language_name_chi2(df, 'TypeScript')"
   ]
  },
  {
   "cell_type": "markdown",
   "id": "b88f0854",
   "metadata": {},
   "source": [
    "### Go?"
   ]
  },
  {
   "cell_type": "code",
   "execution_count": 11,
   "id": "3c6a1d72",
   "metadata": {
    "scrolled": true
   },
   "outputs": [
    {
     "name": "stdout",
     "output_type": "stream",
     "text": [
      "Chi^2 Stat:19.07224577295049\n",
      "p-value: 1.2586201416644357e-05\n"
     ]
    },
    {
     "data": {
      "text/markdown": [
       "## Because $\\alpha$ > p,we  reject $H_0$"
      ],
      "text/plain": [
       "<IPython.core.display.Markdown object>"
      ]
     },
     "execution_count": 11,
     "metadata": {},
     "output_type": "execute_result"
    }
   ],
   "source": [
    "# χ^2 test for appearance of word 'go' in Go READMEs\n",
    "e.language_name_chi2(df, 'Go')"
   ]
  },
  {
   "cell_type": "markdown",
   "id": "b701c702",
   "metadata": {},
   "source": [
    "### Python?"
   ]
  },
  {
   "cell_type": "code",
   "execution_count": 12,
   "id": "2a10c0a8",
   "metadata": {
    "scrolled": false
   },
   "outputs": [
    {
     "name": "stdout",
     "output_type": "stream",
     "text": [
      "Chi^2 Stat:156.5374960393798\n",
      "p-value: 6.459725929476735e-36\n"
     ]
    },
    {
     "data": {
      "text/markdown": [
       "## Because $\\alpha$ > p,we  reject $H_0$"
      ],
      "text/plain": [
       "<IPython.core.display.Markdown object>"
      ]
     },
     "execution_count": 12,
     "metadata": {},
     "output_type": "execute_result"
    }
   ],
   "source": [
    "# χ^2 test for appearance of word 'python' in Python READMEs\n",
    "e.language_name_chi2(df, 'Python')"
   ]
  },
  {
   "cell_type": "markdown",
   "id": "0aa9176d",
   "metadata": {},
   "source": [
    "### Java?"
   ]
  },
  {
   "cell_type": "code",
   "execution_count": 13,
   "id": "5e740658",
   "metadata": {
    "scrolled": true
   },
   "outputs": [
    {
     "name": "stdout",
     "output_type": "stream",
     "text": [
      "Chi^2 Stat:32.51348822639151\n",
      "p-value: 1.1836814715205007e-08\n"
     ]
    },
    {
     "data": {
      "text/markdown": [
       "## Because $\\alpha$ > p,we  reject $H_0$"
      ],
      "text/plain": [
       "<IPython.core.display.Markdown object>"
      ]
     },
     "execution_count": 13,
     "metadata": {},
     "output_type": "execute_result"
    }
   ],
   "source": [
    "# χ^2 test for appearance of word 'java' in Java READMEs\n",
    "e.language_name_chi2(df, 'Java')"
   ]
  },
  {
   "cell_type": "code",
   "execution_count": 14,
   "id": "0a84a733",
   "metadata": {},
   "outputs": [
    {
     "data": {
      "image/png": "[encoded data removed]",
      "text/plain": [
       "<Figure size 2000x1000 with 1 Axes>"
      ]
     },
     "metadata": {},
     "output_type": "display_data"
    }
   ],
   "source": [
    "# Show the percentage of each word's appearance in the READMEs\n",
    "e.language_name_percentage_plot(train)"
   ]
  },
  {
   "cell_type": "markdown",
   "id": "wound-gothic",
   "metadata": {},
   "source": [
    "## Does the frequency of a certain word within a README indicate the main programming language?"
   ]
  },
  {
   "cell_type": "code",
   "execution_count": 54,
   "id": "5bbca198",
   "metadata": {},
   "outputs": [
    {
     "data": {
      "text/html": [
       "<div>\n",
       "<style scoped>\n",
       "    .dataframe tbody tr th:only-of-type {\n",
       "        vertical-align: middle;\n",
       "    }\n",
       "\n",
       "    .dataframe tbody tr th {\n",
       "        vertical-align: top;\n",
       "    }\n",
       "\n",
       "    .dataframe thead th {\n",
       "        text-align: right;\n",
       "    }\n",
       "</style>\n",
       "<table border=\"1\" class=\"dataframe\">\n",
       "  <thead>\n",
       "    <tr style=\"text-align: right;\">\n",
       "      <th></th>\n",
       "      <th>Go</th>\n",
       "      <th>Java</th>\n",
       "      <th>Not Listed</th>\n",
       "      <th>JavaScript</th>\n",
       "      <th>Other</th>\n",
       "      <th>TypeScript</th>\n",
       "      <th>Python</th>\n",
       "    </tr>\n",
       "  </thead>\n",
       "  <tbody>\n",
       "    <tr>\n",
       "      <th>go</th>\n",
       "      <td>0.421053</td>\n",
       "      <td>0.157895</td>\n",
       "      <td>0.157895</td>\n",
       "      <td>0.105263</td>\n",
       "      <td>0.105263</td>\n",
       "      <td>0.052632</td>\n",
       "      <td>0.0</td>\n",
       "    </tr>\n",
       "    <tr>\n",
       "      <th>react</th>\n",
       "      <td>0.000000</td>\n",
       "      <td>0.000000</td>\n",
       "      <td>0.117647</td>\n",
       "      <td>0.588235</td>\n",
       "      <td>0.058824</td>\n",
       "      <td>0.235294</td>\n",
       "      <td>0.0</td>\n",
       "    </tr>\n",
       "    <tr>\n",
       "      <th>awesome</th>\n",
       "      <td>0.000000</td>\n",
       "      <td>0.000000</td>\n",
       "      <td>0.714286</td>\n",
       "      <td>0.095238</td>\n",
       "      <td>0.190476</td>\n",
       "      <td>0.000000</td>\n",
       "      <td>0.0</td>\n",
       "    </tr>\n",
       "  </tbody>\n",
       "</table>\n",
       "</div>"
      ],
      "text/plain": [
       "               Go      Java  Not Listed  JavaScript     Other  TypeScript  \\\n",
       "go       0.421053  0.157895    0.157895    0.105263  0.105263    0.052632   \n",
       "react    0.000000  0.000000    0.117647    0.588235  0.058824    0.235294   \n",
       "awesome  0.000000  0.000000    0.714286    0.095238  0.190476    0.000000   \n",
       "\n",
       "         Python  \n",
       "go          0.0  \n",
       "react       0.0  \n",
       "awesome     0.0  "
      ]
     },
     "execution_count": 54,
     "metadata": {},
     "output_type": "execute_result"
    }
   ],
   "source": [
    "reload(e)\n",
    "plot = e.significant_words_graph(train)\n",
    "plot"
   ]
  },
  {
   "cell_type": "code",
   "execution_count": 15,
   "id": "d798258c",
   "metadata": {},
   "outputs": [
    {
     "data": {
      "text/plain": [
       "count    54235.000000\n",
       "mean         6.299948\n",
       "std          0.682617\n",
       "min          1.328906\n",
       "25%          6.216746\n",
       "50%          6.622211\n",
       "75%          6.622211\n",
       "max          6.622211\n",
       "dtype: float64"
      ]
     },
     "execution_count": 15,
     "metadata": {},
     "output_type": "execute_result"
    }
   ],
   "source": [
    "# Print the idf_values.describe()\n",
    "e.get_idf(train)"
   ]
  },
  {
   "cell_type": "markdown",
   "id": "5adc0a66",
   "metadata": {},
   "source": [
    "## Does the length of the README indicate the main programming language?"
   ]
  },
  {
   "cell_type": "code",
   "execution_count": 16,
   "id": "6ea019cf",
   "metadata": {},
   "outputs": [
    {
     "data": {
      "image/png": "[encoded data removed]",
      "text/plain": [
       "<Figure size 2000x1000 with 1 Axes>"
      ]
     },
     "metadata": {},
     "output_type": "display_data"
    }
   ],
   "source": [
    "# Show the length of each README by programming language\n",
    "e.readme_len_plot(train)"
   ]
  },
  {
   "cell_type": "code",
   "execution_count": 17,
   "id": "6a54a577",
   "metadata": {},
   "outputs": [
    {
     "data": {
      "text/markdown": [
       "## Because $\\alpha$ > p,we  reject $H_0$"
      ],
      "text/plain": [
       "<IPython.core.display.Markdown object>"
      ]
     },
     "execution_count": 17,
     "metadata": {},
     "output_type": "execute_result"
    }
   ],
   "source": [
    "# Kruskal test for length of README\n",
    "e.readme_len_kruskal(train)"
   ]
  },
  {
   "cell_type": "markdown",
   "id": "agreed-finance",
   "metadata": {},
   "source": [
    "## Does a certain word appearing in the repo title indicate the main programming language?"
   ]
  },
  {
   "cell_type": "code",
   "execution_count": 18,
   "id": "c7e32cf2",
   "metadata": {},
   "outputs": [
    {
     "data": {
      "text/html": [
       "<div>\n",
       "<style scoped>\n",
       "    .dataframe tbody tr th:only-of-type {\n",
       "        vertical-align: middle;\n",
       "    }\n",
       "\n",
       "    .dataframe tbody tr th {\n",
       "        vertical-align: top;\n",
       "    }\n",
       "\n",
       "    .dataframe thead th {\n",
       "        text-align: right;\n",
       "    }\n",
       "</style>\n",
       "<table border=\"1\" class=\"dataframe\">\n",
       "  <thead>\n",
       "    <tr style=\"text-align: right;\">\n",
       "      <th></th>\n",
       "      <th>all</th>\n",
       "      <th>javascript</th>\n",
       "      <th>typescript</th>\n",
       "      <th>go</th>\n",
       "      <th>python</th>\n",
       "      <th>java</th>\n",
       "      <th>other</th>\n",
       "      <th>not_listed</th>\n",
       "    </tr>\n",
       "  </thead>\n",
       "  <tbody>\n",
       "    <tr>\n",
       "      <th>awesome</th>\n",
       "      <td>21</td>\n",
       "      <td>2</td>\n",
       "      <td>0</td>\n",
       "      <td>0</td>\n",
       "      <td>0</td>\n",
       "      <td>0</td>\n",
       "      <td>4</td>\n",
       "      <td>15</td>\n",
       "    </tr>\n",
       "    <tr>\n",
       "      <th>go</th>\n",
       "      <td>5</td>\n",
       "      <td>0</td>\n",
       "      <td>0</td>\n",
       "      <td>4</td>\n",
       "      <td>0</td>\n",
       "      <td>0</td>\n",
       "      <td>1</td>\n",
       "      <td>0</td>\n",
       "    </tr>\n",
       "    <tr>\n",
       "      <th>react</th>\n",
       "      <td>17</td>\n",
       "      <td>10</td>\n",
       "      <td>4</td>\n",
       "      <td>0</td>\n",
       "      <td>0</td>\n",
       "      <td>0</td>\n",
       "      <td>1</td>\n",
       "      <td>2</td>\n",
       "    </tr>\n",
       "  </tbody>\n",
       "</table>\n",
       "</div>"
      ],
      "text/plain": [
       "         all  javascript  typescript  go  python  java  other  not_listed\n",
       "awesome   21           2           0   0       0     0      4          15\n",
       "go         5           0           0   4       0     0      1           0\n",
       "react     17          10           4   0       0     0      1           2"
      ]
     },
     "execution_count": 18,
     "metadata": {},
     "output_type": "execute_result"
    }
   ],
   "source": [
    "e.percentage_of_language_per_word(train)"
   ]
  },
  {
   "cell_type": "markdown",
   "id": "fc4302fb",
   "metadata": {},
   "source": [
    "**Set Hypothesis**\n",
    "\n",
    "$H_0$ = There is no relationship between each ```language``` and words in repo title.\n",
    "\n",
    "$H_a$ = There is a relationship between each ```language``` and words in repo title."
   ]
  },
  {
   "cell_type": "code",
   "execution_count": 19,
   "id": "783db2c2",
   "metadata": {},
   "outputs": [
    {
     "name": "stdout",
     "output_type": "stream",
     "text": [
      "Chi^2 Stat:125.35688165627867\n",
      "p-value: 1.2194414411723855e-24\n"
     ]
    },
    {
     "data": {
      "text/markdown": [
       "## Because $\\alpha$ > p,we  reject $H_0$"
      ],
      "text/plain": [
       "<IPython.core.display.Markdown object>"
      ]
     },
     "execution_count": 19,
     "metadata": {},
     "output_type": "execute_result"
    }
   ],
   "source": [
    "# χ^2 test for the word \"awesome\" and programming language\n",
    "e.title_chi2(df, 'awesome')"
   ]
  },
  {
   "cell_type": "code",
   "execution_count": 20,
   "id": "2644a985",
   "metadata": {},
   "outputs": [
    {
     "name": "stdout",
     "output_type": "stream",
     "text": [
      "Chi^2 Stat:52.15922250305225\n",
      "p-value: 1.7322694143599908e-09\n"
     ]
    },
    {
     "data": {
      "text/markdown": [
       "## Because $\\alpha$ > p,we  reject $H_0$"
      ],
      "text/plain": [
       "<IPython.core.display.Markdown object>"
      ]
     },
     "execution_count": 20,
     "metadata": {},
     "output_type": "execute_result"
    }
   ],
   "source": [
    "# χ^2 test for the word \"react\" and programming language\n",
    "e.title_chi2(df, 'react')"
   ]
  },
  {
   "cell_type": "code",
   "execution_count": 21,
   "id": "fd02ec45",
   "metadata": {},
   "outputs": [
    {
     "name": "stdout",
     "output_type": "stream",
     "text": [
      "Chi^2 Stat:71.60083123448669\n",
      "p-value: 1.9189915652341564e-13\n"
     ]
    },
    {
     "data": {
      "text/markdown": [
       "## Because $\\alpha$ > p,we  reject $H_0$"
      ],
      "text/plain": [
       "<IPython.core.display.Markdown object>"
      ]
     },
     "execution_count": 21,
     "metadata": {},
     "output_type": "execute_result"
    }
   ],
   "source": [
    "# χ^2 test for the word \"go\" and programming language\n",
    "e.title_chi2(df, 'go')"
   ]
  },
  {
   "cell_type": "markdown",
   "id": "still-industry",
   "metadata": {},
   "source": [
    "# Exploration Summary\n",
    "\n",
    "* The name of the language appearing in the README of that languge shows significance.\n",
    "* The length of the README appears to be an indicator of a README's primary language\n",
    "* The words 'awesome','react', and 'go' appear to be indicators of a README's primary language\n",
    "\n",
    "# Features I am moving to modeling With\n",
    "| Feature | Reason | \n",
    "|:--------|:-----------|\n",
    "|**lemmatized_len**| $t-test$ results|\n",
    "|**language name in readme**| $chi^2$ test results|\n",
    "|**repo title words('awesome','react','go')**| $chi^2$ test results|\n",
    "\n",
    "\n",
    "# Features I'm not moving to modeling with\n",
    "| Feature | Reason | \n",
    "|:--------|:-----------|\n",
    "|**repo title**| Using appearance of certain words so don't need the full title|\n",
    "|**username**| Didn't find any significance between username and main programming language|\n",
    "|**README content**|  Using appearance of certain words so don't need the full content|\n",
    "|**idf**| We need more research on how to use this more|"
   ]
  },
  {
   "cell_type": "markdown",
   "id": "sonic-halifax",
   "metadata": {},
   "source": [
    "# Modeling"
   ]
  },
  {
   "cell_type": "code",
   "execution_count": 22,
   "id": "d4cd1e1a",
   "metadata": {},
   "outputs": [],
   "source": [
    "train_x, train_y, valid_x, valid_y,test_x,test_y = m.get_features_and_target(train, validate, test)"
   ]
  },
  {
   "cell_type": "code",
   "execution_count": 23,
   "id": "6c53f387",
   "metadata": {},
   "outputs": [
    {
     "name": "stdout",
     "output_type": "stream",
     "text": [
      "Baseline accuracy: 33.33%\n"
     ]
    }
   ],
   "source": [
    "#baseline based on the percentage of the mode\n",
    "baseline = train_y.value_counts(normalize=True).max()\n",
    "#print results\n",
    "print(f'Baseline accuracy: {baseline:.2%}')"
   ]
  },
  {
   "attachments": {},
   "cell_type": "markdown",
   "id": "median-ceramic",
   "metadata": {},
   "source": [
    "## Results of Models on Train and Validate\n",
    "- Used TFIDF (Term Frequency + Inverse Document Frequency)\n",
    "\n",
    "    - We used both single words and bigrams in feature engineering\n",
    "\n",
    "\n",
    "- Use decision tree, random forest, and gradient boosting classification models"
   ]
  },
  {
   "cell_type": "code",
   "execution_count": 24,
   "id": "41f5b204",
   "metadata": {},
   "outputs": [],
   "source": [
    "# create models\n",
    "xg_boost,random_forest,decision_tree = m.create_models()"
   ]
  },
  {
   "cell_type": "code",
   "execution_count": 25,
   "id": "3b596127",
   "metadata": {},
   "outputs": [
    {
     "data": {
      "text/html": [
       "<div>\n",
       "<style scoped>\n",
       "    .dataframe tbody tr th:only-of-type {\n",
       "        vertical-align: middle;\n",
       "    }\n",
       "\n",
       "    .dataframe tbody tr th {\n",
       "        vertical-align: top;\n",
       "    }\n",
       "\n",
       "    .dataframe thead th {\n",
       "        text-align: right;\n",
       "    }\n",
       "</style>\n",
       "<table border=\"1\" class=\"dataframe\">\n",
       "  <thead>\n",
       "    <tr style=\"text-align: right;\">\n",
       "      <th></th>\n",
       "      <th>Decision Tree</th>\n",
       "      <th>Random Forest</th>\n",
       "      <th>Gradient Boosting</th>\n",
       "    </tr>\n",
       "  </thead>\n",
       "  <tbody>\n",
       "    <tr>\n",
       "      <th>Train</th>\n",
       "      <td>0.989130</td>\n",
       "      <td>0.740942</td>\n",
       "      <td>0.998188</td>\n",
       "    </tr>\n",
       "    <tr>\n",
       "      <th>Validate</th>\n",
       "      <td>0.494118</td>\n",
       "      <td>0.441176</td>\n",
       "      <td>0.623529</td>\n",
       "    </tr>\n",
       "  </tbody>\n",
       "</table>\n",
       "</div>"
      ],
      "text/plain": [
       "          Decision Tree  Random Forest  Gradient Boosting\n",
       "Train          0.989130       0.740942           0.998188\n",
       "Validate       0.494118       0.441176           0.623529"
      ]
     },
     "execution_count": 25,
     "metadata": {},
     "output_type": "execute_result"
    }
   ],
   "source": [
    "# compare models on train and validate\n",
    "m.compare_models(train_x, train_y, valid_x, valid_y, decision_tree, random_forest, xg_boost)"
   ]
  },
  {
   "attachments": {},
   "cell_type": "markdown",
   "id": "vocal-screen",
   "metadata": {},
   "source": [
    "## Best Model on Test\n",
    "- Gradient Boosting Classifier had the best results on Train and validate so we ran that model on our test data."
   ]
  },
  {
   "cell_type": "code",
   "execution_count": 26,
   "id": "7bc8944f",
   "metadata": {},
   "outputs": [
    {
     "data": {
      "text/markdown": [
       "## Accuracy Score: 0.6953125"
      ],
      "text/plain": [
       "<IPython.core.display.Markdown object>"
      ]
     },
     "execution_count": 26,
     "metadata": {},
     "output_type": "execute_result"
    }
   ],
   "source": [
    "m.run_test(test_x,test_y,xg_boost)"
   ]
  },
  {
   "cell_type": "markdown",
   "id": "ideal-wallace",
   "metadata": {},
   "source": [
    "### Modeling Summary\n",
    "\n",
    "* All our models beat the baseline on train and validate\n",
    "* Gradient Boosting Classifier did the best on validate so we ran it on test\n",
    "* On test it performed with 58.6% accuracy beating baseline by **25.4%**"
   ]
  },
  {
   "cell_type": "markdown",
   "id": "random-initial",
   "metadata": {},
   "source": [
    "# Conclusions\n",
    "\n",
    "### Exploration\n",
    "\n",
    "* The name of the language appearing in the README of that languge shows significance.\n",
    "* The length of the README seems to be an indicator of a README's primary language\n",
    "* The words 'awesome','react', and 'go' appearing in the repo title seem to be indicators of a README's primary language"
   ]
  },
  {
   "cell_type": "markdown",
   "id": "romantic-oriental",
   "metadata": {},
   "source": [
    "### Modeling\n",
    "\n",
    "* All our models beat the baseline on train and validate\n",
    "* Gradient Boosting Classifier did the best on validate so we ran it on test\n",
    "* On test it performed with 58.6% accuracy beating baseline by **25.4%**\n",
    "\n",
    "### Recommendations\n",
    "\n",
    "* We suggest to use this model to predict primary programming language for now.\n",
    "* Collect more READMEs for exploration and discovery of indicators of primary programming language \n",
    "\n",
    "### Next Steps\n",
    "* In the next iteration:\n",
    "    * Collect more READMEs to help improve what we base our model on.\n",
    "    * Continue exploration of tf and idf as features to improve our model."
   ]
  },
  {
   "cell_type": "code",
   "execution_count": null,
   "id": "d53de777",
   "metadata": {},
   "outputs": [],
   "source": []
  },
  {
   "cell_type": "code",
   "execution_count": null,
   "id": "bc8989d1",
   "metadata": {},
   "outputs": [],
   "source": []
  }
 ],
 "metadata": {
  "kernelspec": {
   "display_name": "Python 3 (ipykernel)",
   "language": "python",
   "name": "python3"
  },
  "language_info": {
   "codemirror_mode": {
    "name": "ipython",
    "version": 3
   },
   "file_extension": ".py",
   "mimetype": "text/x-python",
   "name": "python",
   "nbconvert_exporter": "python",
   "pygments_lexer": "ipython3",
   "version": "3.9.12"
  },
  "vscode": {
   "interpreter": {
    "hash": "653f3b7eb86bda3113d2d1f85ae6ed711e8a2906aba868c97a03afd554718a6e"
   }
  }
 },
 "nbformat": 4,
 "nbformat_minor": 5
}
