{
 "cells": [
  {
   "cell_type": "markdown",
   "id": "passive-collect",
   "metadata": {},
   "source": [
    "# NLP Project"
   ]
  },
  {
   "cell_type": "markdown",
   "id": "typical-anime",
   "metadata": {},
   "source": [
    "## Project Goals\n",
    "* Webscrape 682 top starred repositories on GitHub and clean the data.\n",
    "* Explore to find features that indicate a specific programming language.\n",
    "* Based on the findings predict the main programming language of an out-of-sample repository."
   ]
  },
  {
   "cell_type": "markdown",
   "id": "recognized-insertion",
   "metadata": {},
   "source": [
    "# Imports"
   ]
  },
  {
   "cell_type": "code",
   "execution_count": 1,
   "id": "following-steam",
   "metadata": {},
   "outputs": [],
   "source": [
    "import pandas as pd\n",
    "import numpy as np\n",
    "\n",
    "import matplotlib.pyplot as plt\n",
    "import seaborn as sns\n",
    "import os\n",
    "\n",
    "import warnings\n",
    "warnings.filterwarnings(\"ignore\")\n",
    "\n",
    "from scipy import stats\n",
    "import re\n",
    "\n",
    "from importlib import reload\n",
    "\n",
    "import acquire as a\n",
    "import prepare as p\n",
    "import explore as e\n",
    "import model as m"
   ]
  },
  {
   "cell_type": "markdown",
   "id": "further-swimming",
   "metadata": {},
   "source": [
    "# Acquire\n",
    "\n",
    "* Data acquired from GitHub starred repos README files"
   ]
  },
  {
   "cell_type": "markdown",
   "id": "strategic-steering",
   "metadata": {},
   "source": [
    "# Prepare\n",
    "\n",
    "**Prepare Actions:**\n",
    "* Determine the top five languages and lump all others as \"Other\" (NULLs have been kept and listed as \"Not Listed\")\n",
    "* README content prep:\n",
    "    * Normalize language (remove any non-ASCII characters aka. other languages)\n",
    "    * Remove all punctuation\n",
    "    * Make all lowercase\n",
    "    * Determine stopwords by looking words that appear evenly across all languages and remove them\n",
    "* Split data into train, validate and test (approx. 60/25/15), stratifying on 'language'\n",
    "* Scaled continuous variable"
   ]
  },
  {
   "cell_type": "markdown",
   "id": "purple-plymouth",
   "metadata": {},
   "source": [
    "## Data dictionary\n",
    "| Feature | Definition | Type |\n",
    "|:--------|:-----------|:-------\n",
    "|**repo**| Name of the repository on GitHub| *string*|\n",
    "|**word_freq**| Number of times a word appears across all README| *float*|\n",
    "|**lemmatized_len**| Number of characters in| *int*|\n",
    "|**username**| Username of GitHub user| *string*|\n",
    "|**Target variable**\n",
    "|**language**| Primary programming language used in the repository | *string* |\n"
   ]
  },
  {
   "cell_type": "code",
   "execution_count": 2,
   "id": "pressing-legislation",
   "metadata": {
    "scrolled": false
   },
   "outputs": [],
   "source": [
    "# acquiring data\n",
    "df = a.acquire_readmes()\n",
    "\n",
    "# prepping data\n",
    "df = p.prep_df_for_nlp(df,'readme_contents')\n",
    "\n",
    "# splitting data into train, validate, and test\n",
    "train, validate, test = p.split_data(df, 'language')"
   ]
  },
  {
   "cell_type": "markdown",
   "id": "tutorial-continuity",
   "metadata": {},
   "source": [
    "## A brief look at the data"
   ]
  },
  {
   "cell_type": "code",
   "execution_count": 3,
   "id": "clear-junior",
   "metadata": {},
   "outputs": [
    {
     "data": {
      "text/html": [
       "<div>\n",
       "<style scoped>\n",
       "    .dataframe tbody tr th:only-of-type {\n",
       "        vertical-align: middle;\n",
       "    }\n",
       "\n",
       "    .dataframe tbody tr th {\n",
       "        vertical-align: top;\n",
       "    }\n",
       "\n",
       "    .dataframe thead th {\n",
       "        text-align: right;\n",
       "    }\n",
       "</style>\n",
       "<table border=\"1\" class=\"dataframe\">\n",
       "  <thead>\n",
       "    <tr style=\"text-align: right;\">\n",
       "      <th></th>\n",
       "      <th>repo</th>\n",
       "      <th>language</th>\n",
       "      <th>readme_contents</th>\n",
       "      <th>clean</th>\n",
       "      <th>stem</th>\n",
       "      <th>lemmatized</th>\n",
       "      <th>username</th>\n",
       "      <th>lemmatized_len</th>\n",
       "    </tr>\n",
       "  </thead>\n",
       "  <tbody>\n",
       "    <tr>\n",
       "      <th>482</th>\n",
       "      <td>awesome actions</td>\n",
       "      <td>Not Listed</td>\n",
       "      <td>&lt;p align=\"center\"&gt;\\n  &lt;br&gt;\\n    &lt;img src=\"awes...</td>\n",
       "      <td>awesome actions awesome github actions status ...</td>\n",
       "      <td>awesom action awesom github action statu sdra ...</td>\n",
       "      <td>awesome action awesome github action status sd...</td>\n",
       "      <td>sdras</td>\n",
       "      <td>17532</td>\n",
       "    </tr>\n",
       "    <tr>\n",
       "      <th>646</th>\n",
       "      <td>InstaPy</td>\n",
       "      <td>Python</td>\n",
       "      <td>&lt;p align=\"center\"&gt;\\n  &lt;img src=\"https://i.imgu...</td>\n",
       "      <td>instapy tooling automates social media interac...</td>\n",
       "      <td>instapi tool autom social media interact farm ...</td>\n",
       "      <td>instapy tooling automates social medium intera...</td>\n",
       "      <td>InstaPy</td>\n",
       "      <td>872</td>\n",
       "    </tr>\n",
       "    <tr>\n",
       "      <th>474</th>\n",
       "      <td>osquery</td>\n",
       "      <td>Other</td>\n",
       "      <td># osquery\\n\\n&lt;p align=\"center\"&gt;\\n&lt;img alt=\"osq...</td>\n",
       "      <td>osquery altosquery logo width200 src osquery s...</td>\n",
       "      <td>osqueri altosqueri logo width200 src osqueri s...</td>\n",
       "      <td>osquery altosquery logo width200 src osquery s...</td>\n",
       "      <td>osquery</td>\n",
       "      <td>3064</td>\n",
       "    </tr>\n",
       "    <tr>\n",
       "      <th>545</th>\n",
       "      <td>Best App</td>\n",
       "      <td>Not Listed</td>\n",
       "      <td>\\nBest App\\n----\\n\\n*经常会有朋友想知道有哪些 Apps 或 服务 是值...</td>\n",
       "      <td>best app apps bestapp ios app app starpull req...</td>\n",
       "      <td>best app app bestapp io app app starpul reques...</td>\n",
       "      <td>best app apps bestapp io app app starpull requ...</td>\n",
       "      <td>hzlzh</td>\n",
       "      <td>3646</td>\n",
       "    </tr>\n",
       "    <tr>\n",
       "      <th>539</th>\n",
       "      <td>actix web</td>\n",
       "      <td>Other</td>\n",
       "      <td>actix-web/README.md</td>\n",
       "      <td>actixweb readmemd</td>\n",
       "      <td>actixweb readmemd</td>\n",
       "      <td>actixweb readmemd</td>\n",
       "      <td>actix</td>\n",
       "      <td>17</td>\n",
       "    </tr>\n",
       "  </tbody>\n",
       "</table>\n",
       "</div>"
      ],
      "text/plain": [
       "                repo    language  \\\n",
       "482  awesome actions  Not Listed   \n",
       "646          InstaPy      Python   \n",
       "474          osquery       Other   \n",
       "545         Best App  Not Listed   \n",
       "539        actix web       Other   \n",
       "\n",
       "                                       readme_contents  \\\n",
       "482  <p align=\"center\">\\n  <br>\\n    <img src=\"awes...   \n",
       "646  <p align=\"center\">\\n  <img src=\"https://i.imgu...   \n",
       "474  # osquery\\n\\n<p align=\"center\">\\n<img alt=\"osq...   \n",
       "545  \\nBest App\\n----\\n\\n*经常会有朋友想知道有哪些 Apps 或 服务 是值...   \n",
       "539                                actix-web/README.md   \n",
       "\n",
       "                                                 clean  \\\n",
       "482  awesome actions awesome github actions status ...   \n",
       "646  instapy tooling automates social media interac...   \n",
       "474  osquery altosquery logo width200 src osquery s...   \n",
       "545  best app apps bestapp ios app app starpull req...   \n",
       "539                                  actixweb readmemd   \n",
       "\n",
       "                                                  stem  \\\n",
       "482  awesom action awesom github action statu sdra ...   \n",
       "646  instapi tool autom social media interact farm ...   \n",
       "474  osqueri altosqueri logo width200 src osqueri s...   \n",
       "545  best app app bestapp io app app starpul reques...   \n",
       "539                                  actixweb readmemd   \n",
       "\n",
       "                                            lemmatized username  \\\n",
       "482  awesome action awesome github action status sd...    sdras   \n",
       "646  instapy tooling automates social medium intera...  InstaPy   \n",
       "474  osquery altosquery logo width200 src osquery s...  osquery   \n",
       "545  best app apps bestapp io app app starpull requ...    hzlzh   \n",
       "539                                  actixweb readmemd    actix   \n",
       "\n",
       "     lemmatized_len  \n",
       "482           17532  \n",
       "646             872  \n",
       "474            3064  \n",
       "545            3646  \n",
       "539              17  "
      ]
     },
     "execution_count": 3,
     "metadata": {},
     "output_type": "execute_result"
    }
   ],
   "source": [
    "# show the first 5 rows of the data\n",
    "train.head()"
   ]
  },
  {
   "cell_type": "markdown",
   "id": "local-paper",
   "metadata": {},
   "source": [
    "# Explore"
   ]
  },
  {
   "cell_type": "code",
   "execution_count": 4,
   "id": "9e07659d",
   "metadata": {
    "scrolled": true
   },
   "outputs": [
    {
     "data": {
      "image/png": "[encoded data removed]",
      "text/plain": [
       "<Figure size 1440x720 with 1 Axes>"
      ]
     },
     "metadata": {
      "needs_background": "light"
     },
     "output_type": "display_data"
    }
   ],
   "source": [
    "# Distribution of READMEs across languages\n",
    "e.language_distribution(train)"
   ]
  },
  {
   "cell_type": "markdown",
   "id": "considerable-attendance",
   "metadata": {},
   "source": [
    "## Does the name of the programming language appearing in the README indicate the main programming language?"
   ]
  },
  {
   "cell_type": "markdown",
   "id": "a168c783",
   "metadata": {},
   "source": [
    "### JavaScript?"
   ]
  },
  {
   "cell_type": "code",
   "execution_count": 5,
   "id": "26c6bd6f",
   "metadata": {
    "scrolled": true
   },
   "outputs": [
    {
     "data": {
      "text/markdown": [
       "## Because $\\alpha$ > p,we  reject $H_0$"
      ],
      "text/plain": [
       "<IPython.core.display.Markdown object>"
      ]
     },
     "execution_count": 5,
     "metadata": {},
     "output_type": "execute_result"
    }
   ],
   "source": [
    "# χ^2 test for appearance of word 'javascript' in JavaScript READMEs\n",
    "e.language_name_chi2(df, 'JavaScript')"
   ]
  },
  {
   "cell_type": "markdown",
   "id": "f6538bd9",
   "metadata": {},
   "source": [
    "### TypeScript?"
   ]
  },
  {
   "cell_type": "code",
   "execution_count": 6,
   "id": "5f490f0f",
   "metadata": {
    "scrolled": true
   },
   "outputs": [
    {
     "data": {
      "text/markdown": [
       "## Because $\\alpha$ > p,we  reject $H_0$"
      ],
      "text/plain": [
       "<IPython.core.display.Markdown object>"
      ]
     },
     "execution_count": 6,
     "metadata": {},
     "output_type": "execute_result"
    }
   ],
   "source": [
    "# χ^2 test for appearance of word 'typescript' in TypeScript READMEs\n",
    "e.language_name_chi2(df, 'TypeScript')"
   ]
  },
  {
   "cell_type": "markdown",
   "id": "b88f0854",
   "metadata": {},
   "source": [
    "### Go?"
   ]
  },
  {
   "cell_type": "code",
   "execution_count": 7,
   "id": "3c6a1d72",
   "metadata": {
    "scrolled": true
   },
   "outputs": [
    {
     "data": {
      "text/markdown": [
       "## Because $\\alpha$ > p,we  reject $H_0$"
      ],
      "text/plain": [
       "<IPython.core.display.Markdown object>"
      ]
     },
     "execution_count": 7,
     "metadata": {},
     "output_type": "execute_result"
    }
   ],
   "source": [
    "# χ^2 test for appearance of word 'go' in Go READMEs\n",
    "e.language_name_chi2(df, 'Go')"
   ]
  },
  {
   "cell_type": "markdown",
   "id": "b701c702",
   "metadata": {},
   "source": [
    "### Python?"
   ]
  },
  {
   "cell_type": "code",
   "execution_count": 8,
   "id": "2a10c0a8",
   "metadata": {
    "scrolled": false
   },
   "outputs": [
    {
     "data": {
      "text/markdown": [
       "## Because $\\alpha$ > p,we  reject $H_0$"
      ],
      "text/plain": [
       "<IPython.core.display.Markdown object>"
      ]
     },
     "execution_count": 8,
     "metadata": {},
     "output_type": "execute_result"
    }
   ],
   "source": [
    "# χ^2 test for appearance of word 'python' in Python READMEs\n",
    "e.language_name_chi2(df, 'Python')"
   ]
  },
  {
   "cell_type": "markdown",
   "id": "0aa9176d",
   "metadata": {},
   "source": [
    "### Java?"
   ]
  },
  {
   "cell_type": "code",
   "execution_count": 9,
   "id": "5e740658",
   "metadata": {
    "scrolled": true
   },
   "outputs": [
    {
     "data": {
      "text/markdown": [
       "## Because $\\alpha$ > p,we  reject $H_0$"
      ],
      "text/plain": [
       "<IPython.core.display.Markdown object>"
      ]
     },
     "execution_count": 9,
     "metadata": {},
     "output_type": "execute_result"
    }
   ],
   "source": [
    "# χ^2 test for appearance of word 'java' in Java READMEs\n",
    "e.language_name_chi2(df, 'Java')"
   ]
  },
  {
   "cell_type": "code",
   "execution_count": 10,
   "id": "0a84a733",
   "metadata": {},
   "outputs": [
    {
     "data": {
      "image/png": "[encoded data removed]",
      "text/plain": [
       "<Figure size 1440x720 with 1 Axes>"
      ]
     },
     "metadata": {
      "needs_background": "light"
     },
     "output_type": "display_data"
    }
   ],
   "source": [
    "# Show the percentage of each word's appearance in the READMEs\n",
    "e.language_name_percentage_plot(train)"
   ]
  },
  {
   "cell_type": "markdown",
   "id": "wound-gothic",
   "metadata": {},
   "source": [
    "## Does the frequency of a certain word within a README indicate the main programming language?"
   ]
  },
  {
   "cell_type": "code",
   "execution_count": 11,
   "id": "d798258c",
   "metadata": {},
   "outputs": [
    {
     "data": {
      "text/plain": [
       "count    46023.000000\n",
       "mean         6.140426\n",
       "std          0.651265\n",
       "min          1.359252\n",
       "25%          6.402677\n",
       "50%          6.402677\n",
       "75%          6.402677\n",
       "max          6.402677\n",
       "dtype: float64"
      ]
     },
     "execution_count": 11,
     "metadata": {},
     "output_type": "execute_result"
    }
   ],
   "source": [
    "# Print the idf_values.describe()\n",
    "e.get_idf(train)"
   ]
  },
  {
   "cell_type": "markdown",
   "id": "5adc0a66",
   "metadata": {},
   "source": [
    "## Does the length of the README indicate the main programming language?"
   ]
  },
  {
   "cell_type": "code",
   "execution_count": 12,
   "id": "6ea019cf",
   "metadata": {},
   "outputs": [
    {
     "data": {
      "image/png": "[encoded data removed]",
      "text/plain": [
       "<Figure size 1440x720 with 1 Axes>"
      ]
     },
     "metadata": {
      "needs_background": "light"
     },
     "output_type": "display_data"
    }
   ],
   "source": [
    "# Show the length of each README by programming language\n",
    "e.readme_len_plot(train)"
   ]
  },
  {
   "cell_type": "code",
   "execution_count": 13,
   "id": "6a54a577",
   "metadata": {},
   "outputs": [
    {
     "data": {
      "text/markdown": [
       "## Because $\\alpha$ > p,we  reject $H_0$"
      ],
      "text/plain": [
       "<IPython.core.display.Markdown object>"
      ]
     },
     "execution_count": 13,
     "metadata": {},
     "output_type": "execute_result"
    }
   ],
   "source": [
    "# Kruscal test for length of README\n",
    "e.readme_len_kruskal(train)"
   ]
  },
  {
   "cell_type": "markdown",
   "id": "agreed-finance",
   "metadata": {},
   "source": [
    "## Does a certain word appearing in the repo title indicate the main programming language?"
   ]
  },
  {
   "cell_type": "code",
   "execution_count": 14,
   "id": "ed83455e",
   "metadata": {},
   "outputs": [
    {
     "data": {
      "text/html": [
       "<div>\n",
       "<style scoped>\n",
       "    .dataframe tbody tr th:only-of-type {\n",
       "        vertical-align: middle;\n",
       "    }\n",
       "\n",
       "    .dataframe tbody tr th {\n",
       "        vertical-align: top;\n",
       "    }\n",
       "\n",
       "    .dataframe thead th {\n",
       "        text-align: right;\n",
       "    }\n",
       "</style>\n",
       "<table border=\"1\" class=\"dataframe\">\n",
       "  <thead>\n",
       "    <tr style=\"text-align: right;\">\n",
       "      <th></th>\n",
       "      <th>all</th>\n",
       "      <th>javascript</th>\n",
       "      <th>typescript</th>\n",
       "      <th>go</th>\n",
       "      <th>python</th>\n",
       "      <th>java</th>\n",
       "      <th>other</th>\n",
       "      <th>not_listed</th>\n",
       "    </tr>\n",
       "  </thead>\n",
       "  <tbody>\n",
       "    <tr>\n",
       "      <th>awesome</th>\n",
       "      <td>14</td>\n",
       "      <td>1</td>\n",
       "      <td>0</td>\n",
       "      <td>0</td>\n",
       "      <td>0</td>\n",
       "      <td>0</td>\n",
       "      <td>2</td>\n",
       "      <td>11</td>\n",
       "    </tr>\n",
       "    <tr>\n",
       "      <th>go</th>\n",
       "      <td>3</td>\n",
       "      <td>0</td>\n",
       "      <td>0</td>\n",
       "      <td>2</td>\n",
       "      <td>0</td>\n",
       "      <td>0</td>\n",
       "      <td>1</td>\n",
       "      <td>0</td>\n",
       "    </tr>\n",
       "    <tr>\n",
       "      <th>react</th>\n",
       "      <td>14</td>\n",
       "      <td>7</td>\n",
       "      <td>6</td>\n",
       "      <td>0</td>\n",
       "      <td>0</td>\n",
       "      <td>0</td>\n",
       "      <td>1</td>\n",
       "      <td>0</td>\n",
       "    </tr>\n",
       "  </tbody>\n",
       "</table>\n",
       "</div>"
      ],
      "text/plain": [
       "         all  javascript  typescript  go  python  java  other  not_listed\n",
       "awesome   14           1           0   0       0     0      2          11\n",
       "go         3           0           0   2       0     0      1           0\n",
       "react     14           7           6   0       0     0      1           0"
      ]
     },
     "execution_count": 14,
     "metadata": {},
     "output_type": "execute_result"
    }
   ],
   "source": [
    "e.percentage_of_language_per_word(train)"
   ]
  },
  {
   "cell_type": "code",
   "execution_count": 15,
   "id": "783db2c2",
   "metadata": {},
   "outputs": [
    {
     "data": {
      "text/markdown": [
       "## Because $\\alpha$ > p,we  reject $H_0$"
      ],
      "text/plain": [
       "<IPython.core.display.Markdown object>"
      ]
     },
     "execution_count": 15,
     "metadata": {},
     "output_type": "execute_result"
    }
   ],
   "source": [
    "# χ^2 test for the word \"awesome\" and programming language\n",
    "e.title_chi2(df, 'awesome')"
   ]
  },
  {
   "cell_type": "code",
   "execution_count": 16,
   "id": "2644a985",
   "metadata": {},
   "outputs": [
    {
     "data": {
      "text/markdown": [
       "## Because $\\alpha$ > p,we  reject $H_0$"
      ],
      "text/plain": [
       "<IPython.core.display.Markdown object>"
      ]
     },
     "execution_count": 16,
     "metadata": {},
     "output_type": "execute_result"
    }
   ],
   "source": [
    "# χ^2 test for the word \"react\" and programming language\n",
    "e.title_chi2(df, 'react')"
   ]
  },
  {
   "cell_type": "code",
   "execution_count": 17,
   "id": "fd02ec45",
   "metadata": {},
   "outputs": [
    {
     "data": {
      "text/markdown": [
       "## Because $\\alpha$ > p,we  reject $H_0$"
      ],
      "text/plain": [
       "<IPython.core.display.Markdown object>"
      ]
     },
     "execution_count": 17,
     "metadata": {},
     "output_type": "execute_result"
    }
   ],
   "source": [
    "# χ^2 test for the word \"go\" and programming language\n",
    "e.title_chi2(df, 'go')"
   ]
  },
  {
   "cell_type": "markdown",
   "id": "still-industry",
   "metadata": {},
   "source": [
    "# Exploration Summary\n",
    "\n",
    "* The name of the language appearing in the README of that languge shows significance.\n",
    "* The length of the README appears to be an indicator of a README's primary language\n",
    "* The words 'awesome','react', and 'go' appear to be indicators of a README's primary language\n",
    "\n",
    "# Features I am moving to modeling With\n",
    "| Feature | Reason | \n",
    "|:--------|:-----------|\n",
    "|**lemmatized_len**| $t-test$ results|\n",
    "|**language name in readme**| $chi^2$ test results|\n",
    "|**repo title words('awesome','react','go')**| $chi^2$ test results|\n",
    "\n",
    "\n",
    "# Features I'm not moving to modeling with\n",
    "| Feature | Reason | \n",
    "|:--------|:-----------|\n",
    "|**repo title**| Using appearance of certain words so don't need the full title|\n",
    "|**username**| Didn't find any significance between username and main programming language|\n",
    "|**README content**|  Using appearance of certain words so don't need the full content|\n",
    "|**idf**| We need more research on how to use this more|"
   ]
  },
  {
   "cell_type": "markdown",
   "id": "sonic-halifax",
   "metadata": {},
   "source": [
    "# Modeling"
   ]
  },
  {
   "cell_type": "code",
   "execution_count": 19,
   "id": "b5a9c437",
   "metadata": {},
   "outputs": [],
   "source": [
    "from sklearn.preprocessing import MinMaxScaler"
   ]
  },
  {
   "cell_type": "code",
   "execution_count": 20,
   "id": "954ce655",
   "metadata": {},
   "outputs": [],
   "source": [
    "# encode_has_language\n",
    "train_x = m.encode_has_language(train)\n",
    "valid_x = m.encode_has_language(validate)\n",
    "#scale lemmatized_len\n",
    "scaler = MinMaxScaler()\n",
    "scaled_valid = m.scale(validate.lemmatized_len,scaler)\n",
    "scaled_train = m.scale(train.lemmatized_len,scaler)\n",
    "#concat scaled_train and encoded_has_language\n",
    "train_x = pd.concat([scaled_train,train_x],axis=1)\n",
    "train_y = train.language\n",
    "valid_x = pd.concat([scaled_valid,valid_x],axis=1)\n",
    "valid_y = validate.language"
   ]
  },
  {
   "cell_type": "code",
   "execution_count": 21,
   "id": "6c53f387",
   "metadata": {},
   "outputs": [
    {
     "name": "stdout",
     "output_type": "stream",
     "text": [
      "Baseline accuracy: 33.18%\n"
     ]
    }
   ],
   "source": [
    "#baseline based on the percentage of the mode\n",
    "baseline = train_y.value_counts(normalize=True).max()\n",
    "#print results\n",
    "print(f'Baseline accuracy: {baseline:.2%}')"
   ]
  },
  {
   "cell_type": "markdown",
   "id": "median-ceramic",
   "metadata": {},
   "source": [
    "## Decision Tree"
   ]
  },
  {
   "cell_type": "markdown",
   "id": "completed-pottery",
   "metadata": {},
   "source": [
    "* Decision Tree accuracy is about equal to the baseline"
   ]
  },
  {
   "cell_type": "code",
   "execution_count": null,
   "id": "ce76aa4b",
   "metadata": {},
   "outputs": [],
   "source": [
    "# dt_train, dt_valid = m.tune_random_forest(train_x,train_y,valid_x,valid_y)"
   ]
  },
  {
   "cell_type": "markdown",
   "id": "ultimate-strength",
   "metadata": {},
   "source": [
    "## Random Forest"
   ]
  },
  {
   "cell_type": "markdown",
   "id": "plastic-oxygen",
   "metadata": {},
   "source": [
    "* Random Forest accuracy is about equal to the baseline"
   ]
  },
  {
   "cell_type": "code",
   "execution_count": null,
   "id": "ddc58deb",
   "metadata": {},
   "outputs": [],
   "source": [
    "rf_train, rf_valid = m.tune_random_forest(train_x,train_y,valid_x,valid_y,max_depth=(2,31,1))"
   ]
  },
  {
   "cell_type": "markdown",
   "id": "persistent-algorithm",
   "metadata": {},
   "source": [
    "## XGBoost"
   ]
  },
  {
   "cell_type": "markdown",
   "id": "blank-station",
   "metadata": {},
   "source": [
    "* Logistic regression accuracy is about equal to the baseline\n"
   ]
  },
  {
   "cell_type": "markdown",
   "id": "ruled-denmark",
   "metadata": {},
   "source": [
    "# Comparing Models\n",
    "\n",
    "* ???"
   ]
  },
  {
   "cell_type": "markdown",
   "id": "vocal-screen",
   "metadata": {},
   "source": [
    "## Best Model on Test"
   ]
  },
  {
   "cell_type": "markdown",
   "id": "ideal-wallace",
   "metadata": {},
   "source": [
    "### Modeling Summary\n",
    "\n",
    "* "
   ]
  },
  {
   "cell_type": "markdown",
   "id": "random-initial",
   "metadata": {},
   "source": [
    "# Conclusions\n",
    "\n",
    "### Exploration\n",
    "\n",
    "* The name of the language appearing in the README of that languge shows significance.\n",
    "* The length of the README seems to be an indicator of a README's primary language\n",
    "* The words 'awesome','react', and 'go' appearing in the repo title seem to be indicators of a README's primary language"
   ]
  },
  {
   "cell_type": "markdown",
   "id": "romantic-oriental",
   "metadata": {},
   "source": [
    "### Modeling\n",
    "\n",
    "**The final model failed to significantly outperform the baseline. Possible reasons include:**\n",
    "* ?????\n",
    "\n",
    "### Recommendations\n",
    "\n",
    "* ???\n",
    "\n",
    "### Next Steps\n",
    "* In the next iteration:\n",
    "    * Collect more READMEs to help improve what we base our model on.\n",
    "    * Continue exploration of tf and idf as features to improve our model."
   ]
  },
  {
   "cell_type": "code",
   "execution_count": null,
   "id": "ca02a2a7",
   "metadata": {},
   "outputs": [],
   "source": []
  }
 ],
 "metadata": {
  "kernelspec": {
   "display_name": "Python 3 (ipykernel)",
   "language": "python",
   "name": "python3"
  },
  "language_info": {
   "codemirror_mode": {
    "name": "ipython",
    "version": 3
   },
   "file_extension": ".py",
   "mimetype": "text/x-python",
   "name": "python",
   "nbconvert_exporter": "python",
   "pygments_lexer": "ipython3",
   "version": "3.9.12"
  }
 },
 "nbformat": 4,
 "nbformat_minor": 5
}
