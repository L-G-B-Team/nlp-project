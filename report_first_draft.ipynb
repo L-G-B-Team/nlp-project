{
 "cells": [
  {
   "cell_type": "markdown",
   "id": "passive-collect",
   "metadata": {},
   "source": [
    "# NLP Project"
   ]
  },
  {
   "cell_type": "markdown",
   "id": "typical-anime",
   "metadata": {},
   "source": [
    "## Project Goals\n",
    "* Webscrape 682 top starred repositories on GitHub and clean the data.\n",
    "* Explore to find features that indicate a specific programming language.\n",
    "* Based on the findings predict the main programming language of an out-of-sample repository."
   ]
  },
  {
   "cell_type": "markdown",
   "id": "recognized-insertion",
   "metadata": {},
   "source": [
    "# Imports"
   ]
  },
  {
   "cell_type": "code",
   "execution_count": 1,
   "id": "following-steam",
   "metadata": {},
   "outputs": [],
   "source": [
    "import pandas as pd\n",
    "import numpy as np\n",
    "\n",
    "import matplotlib.pyplot as plt\n",
    "import seaborn as sns\n",
    "import os\n",
    "\n",
    "import warnings\n",
    "warnings.filterwarnings(\"ignore\")\n",
    "\n",
    "from scipy import stats\n",
    "import re\n",
    "\n",
    "import acquire as a\n",
    "import prepare as p\n",
    "import explore as e\n",
    "#import modeling as m"
   ]
  },
  {
   "cell_type": "markdown",
   "id": "further-swimming",
   "metadata": {},
   "source": [
    "# Acquire\n",
    "\n",
    "* Data acquired from GitHub starred repos README files"
   ]
  },
  {
   "cell_type": "markdown",
   "id": "strategic-steering",
   "metadata": {},
   "source": [
    "# Prepare\n",
    "\n",
    "**Prepare Actions:**\n",
    "* Determine the top five languages and lump all others as \"Other\" (NULLs have been kept and listed as \"Not Listed\")\n",
    "* README content prep:\n",
    "    * Normalize language (remove any non-ASCII characters aka. other languages)\n",
    "    * Remove all punctuation\n",
    "    * Make all lowercase\n",
    "    * Determine stopwords by looking words that appear evenly across all languages and remove them\n",
    "* Split data into train, validate and test (approx. 60/25/15), stratifying on 'language'\n",
    "* Scaled continuous variable"
   ]
  },
  {
   "cell_type": "markdown",
   "id": "purple-plymouth",
   "metadata": {},
   "source": [
    "## Data dictionary\n",
    "| Feature | Definition | Type |\n",
    "|:--------|:-----------|:-------\n",
    "|**repo**| Name of the repository on GitHub| *string*|\n",
    "|**word_freq**| Number of times a word appears across all README| *float*|\n",
    "|**lemmatized_len**| Number of characters in| *int*|\n",
    "|**username**| Username of GitHub user| *string*|\n",
    "|**???**| Definition| *type*|\n",
    "|**???**| Definition| *type*|\n",
    "|**???**| Definition| *type*|\n",
    "|**Target variable**\n",
    "|**language**| Primary programming language used in the repository | *string* |\n"
   ]
  },
  {
   "cell_type": "code",
   "execution_count": 2,
   "id": "pressing-legislation",
   "metadata": {
    "scrolled": false
   },
   "outputs": [],
   "source": [
    "# acquiring data\n",
    "df = a.acquire_readmes()\n",
    "\n",
    "# prepping data\n",
    "df = p.prep_df_for_nlp(df,'readme_contents',extra_words=p.EXTRA_WORDS)\n",
    "\n",
    "# splitting data into train, validate, and test\n",
    "train, validate, test = p.split_data(df, 'language')"
   ]
  },
  {
   "cell_type": "markdown",
   "id": "tutorial-continuity",
   "metadata": {},
   "source": [
    "## A brief look at the data"
   ]
  },
  {
   "cell_type": "code",
   "execution_count": 3,
   "id": "clear-junior",
   "metadata": {},
   "outputs": [
    {
     "data": {
      "text/html": [
       "<div>\n",
       "<style scoped>\n",
       "    .dataframe tbody tr th:only-of-type {\n",
       "        vertical-align: middle;\n",
       "    }\n",
       "\n",
       "    .dataframe tbody tr th {\n",
       "        vertical-align: top;\n",
       "    }\n",
       "\n",
       "    .dataframe thead th {\n",
       "        text-align: right;\n",
       "    }\n",
       "</style>\n",
       "<table border=\"1\" class=\"dataframe\">\n",
       "  <thead>\n",
       "    <tr style=\"text-align: right;\">\n",
       "      <th></th>\n",
       "      <th>repo</th>\n",
       "      <th>language</th>\n",
       "      <th>readme_contents</th>\n",
       "      <th>clean</th>\n",
       "      <th>stem</th>\n",
       "      <th>lemmatized</th>\n",
       "      <th>username</th>\n",
       "      <th>lemmatized_len</th>\n",
       "    </tr>\n",
       "  </thead>\n",
       "  <tbody>\n",
       "    <tr>\n",
       "      <th>482</th>\n",
       "      <td>awesome-actions</td>\n",
       "      <td>Not Listed</td>\n",
       "      <td>&lt;p align=\"center\"&gt;\\n  &lt;br&gt;\\n    &lt;img src=\"awes...</td>\n",
       "      <td>p aligncenter br srcawesomeactionspng width150...</td>\n",
       "      <td>p aligncent br srcawesomeactionspng width150 b...</td>\n",
       "      <td>p aligncenter br srcawesomeactionspng width150...</td>\n",
       "      <td>sdras</td>\n",
       "      <td>34287</td>\n",
       "    </tr>\n",
       "    <tr>\n",
       "      <th>646</th>\n",
       "      <td>InstaPy</td>\n",
       "      <td>Python</td>\n",
       "      <td>&lt;p align=\"center\"&gt;\\n  &lt;img src=\"https://i.imgu...</td>\n",
       "      <td>p aligncenter srchttpsiimgurcomsjzfzsljpg widt...</td>\n",
       "      <td>p aligncent srchttpsiimgurcomsjzfzsljpg width1...</td>\n",
       "      <td>p aligncenter srchttpsiimgurcomsjzfzsljpg widt...</td>\n",
       "      <td>InstaPy</td>\n",
       "      <td>2643</td>\n",
       "    </tr>\n",
       "    <tr>\n",
       "      <th>474</th>\n",
       "      <td>osquery</td>\n",
       "      <td>Other</td>\n",
       "      <td># osquery\\n\\n&lt;p align=\"center\"&gt;\\n&lt;img alt=\"osq...</td>\n",
       "      <td>osquery p aligncenter altosquery logo width200...</td>\n",
       "      <td>osqueri p aligncent altosqueri logo width200 s...</td>\n",
       "      <td>osquery p aligncenter altosquery logo width200...</td>\n",
       "      <td>osquery</td>\n",
       "      <td>4604</td>\n",
       "    </tr>\n",
       "    <tr>\n",
       "      <th>545</th>\n",
       "      <td>Best-App</td>\n",
       "      <td>Not Listed</td>\n",
       "      <td>\\nBest App\\n----\\n\\n*经常会有朋友想知道有哪些 Apps 或 服务 是值...</td>\n",
       "      <td>best app apps bestapp ios app httpsappsappleco...</td>\n",
       "      <td>best app app bestapp io app httpsappsapplecomc...</td>\n",
       "      <td>best app apps bestapp io app httpsappsapplecom...</td>\n",
       "      <td>hzlzh</td>\n",
       "      <td>17437</td>\n",
       "    </tr>\n",
       "    <tr>\n",
       "      <th>539</th>\n",
       "      <td>actix-web</td>\n",
       "      <td>Other</td>\n",
       "      <td>actix-web/README.md</td>\n",
       "      <td>actixwebreadmemd</td>\n",
       "      <td>actixwebreadmemd</td>\n",
       "      <td>actixwebreadmemd</td>\n",
       "      <td>actix</td>\n",
       "      <td>16</td>\n",
       "    </tr>\n",
       "  </tbody>\n",
       "</table>\n",
       "</div>"
      ],
      "text/plain": [
       "                repo    language  \\\n",
       "482  awesome-actions  Not Listed   \n",
       "646          InstaPy      Python   \n",
       "474          osquery       Other   \n",
       "545         Best-App  Not Listed   \n",
       "539        actix-web       Other   \n",
       "\n",
       "                                       readme_contents  \\\n",
       "482  <p align=\"center\">\\n  <br>\\n    <img src=\"awes...   \n",
       "646  <p align=\"center\">\\n  <img src=\"https://i.imgu...   \n",
       "474  # osquery\\n\\n<p align=\"center\">\\n<img alt=\"osq...   \n",
       "545  \\nBest App\\n----\\n\\n*经常会有朋友想知道有哪些 Apps 或 服务 是值...   \n",
       "539                                actix-web/README.md   \n",
       "\n",
       "                                                 clean  \\\n",
       "482  p aligncenter br srcawesomeactionspng width150...   \n",
       "646  p aligncenter srchttpsiimgurcomsjzfzsljpg widt...   \n",
       "474  osquery p aligncenter altosquery logo width200...   \n",
       "545  best app apps bestapp ios app httpsappsappleco...   \n",
       "539                                   actixwebreadmemd   \n",
       "\n",
       "                                                  stem  \\\n",
       "482  p aligncent br srcawesomeactionspng width150 b...   \n",
       "646  p aligncent srchttpsiimgurcomsjzfzsljpg width1...   \n",
       "474  osqueri p aligncent altosqueri logo width200 s...   \n",
       "545  best app app bestapp io app httpsappsapplecomc...   \n",
       "539                                   actixwebreadmemd   \n",
       "\n",
       "                                            lemmatized username  \\\n",
       "482  p aligncenter br srcawesomeactionspng width150...    sdras   \n",
       "646  p aligncenter srchttpsiimgurcomsjzfzsljpg widt...  InstaPy   \n",
       "474  osquery p aligncenter altosquery logo width200...  osquery   \n",
       "545  best app apps bestapp io app httpsappsapplecom...    hzlzh   \n",
       "539                                   actixwebreadmemd    actix   \n",
       "\n",
       "     lemmatized_len  \n",
       "482           34287  \n",
       "646            2643  \n",
       "474            4604  \n",
       "545           17437  \n",
       "539              16  "
      ]
     },
     "execution_count": 3,
     "metadata": {},
     "output_type": "execute_result"
    }
   ],
   "source": [
    "train.head()"
   ]
  },
  {
   "cell_type": "markdown",
   "id": "local-paper",
   "metadata": {},
   "source": [
    "# Explore"
   ]
  },
  {
   "cell_type": "markdown",
   "id": "considerable-attendance",
   "metadata": {},
   "source": [
    "## Does the name of the programming language appearing in the README indicate the main programming language?"
   ]
  },
  {
   "cell_type": "code",
   "execution_count": null,
   "id": "7b0106cf",
   "metadata": {},
   "outputs": [],
   "source": []
  },
  {
   "cell_type": "markdown",
   "id": "wound-gothic",
   "metadata": {},
   "source": [
    "## Does the frequency of a certain word within a README indicate the main programming language?"
   ]
  },
  {
   "cell_type": "code",
   "execution_count": null,
   "id": "95ac76f1",
   "metadata": {},
   "outputs": [],
   "source": []
  },
  {
   "cell_type": "markdown",
   "id": "environmental-longitude",
   "metadata": {},
   "source": [
    "## Does the length of the README indicate the main programming language?"
   ]
  },
  {
   "cell_type": "code",
   "execution_count": 5,
   "id": "b5e8ee0f",
   "metadata": {},
   "outputs": [
    {
     "data": {
      "text/plain": [
       "<AxesSubplot:xlabel='language', ylabel='lemmatized_len'>"
      ]
     },
     "execution_count": 5,
     "metadata": {},
     "output_type": "execute_result"
    },
    {
     "data": {
      "image/png": "[encoded data removed]",
      "text/plain": [
       "<Figure size 432x288 with 1 Axes>"
      ]
     },
     "metadata": {
      "needs_background": "light"
     },
     "output_type": "display_data"
    }
   ],
   "source": [
    "sns.barplot(x=\"language\", y=\"lemmatized_len\", data=train, palette='pastel')"
   ]
  },
  {
   "cell_type": "code",
   "execution_count": 12,
   "id": "e158a738",
   "metadata": {},
   "outputs": [],
   "source": [
    "go, java, javascript, not_listed, other, python, typescript = e.split_by_language(train)"
   ]
  },
  {
   "cell_type": "code",
   "execution_count": 14,
   "id": "fda0834d",
   "metadata": {},
   "outputs": [],
   "source": [
    "stat, p = stats.kruskal(go.lemmatized_len, java.lemmatized_len, javascript.lemmatized_len, not_listed.lemmatized_len, other.lemmatized_len, python.lemmatized_len, typescript.lemmatized_len)"
   ]
  },
  {
   "cell_type": "code",
   "execution_count": 16,
   "id": "e30fd065",
   "metadata": {
    "scrolled": true
   },
   "outputs": [
    {
     "data": {
      "text/markdown": [
       "## Because $\\alpha$ > p,we  reject $H_0$"
      ],
      "text/plain": [
       "<IPython.core.display.Markdown object>"
      ]
     },
     "execution_count": 16,
     "metadata": {},
     "output_type": "execute_result"
    }
   ],
   "source": [
    "e.p_to_md(p)"
   ]
  },
  {
   "cell_type": "code",
   "execution_count": null,
   "id": "f91d3c89",
   "metadata": {},
   "outputs": [],
   "source": []
  },
  {
   "cell_type": "markdown",
   "id": "agreed-finance",
   "metadata": {},
   "source": [
    "## Does the repo title indicate the main programming language?"
   ]
  },
  {
   "cell_type": "code",
   "execution_count": null,
   "id": "783db2c2",
   "metadata": {},
   "outputs": [],
   "source": []
  },
  {
   "cell_type": "markdown",
   "id": "still-industry",
   "metadata": {},
   "source": [
    "# Exploration Summary\n",
    "\n",
    "* ?????\n",
    "\n",
    "# Features I am moving to modeling With\n",
    "* ?????\n",
    "\n",
    "# Features I'm not moving to modeling with\n",
    "* ????? "
   ]
  },
  {
   "cell_type": "markdown",
   "id": "sonic-halifax",
   "metadata": {},
   "source": [
    "# Modeling\n",
    "* ??????"
   ]
  },
  {
   "cell_type": "code",
   "execution_count": 4,
   "id": "varied-grant",
   "metadata": {},
   "outputs": [],
   "source": [
    "# prep data for modeling\n",
    "#train_X, validate_X, test_X, train_y, validate_y, test_y = m.model_prep(train,validate,test)"
   ]
  },
  {
   "cell_type": "markdown",
   "id": "median-ceramic",
   "metadata": {},
   "source": [
    "## Decision Tree"
   ]
  },
  {
   "cell_type": "markdown",
   "id": "completed-pottery",
   "metadata": {},
   "source": [
    "* Decision Tree accuracy is about equal to the baseline"
   ]
  },
  {
   "cell_type": "markdown",
   "id": "ultimate-strength",
   "metadata": {},
   "source": [
    "## Random Forest"
   ]
  },
  {
   "cell_type": "markdown",
   "id": "plastic-oxygen",
   "metadata": {},
   "source": [
    "* Random Forest accuracy is about equal to the baseline"
   ]
  },
  {
   "cell_type": "markdown",
   "id": "persistent-algorithm",
   "metadata": {},
   "source": [
    "## Logistic Regression"
   ]
  },
  {
   "cell_type": "markdown",
   "id": "blank-station",
   "metadata": {},
   "source": [
    "* Logistic regression accuracy is about equal to the baseline\n"
   ]
  },
  {
   "cell_type": "markdown",
   "id": "balanced-india",
   "metadata": {},
   "source": [
    "## KNN"
   ]
  },
  {
   "cell_type": "markdown",
   "id": "harmful-jewel",
   "metadata": {},
   "source": [
    "* Logistic regression accuracy is better than baseline on train, and worse than baseline on validate\n",
    "* It is likely over-fit"
   ]
  },
  {
   "cell_type": "markdown",
   "id": "ruled-denmark",
   "metadata": {},
   "source": [
    "# Comparing Models\n",
    "\n",
    "* Decision Tree, Random Forest, and Logistic Regression models all performed about equal to baseline on train and validate\n",
    "* The KNN model performed slightly better on train data but was worse on validate data. It is likely overfit.\n",
    "* Because the results of the Decision Tree, Random Forest, and Logistic Regression models were all very similar I could proceed to test with any of these models.\n",
    "* I have chosen to move forward with the Logistic Regression model"
   ]
  },
  {
   "cell_type": "markdown",
   "id": "vocal-screen",
   "metadata": {},
   "source": [
    "## Logistic Regression on Test"
   ]
  },
  {
   "cell_type": "markdown",
   "id": "ideal-wallace",
   "metadata": {},
   "source": [
    "### Modeling Summary\n",
    "\n",
    "* Decision Tree, Random Forest, and Logistic Regression models all performed about equal to baseline on train and validate\n",
    "* The KNN model performed slightly better on train data but was worse on validate data. It is likely overfit.\n",
    "* A Logistic Regression model selected as the final model and had an accuracy of about 67% which is about equal to the baseline accuracy"
   ]
  },
  {
   "cell_type": "markdown",
   "id": "random-initial",
   "metadata": {},
   "source": [
    "# Conclusions\n",
    "\n",
    "### Exploration\n",
    "\n",
    "* Upsets in chess occur in about 1/3 of games\n",
    "* Games in which the lower rated player makes the first move, and games that are rated have a slightly higher chance of ending in an upset \n",
    "* Games ending in upset have a much lower mean difference in player rating than games not ending in upset\n",
    "* Games using shorter time control, such as Bullet, Blitz, and Rapid games, have an upset percentage that closely mirrors the overall upset percentage ranging from 30-34% while standard games have a much lower upset percentage at 22%\n",
    "* Looking at the top 10 openings in terms of frequency in the data set we can conclude that a given opening does affect the likelihood of a game ending in an upset. Upset percentages very by opening from 20-39%\n",
    "* The average rating of players in a game has no provable effect on the chance of that game ending in upset"
   ]
  },
  {
   "cell_type": "markdown",
   "id": "romantic-oriental",
   "metadata": {},
   "source": [
    "### Modeling\n",
    "\n",
    "**The final model failed to significantly outperform the baseline. Possible reasons include:**\n",
    "* “Rated” and “lower rated white” each only accounted for a small difference in the percentage of upsets\n",
    "* While “Opening Name” seemed to be a significant driver of upsets. It contains 1200+ values that, once encoded, would add an overwhelming number of features to the model. \n",
    "\n",
    "### Recommendations\n",
    "\n",
    "* To increase the skill intensity of a game add to the length of time players are able to consider their moves\n",
    "\n",
    "### Next Steps\n",
    "* Cluster together opening variants in \"Opening Name\" to reduce the number of features input into the model\n",
    "* Look for other ways to describe \"Opening Name\" Such as by popularity of the opening or average rating of players playing that opening"
   ]
  }
 ],
 "metadata": {
  "kernelspec": {
   "display_name": "Python 3 (ipykernel)",
   "language": "python",
   "name": "python3"
  },
  "language_info": {
   "codemirror_mode": {
    "name": "ipython",
    "version": 3
   },
   "file_extension": ".py",
   "mimetype": "text/x-python",
   "name": "python",
   "nbconvert_exporter": "python",
   "pygments_lexer": "ipython3",
   "version": "3.9.12"
  }
 },
 "nbformat": 4,
 "nbformat_minor": 5
}
