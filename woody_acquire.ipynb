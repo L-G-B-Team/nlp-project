{
 "cells": [
  {
   "cell_type": "code",
   "execution_count": 5,
   "metadata": {},
   "outputs": [],
   "source": [
    "import acquire as a\n",
    "import numpy as np\n",
    "import pandas as pd\n",
    "import seaborn as sns\n",
    "import matplotlib.pyplot as plt\n",
    "from importlib import reload\n",
    "import warnings\n",
    "import requests\n",
    "from bs4 import BeautifulSoup\n"
   ]
  },
  {
   "cell_type": "code",
   "execution_count": 40,
   "metadata": {},
   "outputs": [
    {
     "data": {
      "text/plain": [
       "0           https://github.com/freeCodeCamp/freeCodeCamp\n",
       "1                      https://github.com/996icu/996.ICU\n",
       "2      https://github.com/jwasham/coding-interview-un...\n",
       "3                https://github.com/sindresorhus/awesome\n",
       "4      https://github.com/kamranahmedse/developer-roa...\n",
       "                             ...                        \n",
       "455                     https://github.com/WerWolv/ImHex\n",
       "456                         https://github.com/helm/helm\n",
       "457                      https://github.com/kataras/iris\n",
       "458              https://github.com/VundleVim/Vundle.vim\n",
       "459                https://github.com/hammerjs/hammer.js\n",
       "Length: 460, dtype: object"
      ]
     },
     "execution_count": 40,
     "metadata": {},
     "output_type": "execute_result"
    }
   ],
   "source": [
    "reload(a)\n",
    "a.get_repo_urls()"
   ]
  },
  {
   "cell_type": "code",
   "execution_count": 32,
   "metadata": {},
   "outputs": [],
   "source": []
  }
 ],
 "metadata": {
  "kernelspec": {
   "display_name": "base",
   "language": "python",
   "name": "python3"
  },
  "language_info": {
   "codemirror_mode": {
    "name": "ipython",
    "version": 3
   },
   "file_extension": ".py",
   "mimetype": "text/x-python",
   "name": "python",
   "nbconvert_exporter": "python",
   "pygments_lexer": "ipython3",
   "version": "3.9.13"
  },
  "orig_nbformat": 4,
  "vscode": {
   "interpreter": {
    "hash": "3067ead486e059ec00ffe7555bdb889e6e264a24dc711bf108106cc7baee8d5d"
   }
  }
 },
 "nbformat": 4,
 "nbformat_minor": 2
}
