{
 "cells": [
  {
   "cell_type": "code",
   "execution_count": 2,
   "metadata": {},
   "outputs": [],
   "source": [
    "import acquire as a\n",
    "import prepare as p\n",
    "import numpy as np\n",
    "import pandas as pd\n",
    "import seaborn as sns\n",
    "import matplotlib.pyplot as plt\n",
    "from importlib import reload\n",
    "import warnings\n",
    "import requests\n",
    "from bs4 import BeautifulSoup\n"
   ]
  },
  {
   "cell_type": "code",
   "execution_count": 23,
   "metadata": {},
   "outputs": [],
   "source": [
    "readmes = a.acquire_readmes()\n",
    "\n"
   ]
  },
  {
   "cell_type": "code",
   "execution_count": 24,
   "metadata": {},
   "outputs": [],
   "source": [
    "reload(p)\n",
    "readmes = p.prep_df_for_nlp(readmes,'readme_contents',extra_words=[],exclude_words=[])"
   ]
  },
  {
   "cell_type": "code",
   "execution_count": 20,
   "metadata": {},
   "outputs": [
    {
     "data": {
      "text/html": [
       "<div>\n",
       "<style scoped>\n",
       "    .dataframe tbody tr th:only-of-type {\n",
       "        vertical-align: middle;\n",
       "    }\n",
       "\n",
       "    .dataframe tbody tr th {\n",
       "        vertical-align: top;\n",
       "    }\n",
       "\n",
       "    .dataframe thead th {\n",
       "        text-align: right;\n",
       "    }\n",
       "</style>\n",
       "<table border=\"1\" class=\"dataframe\">\n",
       "  <thead>\n",
       "    <tr style=\"text-align: right;\">\n",
       "      <th></th>\n",
       "      <th>repo</th>\n",
       "      <th>language</th>\n",
       "      <th>readme_contents</th>\n",
       "      <th>clean</th>\n",
       "      <th>stem</th>\n",
       "      <th>lemmatized</th>\n",
       "    </tr>\n",
       "  </thead>\n",
       "  <tbody>\n",
       "    <tr>\n",
       "      <th>0</th>\n",
       "      <td>microsoft/terminal</td>\n",
       "      <td>Other</td>\n",
       "      <td>![terminal-logos](https://user-images.githubus...</td>\n",
       "      <td>terminallogoshttpsuserimagesgithubusercontentc...</td>\n",
       "      <td>terminallogoshttpsuserimagesgithubusercontentc...</td>\n",
       "      <td>terminallogoshttpsuserimagesgithubusercontentc...</td>\n",
       "    </tr>\n",
       "    <tr>\n",
       "      <th>1</th>\n",
       "      <td>microsoft/PowerToys</td>\n",
       "      <td>Other</td>\n",
       "      <td># Microsoft PowerToys\\n\\n![Hero image for Micr...</td>\n",
       "      <td>microsoft powertoys hero image microsoft power...</td>\n",
       "      <td>microsoft powertoy hero imag microsoft powerto...</td>\n",
       "      <td>microsoft powertoys hero image microsoft power...</td>\n",
       "    </tr>\n",
       "    <tr>\n",
       "      <th>2</th>\n",
       "      <td>huggingface/transformers</td>\n",
       "      <td>Python</td>\n",
       "      <td>&lt;!---\\nCopyright 2020 The HuggingFace Team. Al...</td>\n",
       "      <td>copyright 2020 huggingface team rights reserve...</td>\n",
       "      <td>copyright 2020 huggingfac team right reserv li...</td>\n",
       "      <td>copyright 2020 huggingface team right reserved...</td>\n",
       "    </tr>\n",
       "    <tr>\n",
       "      <th>3</th>\n",
       "      <td>rust-lang/rust</td>\n",
       "      <td>Other</td>\n",
       "      <td># The Rust Programming Language\\n\\nThis is the...</td>\n",
       "      <td>rust programming language main source code rep...</td>\n",
       "      <td>rust program languag main sourc code repositor...</td>\n",
       "      <td>rust programming language main source code rep...</td>\n",
       "    </tr>\n",
       "    <tr>\n",
       "      <th>4</th>\n",
       "      <td>mtdvio/every-programmer-should-know</td>\n",
       "      <td>Not Listed</td>\n",
       "      <td>&gt; *[Join our community](https://metadevelopmen...</td>\n",
       "      <td>join communityhttpsmetadevelopmentio professio...</td>\n",
       "      <td>join communityhttpsmetadevelopmentio professio...</td>\n",
       "      <td>join communityhttpsmetadevelopmentio professio...</td>\n",
       "    </tr>\n",
       "  </tbody>\n",
       "</table>\n",
       "</div>"
      ],
      "text/plain": [
       "                                  repo    language  \\\n",
       "0                   microsoft/terminal       Other   \n",
       "1                  microsoft/PowerToys       Other   \n",
       "2             huggingface/transformers      Python   \n",
       "3                       rust-lang/rust       Other   \n",
       "4  mtdvio/every-programmer-should-know  Not Listed   \n",
       "\n",
       "                                     readme_contents  \\\n",
       "0  ![terminal-logos](https://user-images.githubus...   \n",
       "1  # Microsoft PowerToys\\n\\n![Hero image for Micr...   \n",
       "2  <!---\\nCopyright 2020 The HuggingFace Team. Al...   \n",
       "3  # The Rust Programming Language\\n\\nThis is the...   \n",
       "4  > *[Join our community](https://metadevelopmen...   \n",
       "\n",
       "                                               clean  \\\n",
       "0  terminallogoshttpsuserimagesgithubusercontentc...   \n",
       "1  microsoft powertoys hero image microsoft power...   \n",
       "2  copyright 2020 huggingface team rights reserve...   \n",
       "3  rust programming language main source code rep...   \n",
       "4  join communityhttpsmetadevelopmentio professio...   \n",
       "\n",
       "                                                stem  \\\n",
       "0  terminallogoshttpsuserimagesgithubusercontentc...   \n",
       "1  microsoft powertoy hero imag microsoft powerto...   \n",
       "2  copyright 2020 huggingfac team right reserv li...   \n",
       "3  rust program languag main sourc code repositor...   \n",
       "4  join communityhttpsmetadevelopmentio professio...   \n",
       "\n",
       "                                          lemmatized  \n",
       "0  terminallogoshttpsuserimagesgithubusercontentc...  \n",
       "1  microsoft powertoys hero image microsoft power...  \n",
       "2  copyright 2020 huggingface team right reserved...  \n",
       "3  rust programming language main source code rep...  \n",
       "4  join communityhttpsmetadevelopmentio professio...  "
      ]
     },
     "execution_count": 20,
     "metadata": {},
     "output_type": "execute_result"
    }
   ],
   "source": [
    "readmes.head()"
   ]
  },
  {
   "cell_type": "code",
   "execution_count": 25,
   "metadata": {},
   "outputs": [
    {
     "data": {
      "text/plain": [
       "JavaScript     186\n",
       "Other          154\n",
       "Not Listed      83\n",
       "Python          82\n",
       "TypeScript      78\n",
       "Go              72\n",
       "Java            65\n",
       "C++             43\n",
       "Rust            26\n",
       "C               21\n",
       "HTML            20\n",
       "Objective-C     20\n",
       "Name: language, dtype: int64"
      ]
     },
     "execution_count": 25,
     "metadata": {},
     "output_type": "execute_result"
    }
   ],
   "source": [
    "readmes.language.value_counts()"
   ]
  }
 ],
 "metadata": {
  "kernelspec": {
   "display_name": "base",
   "language": "python",
   "name": "python3"
  },
  "language_info": {
   "codemirror_mode": {
    "name": "ipython",
    "version": 3
   },
   "file_extension": ".py",
   "mimetype": "text/x-python",
   "name": "python",
   "nbconvert_exporter": "python",
   "pygments_lexer": "ipython3",
   "version": "3.9.13"
  },
  "orig_nbformat": 4,
  "vscode": {
   "interpreter": {
    "hash": "3067ead486e059ec00ffe7555bdb889e6e264a24dc711bf108106cc7baee8d5d"
   }
  }
 },
 "nbformat": 4,
 "nbformat_minor": 2
}
