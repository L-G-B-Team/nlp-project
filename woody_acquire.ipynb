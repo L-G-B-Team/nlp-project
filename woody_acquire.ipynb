{
 "cells": [
  {
   "cell_type": "code",
   "execution_count": 2,
   "metadata": {},
   "outputs": [],
   "source": [
    "import acquire as a\n",
    "import prepare as p\n",
    "import numpy as np\n",
    "import pandas as pd\n",
    "import seaborn as sns\n",
    "import matplotlib.pyplot as plt\n",
    "from importlib import reload\n",
    "import warnings\n",
    "import requests\n",
    "from bs4 import BeautifulSoup\n"
   ]
  },
  {
   "cell_type": "code",
   "execution_count": 19,
   "metadata": {},
   "outputs": [
    {
     "data": {
      "text/html": [
       "<div>\n",
       "<style scoped>\n",
       "    .dataframe tbody tr th:only-of-type {\n",
       "        vertical-align: middle;\n",
       "    }\n",
       "\n",
       "    .dataframe tbody tr th {\n",
       "        vertical-align: top;\n",
       "    }\n",
       "\n",
       "    .dataframe thead th {\n",
       "        text-align: right;\n",
       "    }\n",
       "</style>\n",
       "<table border=\"1\" class=\"dataframe\">\n",
       "  <thead>\n",
       "    <tr style=\"text-align: right;\">\n",
       "      <th></th>\n",
       "      <th>repo</th>\n",
       "      <th>language</th>\n",
       "      <th>readme_contents</th>\n",
       "    </tr>\n",
       "  </thead>\n",
       "  <tbody>\n",
       "    <tr>\n",
       "      <th>0</th>\n",
       "      <td>microsoft/terminal</td>\n",
       "      <td>C++</td>\n",
       "      <td>![terminal-logos](https://user-images.githubus...</td>\n",
       "    </tr>\n",
       "    <tr>\n",
       "      <th>1</th>\n",
       "      <td>microsoft/PowerToys</td>\n",
       "      <td>C#</td>\n",
       "      <td># Microsoft PowerToys\\n\\n![Hero image for Micr...</td>\n",
       "    </tr>\n",
       "    <tr>\n",
       "      <th>2</th>\n",
       "      <td>huggingface/transformers</td>\n",
       "      <td>Python</td>\n",
       "      <td>&lt;!---\\nCopyright 2020 The HuggingFace Team. Al...</td>\n",
       "    </tr>\n",
       "    <tr>\n",
       "      <th>3</th>\n",
       "      <td>rust-lang/rust</td>\n",
       "      <td>Rust</td>\n",
       "      <td># The Rust Programming Language\\n\\nThis is the...</td>\n",
       "    </tr>\n",
       "    <tr>\n",
       "      <th>4</th>\n",
       "      <td>mtdvio/every-programmer-should-know</td>\n",
       "      <td>NaN</td>\n",
       "      <td>&gt; *[Join our community](https://metadevelopmen...</td>\n",
       "    </tr>\n",
       "  </tbody>\n",
       "</table>\n",
       "</div>"
      ],
      "text/plain": [
       "                                  repo language  \\\n",
       "0                   microsoft/terminal      C++   \n",
       "1                  microsoft/PowerToys       C#   \n",
       "2             huggingface/transformers   Python   \n",
       "3                       rust-lang/rust     Rust   \n",
       "4  mtdvio/every-programmer-should-know      NaN   \n",
       "\n",
       "                                     readme_contents  \n",
       "0  ![terminal-logos](https://user-images.githubus...  \n",
       "1  # Microsoft PowerToys\\n\\n![Hero image for Micr...  \n",
       "2  <!---\\nCopyright 2020 The HuggingFace Team. Al...  \n",
       "3  # The Rust Programming Language\\n\\nThis is the...  \n",
       "4  > *[Join our community](https://metadevelopmen...  "
      ]
     },
     "execution_count": 19,
     "metadata": {},
     "output_type": "execute_result"
    }
   ],
   "source": [
    "readmes = a.acquire_readmes()\n",
    "readmes.head()\n"
   ]
  },
  {
   "cell_type": "code",
   "execution_count": 20,
   "metadata": {},
   "outputs": [],
   "source": [
    "readmes[readmes.language.isna()]\n",
    "readmes.readme_contents = readmes.readme_contents.astype('str')\n",
    "readmes = p.prep_df_for_nlp(readmes,'readme_contents',extra_words=[],exclude_words=[])"
   ]
  }
 ],
 "metadata": {
  "kernelspec": {
   "display_name": "base",
   "language": "python",
   "name": "python3"
  },
  "language_info": {
   "codemirror_mode": {
    "name": "ipython",
    "version": 3
   },
   "file_extension": ".py",
   "mimetype": "text/x-python",
   "name": "python",
   "nbconvert_exporter": "python",
   "pygments_lexer": "ipython3",
   "version": "3.9.13"
  },
  "orig_nbformat": 4,
  "vscode": {
   "interpreter": {
    "hash": "3067ead486e059ec00ffe7555bdb889e6e264a24dc711bf108106cc7baee8d5d"
   }
  }
 },
 "nbformat": 4,
 "nbformat_minor": 2
}
