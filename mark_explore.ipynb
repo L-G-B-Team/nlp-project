{
 "cells": [
  {
   "cell_type": "code",
   "execution_count": 1,
   "id": "2880c519",
   "metadata": {},
   "outputs": [],
   "source": [
    "import pandas as pd\n",
    "import matplotlib.pyplot as plt\n",
    "import seaborn as sns\n",
    "\n",
    "from importlib import reload\n",
    "\n",
    "import acquire as a \n",
    "import prepare as p\n",
    "import explore as e\n",
    "\n",
    "from scipy import stats"
   ]
  },
  {
   "cell_type": "code",
   "execution_count": 2,
   "id": "fbb4eda0",
   "metadata": {},
   "outputs": [],
   "source": [
    "df = a.acquire_readmes()"
   ]
  },
  {
   "cell_type": "code",
   "execution_count": 3,
   "id": "81fe4f72",
   "metadata": {},
   "outputs": [],
   "source": [
    "df = p.prep_df_for_nlp(df,'readme_contents',extra_words=p.EXTRA_WORDS)"
   ]
  },
  {
   "cell_type": "code",
   "execution_count": 4,
   "id": "ae2f6395",
   "metadata": {},
   "outputs": [],
   "source": [
    "train, validate, test = p.split_data(df, 'language')"
   ]
  },
  {
   "cell_type": "markdown",
   "id": "73eca152",
   "metadata": {},
   "source": [
    "## Does the length of the README indicate the main programming language?"
   ]
  },
  {
   "cell_type": "code",
   "execution_count": 5,
   "id": "66dd976a",
   "metadata": {},
   "outputs": [
    {
     "data": {
      "text/html": [
       "<div>\n",
       "<style scoped>\n",
       "    .dataframe tbody tr th:only-of-type {\n",
       "        vertical-align: middle;\n",
       "    }\n",
       "\n",
       "    .dataframe tbody tr th {\n",
       "        vertical-align: top;\n",
       "    }\n",
       "\n",
       "    .dataframe thead th {\n",
       "        text-align: right;\n",
       "    }\n",
       "</style>\n",
       "<table border=\"1\" class=\"dataframe\">\n",
       "  <thead>\n",
       "    <tr style=\"text-align: right;\">\n",
       "      <th></th>\n",
       "      <th>lemmatized_len</th>\n",
       "    </tr>\n",
       "    <tr>\n",
       "      <th>language</th>\n",
       "      <th></th>\n",
       "    </tr>\n",
       "  </thead>\n",
       "  <tbody>\n",
       "    <tr>\n",
       "      <th>Go</th>\n",
       "      <td>8745.078947</td>\n",
       "    </tr>\n",
       "    <tr>\n",
       "      <th>Java</th>\n",
       "      <td>4953.918919</td>\n",
       "    </tr>\n",
       "    <tr>\n",
       "      <th>JavaScript</th>\n",
       "      <td>11525.223404</td>\n",
       "    </tr>\n",
       "    <tr>\n",
       "      <th>Not Listed</th>\n",
       "      <td>27658.682927</td>\n",
       "    </tr>\n",
       "    <tr>\n",
       "      <th>Other</th>\n",
       "      <td>8245.333333</td>\n",
       "    </tr>\n",
       "    <tr>\n",
       "      <th>Python</th>\n",
       "      <td>14422.543478</td>\n",
       "    </tr>\n",
       "    <tr>\n",
       "      <th>TypeScript</th>\n",
       "      <td>6401.800000</td>\n",
       "    </tr>\n",
       "  </tbody>\n",
       "</table>\n",
       "</div>"
      ],
      "text/plain": [
       "            lemmatized_len\n",
       "language                  \n",
       "Go             8745.078947\n",
       "Java           4953.918919\n",
       "JavaScript    11525.223404\n",
       "Not Listed    27658.682927\n",
       "Other          8245.333333\n",
       "Python        14422.543478\n",
       "TypeScript     6401.800000"
      ]
     },
     "execution_count": 5,
     "metadata": {},
     "output_type": "execute_result"
    }
   ],
   "source": [
    "pd.DataFrame(train.groupby('language').lemmatized_len.mean())"
   ]
  },
  {
   "cell_type": "code",
   "execution_count": 22,
   "id": "6bf2d52e",
   "metadata": {},
   "outputs": [],
   "source": [
    "import seaborn as sns"
   ]
  },
  {
   "cell_type": "code",
   "execution_count": 23,
   "id": "d37b359d",
   "metadata": {},
   "outputs": [
    {
     "data": {
      "text/plain": [
       "<AxesSubplot:xlabel='language', ylabel='lemmatized_len'>"
      ]
     },
     "execution_count": 23,
     "metadata": {},
     "output_type": "execute_result"
    },
    {
     "data": {
      "image/png": "[encoded data removed]",
      "text/plain": [
       "<Figure size 432x288 with 1 Axes>"
      ]
     },
     "metadata": {
      "needs_background": "light"
     },
     "output_type": "display_data"
    }
   ],
   "source": [
    "sns.barplot(x=\"language\", y=\"lemmatized_len\", data=train, palette='pastel')"
   ]
  },
  {
   "cell_type": "code",
   "execution_count": 6,
   "id": "f3fdbb68",
   "metadata": {},
   "outputs": [],
   "source": [
    "go = train[train.language == 'Go'].lemmatized_len"
   ]
  },
  {
   "cell_type": "code",
   "execution_count": 7,
   "id": "4f5aea77",
   "metadata": {
    "scrolled": false
   },
   "outputs": [
    {
     "data": {
      "text/plain": [
       "Ttest_1sampResult(statistic=-1.2539594676732875, pvalue=0.21772171611758417)"
      ]
     },
     "execution_count": 7,
     "metadata": {},
     "output_type": "execute_result"
    }
   ],
   "source": [
    "stats.ttest_1samp(go, train.lemmatized_len.mean())"
   ]
  },
  {
   "cell_type": "code",
   "execution_count": 8,
   "id": "8debd03f",
   "metadata": {},
   "outputs": [],
   "source": [
    "java = train[train.language == 'Java'].lemmatized_len"
   ]
  },
  {
   "cell_type": "code",
   "execution_count": 9,
   "id": "be0f1cb1",
   "metadata": {
    "scrolled": false
   },
   "outputs": [
    {
     "data": {
      "text/plain": [
       "Ttest_1sampResult(statistic=-8.125683633984549, pvalue=1.1636706744471063e-09)"
      ]
     },
     "execution_count": 9,
     "metadata": {},
     "output_type": "execute_result"
    }
   ],
   "source": [
    "stats.ttest_1samp(java, train.lemmatized_len.mean())"
   ]
  },
  {
   "cell_type": "code",
   "execution_count": 11,
   "id": "eb3a8957",
   "metadata": {},
   "outputs": [],
   "source": [
    "javascript = train[train.language == 'JavaScript'].lemmatized_len"
   ]
  },
  {
   "cell_type": "code",
   "execution_count": 12,
   "id": "4639e416",
   "metadata": {
    "scrolled": false
   },
   "outputs": [
    {
     "data": {
      "text/plain": [
       "Ttest_1sampResult(statistic=0.2734059259347175, pvalue=0.785147453154522)"
      ]
     },
     "execution_count": 12,
     "metadata": {},
     "output_type": "execute_result"
    }
   ],
   "source": [
    "stats.ttest_1samp(javascript, train.lemmatized_len.mean())"
   ]
  },
  {
   "cell_type": "code",
   "execution_count": 13,
   "id": "601da441",
   "metadata": {},
   "outputs": [],
   "source": [
    "not_listed = train[train.language == 'Not Listed'].lemmatized_len"
   ]
  },
  {
   "cell_type": "code",
   "execution_count": 14,
   "id": "8f5db7c2",
   "metadata": {
    "scrolled": false
   },
   "outputs": [
    {
     "data": {
      "text/plain": [
       "Ttest_1sampResult(statistic=2.297361211476212, pvalue=0.026909338630790387)"
      ]
     },
     "execution_count": 14,
     "metadata": {},
     "output_type": "execute_result"
    }
   ],
   "source": [
    "stats.ttest_1samp(not_listed, train.lemmatized_len.mean())"
   ]
  },
  {
   "cell_type": "code",
   "execution_count": 16,
   "id": "6c80adb1",
   "metadata": {},
   "outputs": [],
   "source": [
    "other = train[train.language == 'Other'].lemmatized_len"
   ]
  },
  {
   "cell_type": "code",
   "execution_count": 17,
   "id": "1e102fa6",
   "metadata": {
    "scrolled": false
   },
   "outputs": [
    {
     "data": {
      "text/plain": [
       "Ttest_1sampResult(statistic=-1.9151061194929244, pvalue=0.057434377111973266)"
      ]
     },
     "execution_count": 17,
     "metadata": {},
     "output_type": "execute_result"
    }
   ],
   "source": [
    "stats.ttest_1samp(other, train.lemmatized_len.mean())"
   ]
  },
  {
   "cell_type": "code",
   "execution_count": 18,
   "id": "f9f08b96",
   "metadata": {},
   "outputs": [],
   "source": [
    "python = train[train.language == 'Python'].lemmatized_len"
   ]
  },
  {
   "cell_type": "code",
   "execution_count": 19,
   "id": "a690209e",
   "metadata": {
    "scrolled": false
   },
   "outputs": [
    {
     "data": {
      "text/plain": [
       "Ttest_1sampResult(statistic=0.8268888048789708, pvalue=0.41266335058727943)"
      ]
     },
     "execution_count": 19,
     "metadata": {},
     "output_type": "execute_result"
    }
   ],
   "source": [
    "stats.ttest_1samp(python, train.lemmatized_len.mean())"
   ]
  },
  {
   "cell_type": "code",
   "execution_count": 20,
   "id": "aed3022a",
   "metadata": {},
   "outputs": [],
   "source": [
    "typescript = train[train.language == 'TypeScript'].lemmatized_len"
   ]
  },
  {
   "cell_type": "code",
   "execution_count": 21,
   "id": "8e8ac6ec",
   "metadata": {
    "scrolled": false
   },
   "outputs": [
    {
     "data": {
      "text/plain": [
       "Ttest_1sampResult(statistic=-5.407237667455391, pvalue=3.4411756416892293e-06)"
      ]
     },
     "execution_count": 21,
     "metadata": {},
     "output_type": "execute_result"
    }
   ],
   "source": [
    "stats.ttest_1samp(typescript, train.lemmatized_len.mean())"
   ]
  },
  {
   "cell_type": "code",
   "execution_count": 25,
   "id": "67aa1211",
   "metadata": {},
   "outputs": [],
   "source": [
    "stat, p = stats.kruskal(go, java, javascript, not_listed, other, python, typescript)"
   ]
  },
  {
   "cell_type": "code",
   "execution_count": 27,
   "id": "8935d471",
   "metadata": {},
   "outputs": [
    {
     "data": {
      "text/markdown": [
       "## Because $\\alpha$ > p,we  reject $H_0$"
      ],
      "text/plain": [
       "<IPython.core.display.Markdown object>"
      ]
     },
     "execution_count": 27,
     "metadata": {},
     "output_type": "execute_result"
    }
   ],
   "source": [
    "e.p_to_md(p)"
   ]
  },
  {
   "cell_type": "code",
   "execution_count": null,
   "id": "a7e8db30",
   "metadata": {},
   "outputs": [],
   "source": []
  }
 ],
 "metadata": {
  "kernelspec": {
   "display_name": "Python 3 (ipykernel)",
   "language": "python",
   "name": "python3"
  },
  "language_info": {
   "codemirror_mode": {
    "name": "ipython",
    "version": 3
   },
   "file_extension": ".py",
   "mimetype": "text/x-python",
   "name": "python",
   "nbconvert_exporter": "python",
   "pygments_lexer": "ipython3",
   "version": "3.9.12"
  }
 },
 "nbformat": 4,
 "nbformat_minor": 5
}
