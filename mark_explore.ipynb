{
 "cells": [
  {
   "cell_type": "code",
   "execution_count": 1,
   "id": "2880c519",
   "metadata": {},
   "outputs": [],
   "source": [
    "import pandas as pd\n",
    "import matplotlib.pyplot as plt\n",
    "import seaborn as sns\n",
    "\n",
    "from importlib import reload\n",
    "\n",
    "import acquire as a \n",
    "import prepare as p\n",
    "import explore as e\n",
    "\n",
    "from scipy import stats"
   ]
  },
  {
   "cell_type": "code",
   "execution_count": 2,
   "id": "fbb4eda0",
   "metadata": {},
   "outputs": [],
   "source": [
    "df = a.acquire_readmes()"
   ]
  },
  {
   "cell_type": "code",
   "execution_count": 3,
   "id": "81fe4f72",
   "metadata": {},
   "outputs": [],
   "source": [
    "df = p.prep_df_for_nlp(df,'readme_contents',extra_words=p.EXTRA_WORDS)"
   ]
  },
  {
   "cell_type": "code",
   "execution_count": 4,
   "id": "fb42a5ee",
   "metadata": {},
   "outputs": [],
   "source": [
    "train, validate, test = p.split_data(df, 'language')"
   ]
  },
  {
   "cell_type": "code",
   "execution_count": 5,
   "id": "f6a7075a",
   "metadata": {},
   "outputs": [
    {
     "data": {
      "text/html": [
       "<div>\n",
       "<style scoped>\n",
       "    .dataframe tbody tr th:only-of-type {\n",
       "        vertical-align: middle;\n",
       "    }\n",
       "\n",
       "    .dataframe tbody tr th {\n",
       "        vertical-align: top;\n",
       "    }\n",
       "\n",
       "    .dataframe thead th {\n",
       "        text-align: right;\n",
       "    }\n",
       "</style>\n",
       "<table border=\"1\" class=\"dataframe\">\n",
       "  <thead>\n",
       "    <tr style=\"text-align: right;\">\n",
       "      <th></th>\n",
       "      <th>repo</th>\n",
       "      <th>language</th>\n",
       "      <th>readme_contents</th>\n",
       "      <th>clean</th>\n",
       "      <th>stem</th>\n",
       "      <th>lemmatized</th>\n",
       "      <th>username</th>\n",
       "      <th>lemmatized_len</th>\n",
       "    </tr>\n",
       "  </thead>\n",
       "  <tbody>\n",
       "    <tr>\n",
       "      <th>482</th>\n",
       "      <td>awesome-actions</td>\n",
       "      <td>Not Listed</td>\n",
       "      <td>&lt;p align=\"center\"&gt;\\n  &lt;br&gt;\\n    &lt;img src=\"awes...</td>\n",
       "      <td>awesome actions awesome curated awesome things...</td>\n",
       "      <td>awesom action awesom curat awesom thing relat ...</td>\n",
       "      <td>awesome action awesome curated awesome thing r...</td>\n",
       "      <td>sdras</td>\n",
       "      <td>17459</td>\n",
       "    </tr>\n",
       "    <tr>\n",
       "      <th>646</th>\n",
       "      <td>InstaPy</td>\n",
       "      <td>Python</td>\n",
       "      <td>&lt;p align=\"center\"&gt;\\n  &lt;img src=\"https://i.imgu...</td>\n",
       "      <td>instapy tooling automates social media interac...</td>\n",
       "      <td>instapi tool autom social media interact farm ...</td>\n",
       "      <td>instapy tooling automates social medium intera...</td>\n",
       "      <td>InstaPy</td>\n",
       "      <td>834</td>\n",
       "    </tr>\n",
       "    <tr>\n",
       "      <th>474</th>\n",
       "      <td>osquery</td>\n",
       "      <td>Other</td>\n",
       "      <td># osquery\\n\\n&lt;p align=\"center\"&gt;\\n&lt;img alt=\"osq...</td>\n",
       "      <td>osquery altosquery logo width200 srchttps gith...</td>\n",
       "      <td>osqueri altosqueri logo width200 srchttp githu...</td>\n",
       "      <td>osquery altosquery logo width200 srchttps gith...</td>\n",
       "      <td>osquery</td>\n",
       "      <td>3181</td>\n",
       "    </tr>\n",
       "    <tr>\n",
       "      <th>545</th>\n",
       "      <td>Best-App</td>\n",
       "      <td>Not Listed</td>\n",
       "      <td>\\nBest App\\n----\\n\\n*经常会有朋友想知道有哪些 Apps 或 服务 是值...</td>\n",
       "      <td>best app apps bestapp ios app app starpull req...</td>\n",
       "      <td>best app app bestapp io app app starpul reques...</td>\n",
       "      <td>best app apps bestapp io app app starpull requ...</td>\n",
       "      <td>hzlzh</td>\n",
       "      <td>3754</td>\n",
       "    </tr>\n",
       "    <tr>\n",
       "      <th>539</th>\n",
       "      <td>actix-web</td>\n",
       "      <td>Other</td>\n",
       "      <td>actix-web/README.md</td>\n",
       "      <td>actixweb readme.md</td>\n",
       "      <td>actixweb readme.md</td>\n",
       "      <td>actixweb readme.md</td>\n",
       "      <td>actix</td>\n",
       "      <td>18</td>\n",
       "    </tr>\n",
       "    <tr>\n",
       "      <th>...</th>\n",
       "      <td>...</td>\n",
       "      <td>...</td>\n",
       "      <td>...</td>\n",
       "      <td>...</td>\n",
       "      <td>...</td>\n",
       "      <td>...</td>\n",
       "      <td>...</td>\n",
       "      <td>...</td>\n",
       "    </tr>\n",
       "    <tr>\n",
       "      <th>47</th>\n",
       "      <td>sly</td>\n",
       "      <td>JavaScript</td>\n",
       "      <td># [Sly](http://darsa.in/sly)\\n\\nJavaScript lib...</td>\n",
       "      <td>sly javascript library onedirectional scrollin...</td>\n",
       "      <td>sli javascript librari onedirect scroll item b...</td>\n",
       "      <td>sly javascript library onedirectional scrollin...</td>\n",
       "      <td>darsain</td>\n",
       "      <td>1304</td>\n",
       "    </tr>\n",
       "    <tr>\n",
       "      <th>268</th>\n",
       "      <td>free</td>\n",
       "      <td>Not Listed</td>\n",
       "      <td>更新时间 2023-01-12 00:00  \\n所有免费节点都爬取自网络，请勿用于非法用途...</td>\n",
       "      <td>20230112 0000 android windows v2ray v2rayng v2...</td>\n",
       "      <td>20230112 0000 android window v2ray v2rayng v2r...</td>\n",
       "      <td>20230112 0000 android window v2ray v2rayng v2r...</td>\n",
       "      <td>freefq</td>\n",
       "      <td>13158</td>\n",
       "    </tr>\n",
       "    <tr>\n",
       "      <th>230</th>\n",
       "      <td>hello-algorithm</td>\n",
       "      <td>Java</td>\n",
       "      <td>## 简介\\n\\nEnglish version repo and Gitbook is o...</td>\n",
       "      <td>english repo gitbook english branch part1 part...</td>\n",
       "      <td>english repo gitbook english branch part1 part...</td>\n",
       "      <td>english repo gitbook english branch part1 part...</td>\n",
       "      <td>geekxh</td>\n",
       "      <td>704</td>\n",
       "    </tr>\n",
       "    <tr>\n",
       "      <th>304</th>\n",
       "      <td>jq</td>\n",
       "      <td>Other</td>\n",
       "      <td>README.md</td>\n",
       "      <td>readme.md</td>\n",
       "      <td>readme.md</td>\n",
       "      <td>readme.md</td>\n",
       "      <td>stedolan</td>\n",
       "      <td>9</td>\n",
       "    </tr>\n",
       "    <tr>\n",
       "      <th>8</th>\n",
       "      <td>Web-Dev-For-Beginners</td>\n",
       "      <td>JavaScript</td>\n",
       "      <td>[![GitHub license](https://img.shields.io/gith...</td>\n",
       "      <td>github license github contributors github issu...</td>\n",
       "      <td>github licens github contributor github issu g...</td>\n",
       "      <td>github license github contributor github issue...</td>\n",
       "      <td>microsoft</td>\n",
       "      <td>4318</td>\n",
       "    </tr>\n",
       "  </tbody>\n",
       "</table>\n",
       "<p>443 rows × 8 columns</p>\n",
       "</div>"
      ],
      "text/plain": [
       "                      repo    language  \\\n",
       "482        awesome-actions  Not Listed   \n",
       "646                InstaPy      Python   \n",
       "474                osquery       Other   \n",
       "545               Best-App  Not Listed   \n",
       "539              actix-web       Other   \n",
       "..                     ...         ...   \n",
       "47                     sly  JavaScript   \n",
       "268                   free  Not Listed   \n",
       "230        hello-algorithm        Java   \n",
       "304                     jq       Other   \n",
       "8    Web-Dev-For-Beginners  JavaScript   \n",
       "\n",
       "                                       readme_contents  \\\n",
       "482  <p align=\"center\">\\n  <br>\\n    <img src=\"awes...   \n",
       "646  <p align=\"center\">\\n  <img src=\"https://i.imgu...   \n",
       "474  # osquery\\n\\n<p align=\"center\">\\n<img alt=\"osq...   \n",
       "545  \\nBest App\\n----\\n\\n*经常会有朋友想知道有哪些 Apps 或 服务 是值...   \n",
       "539                                actix-web/README.md   \n",
       "..                                                 ...   \n",
       "47   # [Sly](http://darsa.in/sly)\\n\\nJavaScript lib...   \n",
       "268  更新时间 2023-01-12 00:00  \\n所有免费节点都爬取自网络，请勿用于非法用途...   \n",
       "230  ## 简介\\n\\nEnglish version repo and Gitbook is o...   \n",
       "304                                          README.md   \n",
       "8    [![GitHub license](https://img.shields.io/gith...   \n",
       "\n",
       "                                                 clean  \\\n",
       "482  awesome actions awesome curated awesome things...   \n",
       "646  instapy tooling automates social media interac...   \n",
       "474  osquery altosquery logo width200 srchttps gith...   \n",
       "545  best app apps bestapp ios app app starpull req...   \n",
       "539                                 actixweb readme.md   \n",
       "..                                                 ...   \n",
       "47   sly javascript library onedirectional scrollin...   \n",
       "268  20230112 0000 android windows v2ray v2rayng v2...   \n",
       "230  english repo gitbook english branch part1 part...   \n",
       "304                                          readme.md   \n",
       "8    github license github contributors github issu...   \n",
       "\n",
       "                                                  stem  \\\n",
       "482  awesom action awesom curat awesom thing relat ...   \n",
       "646  instapi tool autom social media interact farm ...   \n",
       "474  osqueri altosqueri logo width200 srchttp githu...   \n",
       "545  best app app bestapp io app app starpul reques...   \n",
       "539                                 actixweb readme.md   \n",
       "..                                                 ...   \n",
       "47   sli javascript librari onedirect scroll item b...   \n",
       "268  20230112 0000 android window v2ray v2rayng v2r...   \n",
       "230  english repo gitbook english branch part1 part...   \n",
       "304                                          readme.md   \n",
       "8    github licens github contributor github issu g...   \n",
       "\n",
       "                                            lemmatized   username  \\\n",
       "482  awesome action awesome curated awesome thing r...      sdras   \n",
       "646  instapy tooling automates social medium intera...    InstaPy   \n",
       "474  osquery altosquery logo width200 srchttps gith...    osquery   \n",
       "545  best app apps bestapp io app app starpull requ...      hzlzh   \n",
       "539                                 actixweb readme.md      actix   \n",
       "..                                                 ...        ...   \n",
       "47   sly javascript library onedirectional scrollin...    darsain   \n",
       "268  20230112 0000 android window v2ray v2rayng v2r...     freefq   \n",
       "230  english repo gitbook english branch part1 part...     geekxh   \n",
       "304                                          readme.md   stedolan   \n",
       "8    github license github contributor github issue...  microsoft   \n",
       "\n",
       "     lemmatized_len  \n",
       "482           17459  \n",
       "646             834  \n",
       "474            3181  \n",
       "545            3754  \n",
       "539              18  \n",
       "..              ...  \n",
       "47             1304  \n",
       "268           13158  \n",
       "230             704  \n",
       "304               9  \n",
       "8              4318  \n",
       "\n",
       "[443 rows x 8 columns]"
      ]
     },
     "execution_count": 5,
     "metadata": {},
     "output_type": "execute_result"
    }
   ],
   "source": [
    "train"
   ]
  },
  {
   "cell_type": "code",
   "execution_count": 6,
   "id": "9dd7c749",
   "metadata": {},
   "outputs": [
    {
     "data": {
      "text/plain": [
       "microsoft           10\n",
       "google               4\n",
       "facebook             4\n",
       "angular              3\n",
       "facebookresearch     3\n",
       "                    ..\n",
       "mtdvio               1\n",
       "FredrikNoren         1\n",
       "openai               1\n",
       "pcottle              1\n",
       "stedolan             1\n",
       "Name: username, Length: 413, dtype: int64"
      ]
     },
     "execution_count": 6,
     "metadata": {},
     "output_type": "execute_result"
    }
   ],
   "source": [
    "train.username.value_counts()"
   ]
  },
  {
   "cell_type": "code",
   "execution_count": 7,
   "id": "777bb0e8",
   "metadata": {
    "scrolled": true
   },
   "outputs": [
    {
     "data": {
      "text/plain": [
       "Go            1\n",
       "Java          1\n",
       "Not Listed    1\n",
       "Other         1\n",
       "JavaScript    0\n",
       "Python        0\n",
       "TypeScript    0\n",
       "Name: language, dtype: int64"
      ]
     },
     "execution_count": 7,
     "metadata": {},
     "output_type": "execute_result"
    }
   ],
   "source": [
    "train[train.username == 'google'].language.value_counts()"
   ]
  },
  {
   "cell_type": "markdown",
   "id": "7dcc4cf8",
   "metadata": {},
   "source": [
    "## Does the length of the README indicate the main programming language?"
   ]
  },
  {
   "cell_type": "code",
   "execution_count": 8,
   "id": "66dd976a",
   "metadata": {},
   "outputs": [
    {
     "data": {
      "text/html": [
       "<div>\n",
       "<style scoped>\n",
       "    .dataframe tbody tr th:only-of-type {\n",
       "        vertical-align: middle;\n",
       "    }\n",
       "\n",
       "    .dataframe tbody tr th {\n",
       "        vertical-align: top;\n",
       "    }\n",
       "\n",
       "    .dataframe thead th {\n",
       "        text-align: right;\n",
       "    }\n",
       "</style>\n",
       "<table border=\"1\" class=\"dataframe\">\n",
       "  <thead>\n",
       "    <tr style=\"text-align: right;\">\n",
       "      <th></th>\n",
       "      <th>lemmatized_len</th>\n",
       "    </tr>\n",
       "    <tr>\n",
       "      <th>language</th>\n",
       "      <th></th>\n",
       "    </tr>\n",
       "  </thead>\n",
       "  <tbody>\n",
       "    <tr>\n",
       "      <th>Go</th>\n",
       "      <td>5796.578947</td>\n",
       "    </tr>\n",
       "    <tr>\n",
       "      <th>Java</th>\n",
       "      <td>2620.972973</td>\n",
       "    </tr>\n",
       "    <tr>\n",
       "      <th>JavaScript</th>\n",
       "      <td>6930.531915</td>\n",
       "    </tr>\n",
       "    <tr>\n",
       "      <th>Not Listed</th>\n",
       "      <td>12022.097561</td>\n",
       "    </tr>\n",
       "    <tr>\n",
       "      <th>Other</th>\n",
       "      <td>5221.312925</td>\n",
       "    </tr>\n",
       "    <tr>\n",
       "      <th>Python</th>\n",
       "      <td>10335.891304</td>\n",
       "    </tr>\n",
       "    <tr>\n",
       "      <th>TypeScript</th>\n",
       "      <td>3391.875000</td>\n",
       "    </tr>\n",
       "  </tbody>\n",
       "</table>\n",
       "</div>"
      ],
      "text/plain": [
       "            lemmatized_len\n",
       "language                  \n",
       "Go             5796.578947\n",
       "Java           2620.972973\n",
       "JavaScript     6930.531915\n",
       "Not Listed    12022.097561\n",
       "Other          5221.312925\n",
       "Python        10335.891304\n",
       "TypeScript     3391.875000"
      ]
     },
     "execution_count": 8,
     "metadata": {},
     "output_type": "execute_result"
    }
   ],
   "source": [
    "pd.DataFrame(train.groupby('language').lemmatized_len.mean())"
   ]
  },
  {
   "cell_type": "code",
   "execution_count": 9,
   "id": "85d6e6e2",
   "metadata": {},
   "outputs": [],
   "source": [
    "import seaborn as sns"
   ]
  },
  {
   "cell_type": "code",
   "execution_count": 10,
   "id": "8655e7d8",
   "metadata": {},
   "outputs": [
    {
     "data": {
      "text/plain": [
       "<AxesSubplot:xlabel='language', ylabel='lemmatized_len'>"
      ]
     },
     "execution_count": 10,
     "metadata": {},
     "output_type": "execute_result"
    },
    {
     "data": {
      "image/png": "[encoded data removed]",
      "text/plain": [
       "<Figure size 432x288 with 1 Axes>"
      ]
     },
     "metadata": {
      "needs_background": "light"
     },
     "output_type": "display_data"
    }
   ],
   "source": [
    "sns.barplot(x=\"language\", y=\"lemmatized_len\", data=train, palette='pastel')"
   ]
  },
  {
   "cell_type": "code",
   "execution_count": 11,
   "id": "e158a738",
   "metadata": {},
   "outputs": [],
   "source": [
    "go, java, javascript, not_listed, other, python, typescript = e.split_by_language(train)"
   ]
  },
  {
   "cell_type": "code",
   "execution_count": 12,
   "id": "fda0834d",
   "metadata": {},
   "outputs": [],
   "source": [
    "stat, p = stats.kruskal(go.lemmatized_len, java.lemmatized_len, javascript.lemmatized_len, not_listed.lemmatized_len, other.lemmatized_len, python.lemmatized_len, typescript.lemmatized_len)"
   ]
  },
  {
   "cell_type": "code",
   "execution_count": 13,
   "id": "e30fd065",
   "metadata": {
    "scrolled": true
   },
   "outputs": [
    {
     "data": {
      "text/markdown": [
       "## Because $\\alpha$ > p,we  reject $H_0$"
      ],
      "text/plain": [
       "<IPython.core.display.Markdown object>"
      ]
     },
     "execution_count": 13,
     "metadata": {},
     "output_type": "execute_result"
    }
   ],
   "source": [
    "e.p_to_md(p)"
   ]
  },
  {
   "cell_type": "code",
   "execution_count": null,
   "id": "59e9661a",
   "metadata": {},
   "outputs": [],
   "source": []
  },
  {
   "cell_type": "markdown",
   "id": "99851474",
   "metadata": {},
   "source": [
    "## Does the name of the programming language appearing in the README indicate the main programming language?"
   ]
  },
  {
   "cell_type": "code",
   "execution_count": 67,
   "id": "cb094b19",
   "metadata": {},
   "outputs": [],
   "source": [
    "# Only \n",
    "js_js= train.language =='JavaScript'"
   ]
  },
  {
   "cell_type": "code",
   "execution_count": 68,
   "id": "f44099f9",
   "metadata": {},
   "outputs": [],
   "source": [
    "all_js = train.lemmatized.str.contains('javascript')"
   ]
  },
  {
   "cell_type": "code",
   "execution_count": 70,
   "id": "53cbba5d",
   "metadata": {},
   "outputs": [],
   "source": [
    "js_ctab = pd.crosstab(js_js, all_js)"
   ]
  },
  {
   "cell_type": "code",
   "execution_count": 71,
   "id": "ef225186",
   "metadata": {},
   "outputs": [],
   "source": [
    "stat, p, degf, expected = stats.chi2_contingency(ctab)"
   ]
  },
  {
   "cell_type": "code",
   "execution_count": 72,
   "id": "6dcd184a",
   "metadata": {
    "scrolled": true
   },
   "outputs": [
    {
     "data": {
      "text/plain": [
       "1.2887102375992508e-07"
      ]
     },
     "execution_count": 72,
     "metadata": {},
     "output_type": "execute_result"
    }
   ],
   "source": [
    "p"
   ]
  },
  {
   "cell_type": "code",
   "execution_count": null,
   "id": "c3bc3bf5",
   "metadata": {},
   "outputs": [],
   "source": []
  },
  {
   "cell_type": "code",
   "execution_count": 19,
   "id": "9e377243",
   "metadata": {},
   "outputs": [],
   "source": [
    "# Only \n",
    "python_python =train.language =='Python'"
   ]
  },
  {
   "cell_type": "code",
   "execution_count": 20,
   "id": "aeb3c01c",
   "metadata": {},
   "outputs": [],
   "source": [
    "all_python = train.lemmatized.str.contains('python')"
   ]
  },
  {
   "cell_type": "code",
   "execution_count": 21,
   "id": "8b170bfd",
   "metadata": {},
   "outputs": [],
   "source": [
    "ctab = pd.crosstab(python_python, all_python)"
   ]
  },
  {
   "cell_type": "code",
   "execution_count": 22,
   "id": "fd069580",
   "metadata": {},
   "outputs": [],
   "source": [
    "stat, p, degf, expected = stats.chi2_contingency(ctab)"
   ]
  },
  {
   "cell_type": "code",
   "execution_count": 23,
   "id": "e37d0d5a",
   "metadata": {},
   "outputs": [
    {
     "data": {
      "text/plain": [
       "9.234695818751059e-22"
      ]
     },
     "execution_count": 23,
     "metadata": {},
     "output_type": "execute_result"
    }
   ],
   "source": [
    "p"
   ]
  },
  {
   "cell_type": "markdown",
   "id": "3ca8062a",
   "metadata": {},
   "source": [
    "### Go NOT significant no need to encode"
   ]
  },
  {
   "cell_type": "code",
   "execution_count": 24,
   "id": "73063148",
   "metadata": {},
   "outputs": [],
   "source": [
    "# Only \n",
    "gogo = train.language == 'Go'"
   ]
  },
  {
   "cell_type": "code",
   "execution_count": 25,
   "id": "7b91985d",
   "metadata": {},
   "outputs": [],
   "source": [
    "all_go = train.lemmatized.str.contains('go')"
   ]
  },
  {
   "cell_type": "code",
   "execution_count": 26,
   "id": "fc91abb2",
   "metadata": {},
   "outputs": [],
   "source": [
    "ctab = pd.crosstab(gogo, all_go)"
   ]
  },
  {
   "cell_type": "code",
   "execution_count": 27,
   "id": "671a0dbf",
   "metadata": {},
   "outputs": [],
   "source": [
    "stat, p, degf, expected = stats.chi2_contingency(ctab)"
   ]
  },
  {
   "cell_type": "code",
   "execution_count": 28,
   "id": "a2f905c9",
   "metadata": {},
   "outputs": [
    {
     "data": {
      "text/plain": [
       "0.00473035534974974"
      ]
     },
     "execution_count": 28,
     "metadata": {},
     "output_type": "execute_result"
    }
   ],
   "source": [
    "p"
   ]
  },
  {
   "cell_type": "code",
   "execution_count": null,
   "id": "da813ceb",
   "metadata": {},
   "outputs": [],
   "source": []
  },
  {
   "cell_type": "code",
   "execution_count": 29,
   "id": "c51eed8d",
   "metadata": {},
   "outputs": [],
   "source": [
    "# Only \n",
    "typescript_typescript = train.language == 'TypeScript'"
   ]
  },
  {
   "cell_type": "code",
   "execution_count": 30,
   "id": "260aed00",
   "metadata": {},
   "outputs": [],
   "source": [
    "all_typescript = train.lemmatized.str.contains('typescript')"
   ]
  },
  {
   "cell_type": "code",
   "execution_count": 31,
   "id": "2cc31d24",
   "metadata": {},
   "outputs": [],
   "source": [
    "ctab = pd.crosstab(typescript_typescript, all_typescript)"
   ]
  },
  {
   "cell_type": "code",
   "execution_count": 32,
   "id": "bddbf0f9",
   "metadata": {},
   "outputs": [],
   "source": [
    "stat, p, degf, expected = stats.chi2_contingency(ctab)"
   ]
  },
  {
   "cell_type": "code",
   "execution_count": 33,
   "id": "8e172f5e",
   "metadata": {},
   "outputs": [
    {
     "data": {
      "text/plain": [
       "1.2887102375992508e-07"
      ]
     },
     "execution_count": 33,
     "metadata": {},
     "output_type": "execute_result"
    }
   ],
   "source": [
    "p"
   ]
  },
  {
   "cell_type": "code",
   "execution_count": null,
   "id": "604b9d9d",
   "metadata": {},
   "outputs": [],
   "source": []
  },
  {
   "cell_type": "code",
   "execution_count": 34,
   "id": "b28e8e83",
   "metadata": {},
   "outputs": [],
   "source": [
    "javascript_words_freq = e.get_ngram_frequency(javascript.lemmatized)\n",
    "python_words_freq = e.get_ngram_frequency(python.lemmatized)\n",
    "typescript_words_freq = e.get_ngram_frequency(typescript.lemmatized)\n",
    "go_words_freq = e.get_ngram_frequency(go.lemmatized)\n",
    "other_series_freq = e.get_ngram_frequency(other.lemmatized)\n",
    "not_listed_freq = e.get_ngram_frequency(not_listed.lemmatized)\n",
    "java_words_freq = e.get_ngram_frequency(java.lemmatized)\n",
    "all_words_freq = e.get_ngram_frequency(train.lemmatized)"
   ]
  },
  {
   "cell_type": "code",
   "execution_count": 54,
   "id": "c7308dd8",
   "metadata": {
    "scrolled": true
   },
   "outputs": [
    {
     "data": {
      "text/html": [
       "<div>\n",
       "<style scoped>\n",
       "    .dataframe tbody tr th:only-of-type {\n",
       "        vertical-align: middle;\n",
       "    }\n",
       "\n",
       "    .dataframe tbody tr th {\n",
       "        vertical-align: top;\n",
       "    }\n",
       "\n",
       "    .dataframe thead th {\n",
       "        text-align: right;\n",
       "    }\n",
       "</style>\n",
       "<table border=\"1\" class=\"dataframe\">\n",
       "  <thead>\n",
       "    <tr style=\"text-align: right;\">\n",
       "      <th></th>\n",
       "      <th>all</th>\n",
       "      <th>javascript</th>\n",
       "      <th>typescript</th>\n",
       "      <th>go</th>\n",
       "      <th>python</th>\n",
       "      <th>java</th>\n",
       "      <th>other</th>\n",
       "      <th>not_listed</th>\n",
       "    </tr>\n",
       "  </thead>\n",
       "  <tbody>\n",
       "    <tr>\n",
       "      <th>.</th>\n",
       "      <td>1</td>\n",
       "      <td>0</td>\n",
       "      <td>0</td>\n",
       "      <td>0</td>\n",
       "      <td>0</td>\n",
       "      <td>0</td>\n",
       "      <td>1</td>\n",
       "      <td>0</td>\n",
       "    </tr>\n",
       "    <tr>\n",
       "      <th>..</th>\n",
       "      <td>534</td>\n",
       "      <td>136</td>\n",
       "      <td>13</td>\n",
       "      <td>72</td>\n",
       "      <td>146</td>\n",
       "      <td>28</td>\n",
       "      <td>113</td>\n",
       "      <td>26</td>\n",
       "    </tr>\n",
       "    <tr>\n",
       "      <th>...</th>\n",
       "      <td>116</td>\n",
       "      <td>54</td>\n",
       "      <td>1</td>\n",
       "      <td>5</td>\n",
       "      <td>22</td>\n",
       "      <td>7</td>\n",
       "      <td>16</td>\n",
       "      <td>11</td>\n",
       "    </tr>\n",
       "    <tr>\n",
       "      <th>....</th>\n",
       "      <td>45</td>\n",
       "      <td>7</td>\n",
       "      <td>2</td>\n",
       "      <td>6</td>\n",
       "      <td>28</td>\n",
       "      <td>0</td>\n",
       "      <td>2</td>\n",
       "      <td>0</td>\n",
       "    </tr>\n",
       "    <tr>\n",
       "      <th>.....</th>\n",
       "      <td>9</td>\n",
       "      <td>1</td>\n",
       "      <td>0</td>\n",
       "      <td>2</td>\n",
       "      <td>0</td>\n",
       "      <td>3</td>\n",
       "      <td>3</td>\n",
       "      <td>0</td>\n",
       "    </tr>\n",
       "    <tr>\n",
       "      <th>......</th>\n",
       "      <td>7</td>\n",
       "      <td>0</td>\n",
       "      <td>0</td>\n",
       "      <td>0</td>\n",
       "      <td>7</td>\n",
       "      <td>0</td>\n",
       "      <td>0</td>\n",
       "      <td>0</td>\n",
       "    </tr>\n",
       "    <tr>\n",
       "      <th>........</th>\n",
       "      <td>1</td>\n",
       "      <td>0</td>\n",
       "      <td>0</td>\n",
       "      <td>0</td>\n",
       "      <td>1</td>\n",
       "      <td>0</td>\n",
       "      <td>0</td>\n",
       "      <td>0</td>\n",
       "    </tr>\n",
       "    <tr>\n",
       "      <th>.........</th>\n",
       "      <td>1</td>\n",
       "      <td>0</td>\n",
       "      <td>0</td>\n",
       "      <td>0</td>\n",
       "      <td>1</td>\n",
       "      <td>0</td>\n",
       "      <td>0</td>\n",
       "      <td>0</td>\n",
       "    </tr>\n",
       "    <tr>\n",
       "      <th>..........</th>\n",
       "      <td>1</td>\n",
       "      <td>0</td>\n",
       "      <td>0</td>\n",
       "      <td>0</td>\n",
       "      <td>1</td>\n",
       "      <td>0</td>\n",
       "      <td>0</td>\n",
       "      <td>0</td>\n",
       "    </tr>\n",
       "    <tr>\n",
       "      <th>...........</th>\n",
       "      <td>1</td>\n",
       "      <td>0</td>\n",
       "      <td>0</td>\n",
       "      <td>0</td>\n",
       "      <td>1</td>\n",
       "      <td>0</td>\n",
       "      <td>0</td>\n",
       "      <td>0</td>\n",
       "    </tr>\n",
       "    <tr>\n",
       "      <th>...............</th>\n",
       "      <td>1</td>\n",
       "      <td>0</td>\n",
       "      <td>0</td>\n",
       "      <td>0</td>\n",
       "      <td>1</td>\n",
       "      <td>0</td>\n",
       "      <td>0</td>\n",
       "      <td>0</td>\n",
       "    </tr>\n",
       "    <tr>\n",
       "      <th>................</th>\n",
       "      <td>1</td>\n",
       "      <td>0</td>\n",
       "      <td>0</td>\n",
       "      <td>0</td>\n",
       "      <td>1</td>\n",
       "      <td>0</td>\n",
       "      <td>0</td>\n",
       "      <td>0</td>\n",
       "    </tr>\n",
       "    <tr>\n",
       "      <th>..................</th>\n",
       "      <td>1</td>\n",
       "      <td>0</td>\n",
       "      <td>0</td>\n",
       "      <td>0</td>\n",
       "      <td>1</td>\n",
       "      <td>0</td>\n",
       "      <td>0</td>\n",
       "      <td>0</td>\n",
       "    </tr>\n",
       "    <tr>\n",
       "      <th>.........................</th>\n",
       "      <td>1</td>\n",
       "      <td>0</td>\n",
       "      <td>0</td>\n",
       "      <td>0</td>\n",
       "      <td>1</td>\n",
       "      <td>0</td>\n",
       "      <td>0</td>\n",
       "      <td>0</td>\n",
       "    </tr>\n",
       "    <tr>\n",
       "      <th>.....................................</th>\n",
       "      <td>1</td>\n",
       "      <td>0</td>\n",
       "      <td>0</td>\n",
       "      <td>0</td>\n",
       "      <td>1</td>\n",
       "      <td>0</td>\n",
       "      <td>0</td>\n",
       "      <td>0</td>\n",
       "    </tr>\n",
       "    <tr>\n",
       "      <th>.0.networksettings.ipaddress</th>\n",
       "      <td>1</td>\n",
       "      <td>0</td>\n",
       "      <td>0</td>\n",
       "      <td>0</td>\n",
       "      <td>0</td>\n",
       "      <td>0</td>\n",
       "      <td>0</td>\n",
       "      <td>1</td>\n",
       "    </tr>\n",
       "    <tr>\n",
       "      <th>.05</th>\n",
       "      <td>1</td>\n",
       "      <td>1</td>\n",
       "      <td>0</td>\n",
       "      <td>0</td>\n",
       "      <td>0</td>\n",
       "      <td>0</td>\n",
       "      <td>0</td>\n",
       "      <td>0</td>\n",
       "    </tr>\n",
       "    <tr>\n",
       "      <th>.09.jpg</th>\n",
       "      <td>2</td>\n",
       "      <td>0</td>\n",
       "      <td>0</td>\n",
       "      <td>0</td>\n",
       "      <td>0</td>\n",
       "      <td>0</td>\n",
       "      <td>2</td>\n",
       "      <td>0</td>\n",
       "    </tr>\n",
       "    <tr>\n",
       "      <th>.1</th>\n",
       "      <td>1</td>\n",
       "      <td>0</td>\n",
       "      <td>0</td>\n",
       "      <td>1</td>\n",
       "      <td>0</td>\n",
       "      <td>0</td>\n",
       "      <td>0</td>\n",
       "      <td>0</td>\n",
       "    </tr>\n",
       "    <tr>\n",
       "      <th>.1053</th>\n",
       "      <td>1</td>\n",
       "      <td>0</td>\n",
       "      <td>0</td>\n",
       "      <td>1</td>\n",
       "      <td>0</td>\n",
       "      <td>0</td>\n",
       "      <td>0</td>\n",
       "      <td>0</td>\n",
       "    </tr>\n",
       "  </tbody>\n",
       "</table>\n",
       "</div>"
      ],
      "text/plain": [
       "                                       all  javascript  typescript  go  \\\n",
       ".                                        1           0           0   0   \n",
       "..                                     534         136          13  72   \n",
       "...                                    116          54           1   5   \n",
       "....                                    45           7           2   6   \n",
       ".....                                    9           1           0   2   \n",
       "......                                   7           0           0   0   \n",
       "........                                 1           0           0   0   \n",
       ".........                                1           0           0   0   \n",
       "..........                               1           0           0   0   \n",
       "...........                              1           0           0   0   \n",
       "...............                          1           0           0   0   \n",
       "................                         1           0           0   0   \n",
       "..................                       1           0           0   0   \n",
       ".........................                1           0           0   0   \n",
       ".....................................    1           0           0   0   \n",
       ".0.networksettings.ipaddress             1           0           0   0   \n",
       ".05                                      1           1           0   0   \n",
       ".09.jpg                                  2           0           0   0   \n",
       ".1                                       1           0           0   1   \n",
       ".1053                                    1           0           0   1   \n",
       "\n",
       "                                       python  java  other  not_listed  \n",
       ".                                           0     0      1           0  \n",
       "..                                        146    28    113          26  \n",
       "...                                        22     7     16          11  \n",
       "....                                       28     0      2           0  \n",
       ".....                                       0     3      3           0  \n",
       "......                                      7     0      0           0  \n",
       "........                                    1     0      0           0  \n",
       ".........                                   1     0      0           0  \n",
       "..........                                  1     0      0           0  \n",
       "...........                                 1     0      0           0  \n",
       "...............                             1     0      0           0  \n",
       "................                            1     0      0           0  \n",
       "..................                          1     0      0           0  \n",
       ".........................                   1     0      0           0  \n",
       ".....................................       1     0      0           0  \n",
       ".0.networksettings.ipaddress                0     0      0           1  \n",
       ".05                                         0     0      0           0  \n",
       ".09.jpg                                     0     0      2           0  \n",
       ".1                                          0     0      0           0  \n",
       ".1053                                       0     0      0           0  "
      ]
     },
     "execution_count": 54,
     "metadata": {},
     "output_type": "execute_result"
    }
   ],
   "source": [
    "word_counts = (pd.concat([all_words_freq, javascript_words_freq,typescript_words_freq,go_words_freq, python_words_freq, java_words_freq, other_series_freq, not_listed_freq], axis=1, sort=True)\n",
    "                .set_axis(['all', 'javascript','typescript','go', 'python', 'java','other','not_listed'], axis=1, inplace=False)\n",
    "                .fillna(0)\n",
    "                .apply(lambda s: s.astype(int)))\n",
    "word_counts_limited = word_counts[(word_counts.index=='javascript') | (word_counts.index=='python') | (word_counts.index=='typescript') | (word_counts.index=='go') | (word_counts.index=='java')]\n"
   ]
  },
  {
   "cell_type": "code",
   "execution_count": 97,
   "id": "da768f93",
   "metadata": {},
   "outputs": [
    {
     "data": {
      "text/html": [
       "<div>\n",
       "<style scoped>\n",
       "    .dataframe tbody tr th:only-of-type {\n",
       "        vertical-align: middle;\n",
       "    }\n",
       "\n",
       "    .dataframe tbody tr th {\n",
       "        vertical-align: top;\n",
       "    }\n",
       "\n",
       "    .dataframe thead th {\n",
       "        text-align: right;\n",
       "    }\n",
       "</style>\n",
       "<table border=\"1\" class=\"dataframe\">\n",
       "  <thead>\n",
       "    <tr style=\"text-align: right;\">\n",
       "      <th></th>\n",
       "      <th>all</th>\n",
       "      <th>javascript</th>\n",
       "      <th>typescript</th>\n",
       "      <th>go</th>\n",
       "      <th>python</th>\n",
       "      <th>java</th>\n",
       "      <th>other</th>\n",
       "      <th>not_listed</th>\n",
       "    </tr>\n",
       "  </thead>\n",
       "  <tbody>\n",
       "    <tr>\n",
       "      <th>go</th>\n",
       "      <td>428</td>\n",
       "      <td>38</td>\n",
       "      <td>15</td>\n",
       "      <td>200</td>\n",
       "      <td>25</td>\n",
       "      <td>11</td>\n",
       "      <td>90</td>\n",
       "      <td>49</td>\n",
       "    </tr>\n",
       "    <tr>\n",
       "      <th>java</th>\n",
       "      <td>282</td>\n",
       "      <td>4</td>\n",
       "      <td>1</td>\n",
       "      <td>6</td>\n",
       "      <td>11</td>\n",
       "      <td>82</td>\n",
       "      <td>95</td>\n",
       "      <td>83</td>\n",
       "    </tr>\n",
       "    <tr>\n",
       "      <th>javascript</th>\n",
       "      <td>629</td>\n",
       "      <td>464</td>\n",
       "      <td>33</td>\n",
       "      <td>6</td>\n",
       "      <td>10</td>\n",
       "      <td>3</td>\n",
       "      <td>52</td>\n",
       "      <td>61</td>\n",
       "    </tr>\n",
       "    <tr>\n",
       "      <th>python</th>\n",
       "      <td>610</td>\n",
       "      <td>16</td>\n",
       "      <td>1</td>\n",
       "      <td>9</td>\n",
       "      <td>403</td>\n",
       "      <td>7</td>\n",
       "      <td>111</td>\n",
       "      <td>63</td>\n",
       "    </tr>\n",
       "    <tr>\n",
       "      <th>typescript</th>\n",
       "      <td>129</td>\n",
       "      <td>39</td>\n",
       "      <td>53</td>\n",
       "      <td>2</td>\n",
       "      <td>0</td>\n",
       "      <td>2</td>\n",
       "      <td>24</td>\n",
       "      <td>9</td>\n",
       "    </tr>\n",
       "  </tbody>\n",
       "</table>\n",
       "</div>"
      ],
      "text/plain": [
       "            all  javascript  typescript   go  python  java  other  not_listed\n",
       "go          428          38          15  200      25    11     90          49\n",
       "java        282           4           1    6      11    82     95          83\n",
       "javascript  629         464          33    6      10     3     52          61\n",
       "python      610          16           1    9     403     7    111          63\n",
       "typescript  129          39          53    2       0     2     24           9"
      ]
     },
     "execution_count": 97,
     "metadata": {},
     "output_type": "execute_result"
    }
   ],
   "source": [
    "word_counts_limited"
   ]
  },
  {
   "cell_type": "code",
   "execution_count": 64,
   "id": "3c5215e4",
   "metadata": {},
   "outputs": [
    {
     "ename": "ValueError",
     "evalue": "pride is not a valid palette name",
     "output_type": "error",
     "traceback": [
      "\u001b[0;31m---------------------------------------------------------------------------\u001b[0m",
      "\u001b[0;31mValueError\u001b[0m                                Traceback (most recent call last)",
      "File \u001b[0;32m/usr/local/anaconda3/lib/python3.9/site-packages/seaborn/palettes.py:206\u001b[0m, in \u001b[0;36mcolor_palette\u001b[0;34m(palette, n_colors, desat, as_cmap)\u001b[0m\n\u001b[1;32m    204\u001b[0m \u001b[38;5;28;01mtry\u001b[39;00m:\n\u001b[1;32m    205\u001b[0m     \u001b[38;5;66;03m# Perhaps a named matplotlib colormap?\u001b[39;00m\n\u001b[0;32m--> 206\u001b[0m     palette \u001b[38;5;241m=\u001b[39m \u001b[43mmpl_palette\u001b[49m\u001b[43m(\u001b[49m\u001b[43mpalette\u001b[49m\u001b[43m,\u001b[49m\u001b[43m \u001b[49m\u001b[43mn_colors\u001b[49m\u001b[43m,\u001b[49m\u001b[43m \u001b[49m\u001b[43mas_cmap\u001b[49m\u001b[38;5;241;43m=\u001b[39;49m\u001b[43mas_cmap\u001b[49m\u001b[43m)\u001b[49m\n\u001b[1;32m    207\u001b[0m \u001b[38;5;28;01mexcept\u001b[39;00m \u001b[38;5;167;01mValueError\u001b[39;00m:\n",
      "File \u001b[0;32m/usr/local/anaconda3/lib/python3.9/site-packages/seaborn/palettes.py:443\u001b[0m, in \u001b[0;36mmpl_palette\u001b[0;34m(name, n_colors, as_cmap)\u001b[0m\n\u001b[1;32m    442\u001b[0m \u001b[38;5;28;01melse\u001b[39;00m:\n\u001b[0;32m--> 443\u001b[0m     cmap \u001b[38;5;241m=\u001b[39m \u001b[43mmpl\u001b[49m\u001b[38;5;241;43m.\u001b[39;49m\u001b[43mcm\u001b[49m\u001b[38;5;241;43m.\u001b[39;49m\u001b[43mget_cmap\u001b[49m\u001b[43m(\u001b[49m\u001b[43mname\u001b[49m\u001b[43m)\u001b[49m\n\u001b[1;32m    445\u001b[0m \u001b[38;5;28;01mif\u001b[39;00m name \u001b[38;5;129;01min\u001b[39;00m MPL_QUAL_PALS:\n",
      "File \u001b[0;32m/usr/local/anaconda3/lib/python3.9/site-packages/matplotlib/cm.py:286\u001b[0m, in \u001b[0;36mget_cmap\u001b[0;34m(name, lut)\u001b[0m\n\u001b[1;32m    285\u001b[0m     \u001b[38;5;28;01mreturn\u001b[39;00m name\n\u001b[0;32m--> 286\u001b[0m \u001b[43m_api\u001b[49m\u001b[38;5;241;43m.\u001b[39;49m\u001b[43mcheck_in_list\u001b[49m\u001b[43m(\u001b[49m\u001b[38;5;28;43msorted\u001b[39;49m\u001b[43m(\u001b[49m\u001b[43m_cmap_registry\u001b[49m\u001b[43m)\u001b[49m\u001b[43m,\u001b[49m\u001b[43m \u001b[49m\u001b[43mname\u001b[49m\u001b[38;5;241;43m=\u001b[39;49m\u001b[43mname\u001b[49m\u001b[43m)\u001b[49m\n\u001b[1;32m    287\u001b[0m \u001b[38;5;28;01mif\u001b[39;00m lut \u001b[38;5;129;01mis\u001b[39;00m \u001b[38;5;28;01mNone\u001b[39;00m:\n",
      "File \u001b[0;32m/usr/local/anaconda3/lib/python3.9/site-packages/matplotlib/_api/__init__.py:129\u001b[0m, in \u001b[0;36mcheck_in_list\u001b[0;34m(_values, _print_supported_values, **kwargs)\u001b[0m\n\u001b[1;32m    128\u001b[0m     msg \u001b[38;5;241m+\u001b[39m\u001b[38;5;241m=\u001b[39m \u001b[38;5;124mf\u001b[39m\u001b[38;5;124m\"\u001b[39m\u001b[38;5;124m; supported values are \u001b[39m\u001b[38;5;132;01m{\u001b[39;00m\u001b[38;5;124m'\u001b[39m\u001b[38;5;124m, \u001b[39m\u001b[38;5;124m'\u001b[39m\u001b[38;5;241m.\u001b[39mjoin(\u001b[38;5;28mmap\u001b[39m(\u001b[38;5;28mrepr\u001b[39m, values))\u001b[38;5;132;01m}\u001b[39;00m\u001b[38;5;124m\"\u001b[39m\n\u001b[0;32m--> 129\u001b[0m \u001b[38;5;28;01mraise\u001b[39;00m \u001b[38;5;167;01mValueError\u001b[39;00m(msg)\n",
      "\u001b[0;31mValueError\u001b[0m: 'pride' is not a valid value for name; supported values are 'Accent', 'Accent_r', 'Blues', 'Blues_r', 'BrBG', 'BrBG_r', 'BuGn', 'BuGn_r', 'BuPu', 'BuPu_r', 'CMRmap', 'CMRmap_r', 'Dark2', 'Dark2_r', 'GnBu', 'GnBu_r', 'Greens', 'Greens_r', 'Greys', 'Greys_r', 'OrRd', 'OrRd_r', 'Oranges', 'Oranges_r', 'PRGn', 'PRGn_r', 'Paired', 'Paired_r', 'Pastel1', 'Pastel1_r', 'Pastel2', 'Pastel2_r', 'PiYG', 'PiYG_r', 'PuBu', 'PuBuGn', 'PuBuGn_r', 'PuBu_r', 'PuOr', 'PuOr_r', 'PuRd', 'PuRd_r', 'Purples', 'Purples_r', 'RdBu', 'RdBu_r', 'RdGy', 'RdGy_r', 'RdPu', 'RdPu_r', 'RdYlBu', 'RdYlBu_r', 'RdYlGn', 'RdYlGn_r', 'Reds', 'Reds_r', 'Set1', 'Set1_r', 'Set2', 'Set2_r', 'Set3', 'Set3_r', 'Spectral', 'Spectral_r', 'Wistia', 'Wistia_r', 'YlGn', 'YlGnBu', 'YlGnBu_r', 'YlGn_r', 'YlOrBr', 'YlOrBr_r', 'YlOrRd', 'YlOrRd_r', 'afmhot', 'afmhot_r', 'autumn', 'autumn_r', 'binary', 'binary_r', 'bone', 'bone_r', 'brg', 'brg_r', 'bwr', 'bwr_r', 'cividis', 'cividis_r', 'cool', 'cool_r', 'coolwarm', 'coolwarm_r', 'copper', 'copper_r', 'crest', 'crest_r', 'cubehelix', 'cubehelix_r', 'flag', 'flag_r', 'flare', 'flare_r', 'gist_earth', 'gist_earth_r', 'gist_gray', 'gist_gray_r', 'gist_heat', 'gist_heat_r', 'gist_ncar', 'gist_ncar_r', 'gist_rainbow', 'gist_rainbow_r', 'gist_stern', 'gist_stern_r', 'gist_yarg', 'gist_yarg_r', 'gnuplot', 'gnuplot2', 'gnuplot2_r', 'gnuplot_r', 'gray', 'gray_r', 'hot', 'hot_r', 'hsv', 'hsv_r', 'icefire', 'icefire_r', 'inferno', 'inferno_r', 'jet', 'jet_r', 'magma', 'magma_r', 'mako', 'mako_r', 'nipy_spectral', 'nipy_spectral_r', 'ocean', 'ocean_r', 'pink', 'pink_r', 'plasma', 'plasma_r', 'prism', 'prism_r', 'rainbow', 'rainbow_r', 'rocket', 'rocket_r', 'seismic', 'seismic_r', 'spring', 'spring_r', 'summer', 'summer_r', 'tab10', 'tab10_r', 'tab20', 'tab20_r', 'tab20b', 'tab20b_r', 'tab20c', 'tab20c_r', 'terrain', 'terrain_r', 'turbo', 'turbo_r', 'twilight', 'twilight_r', 'twilight_shifted', 'twilight_shifted_r', 'viridis', 'viridis_r', 'vlag', 'vlag_r', 'winter', 'winter_r'",
      "\nDuring handling of the above exception, another exception occurred:\n",
      "\u001b[0;31mValueError\u001b[0m                                Traceback (most recent call last)",
      "Input \u001b[0;32mIn [64]\u001b[0m, in \u001b[0;36m<cell line: 5>\u001b[0;34m()\u001b[0m\n\u001b[1;32m      2\u001b[0m ax \u001b[38;5;241m=\u001b[39m plt\u001b[38;5;241m.\u001b[39msubplot(\u001b[38;5;241m111\u001b[39m)\n\u001b[1;32m      3\u001b[0m plt\u001b[38;5;241m.\u001b[39mrcParams\u001b[38;5;241m.\u001b[39mupdate({\u001b[38;5;124m'\u001b[39m\u001b[38;5;124mfont.size\u001b[39m\u001b[38;5;124m'\u001b[39m: \u001b[38;5;241m16\u001b[39m})\n\u001b[1;32m      5\u001b[0m (word_counts_limited\u001b[38;5;241m.\u001b[39msort_values(\u001b[38;5;124m'\u001b[39m\u001b[38;5;124mall\u001b[39m\u001b[38;5;124m'\u001b[39m, ascending\u001b[38;5;241m=\u001b[39m\u001b[38;5;28;01mFalse\u001b[39;00m)\n\u001b[1;32m      6\u001b[0m  \u001b[38;5;241m.\u001b[39mhead(\u001b[38;5;241m20\u001b[39m)\n\u001b[1;32m      7\u001b[0m  \u001b[38;5;241m.\u001b[39mapply(\u001b[38;5;28;01mlambda\u001b[39;00m row: row\u001b[38;5;241m/\u001b[39mrow[\u001b[38;5;124m'\u001b[39m\u001b[38;5;124mall\u001b[39m\u001b[38;5;124m'\u001b[39m], axis \u001b[38;5;241m=\u001b[39m \u001b[38;5;241m1\u001b[39m)\n\u001b[1;32m      8\u001b[0m  \u001b[38;5;241m.\u001b[39mdrop(columns \u001b[38;5;241m=\u001b[39m \u001b[38;5;124m'\u001b[39m\u001b[38;5;124mall\u001b[39m\u001b[38;5;124m'\u001b[39m)\n\u001b[1;32m      9\u001b[0m  \u001b[38;5;241m.\u001b[39msort_values(by\u001b[38;5;241m=\u001b[39m\u001b[38;5;124m'\u001b[39m\u001b[38;5;124mjavascript\u001b[39m\u001b[38;5;124m'\u001b[39m)\n\u001b[0;32m---> 10\u001b[0m  \u001b[38;5;241m.\u001b[39mplot\u001b[38;5;241m.\u001b[39mbarh(stacked \u001b[38;5;241m=\u001b[39m \u001b[38;5;28;01mTrue\u001b[39;00m, width \u001b[38;5;241m=\u001b[39m \u001b[38;5;241m1\u001b[39m, ec \u001b[38;5;241m=\u001b[39m \u001b[38;5;124m'\u001b[39m\u001b[38;5;124mk\u001b[39m\u001b[38;5;124m'\u001b[39m, legend\u001b[38;5;241m=\u001b[39m\u001b[38;5;28;01mFalse\u001b[39;00m, ax\u001b[38;5;241m=\u001b[39max, color\u001b[38;5;241m=\u001b[39m\u001b[43msns\u001b[49m\u001b[38;5;241;43m.\u001b[39;49m\u001b[43mcolor_palette\u001b[49m\u001b[43m(\u001b[49m\u001b[38;5;124;43m'\u001b[39;49m\u001b[38;5;124;43mpride\u001b[39;49m\u001b[38;5;124;43m'\u001b[39;49m\u001b[43m)\u001b[49m)\n\u001b[1;32m     11\u001b[0m )\n\u001b[1;32m     12\u001b[0m ax\u001b[38;5;241m.\u001b[39mlegend(loc\u001b[38;5;241m=\u001b[39m\u001b[38;5;124m'\u001b[39m\u001b[38;5;124mupper center\u001b[39m\u001b[38;5;124m'\u001b[39m, bbox_to_anchor\u001b[38;5;241m=\u001b[39m(\u001b[38;5;241m0.5\u001b[39m, \u001b[38;5;241m1.05\u001b[39m),\n\u001b[1;32m     13\u001b[0m           ncol\u001b[38;5;241m=\u001b[39m\u001b[38;5;241m7\u001b[39m, fancybox\u001b[38;5;241m=\u001b[39m\u001b[38;5;28;01mTrue\u001b[39;00m, shadow\u001b[38;5;241m=\u001b[39m\u001b[38;5;28;01mTrue\u001b[39;00m)\n\u001b[1;32m     14\u001b[0m ax\u001b[38;5;241m.\u001b[39mset_xlim(\u001b[38;5;241m0\u001b[39m,\u001b[38;5;241m1\u001b[39m)\n",
      "File \u001b[0;32m/usr/local/anaconda3/lib/python3.9/site-packages/seaborn/palettes.py:208\u001b[0m, in \u001b[0;36mcolor_palette\u001b[0;34m(palette, n_colors, desat, as_cmap)\u001b[0m\n\u001b[1;32m    206\u001b[0m             palette \u001b[38;5;241m=\u001b[39m mpl_palette(palette, n_colors, as_cmap\u001b[38;5;241m=\u001b[39mas_cmap)\n\u001b[1;32m    207\u001b[0m         \u001b[38;5;28;01mexcept\u001b[39;00m \u001b[38;5;167;01mValueError\u001b[39;00m:\n\u001b[0;32m--> 208\u001b[0m             \u001b[38;5;28;01mraise\u001b[39;00m \u001b[38;5;167;01mValueError\u001b[39;00m(\u001b[38;5;124m\"\u001b[39m\u001b[38;5;132;01m%s\u001b[39;00m\u001b[38;5;124m is not a valid palette name\u001b[39m\u001b[38;5;124m\"\u001b[39m \u001b[38;5;241m%\u001b[39m palette)\n\u001b[1;32m    210\u001b[0m \u001b[38;5;28;01mif\u001b[39;00m desat \u001b[38;5;129;01mis\u001b[39;00m \u001b[38;5;129;01mnot\u001b[39;00m \u001b[38;5;28;01mNone\u001b[39;00m:\n\u001b[1;32m    211\u001b[0m     palette \u001b[38;5;241m=\u001b[39m [desaturate(c, desat) \u001b[38;5;28;01mfor\u001b[39;00m c \u001b[38;5;129;01min\u001b[39;00m palette]\n",
      "\u001b[0;31mValueError\u001b[0m: pride is not a valid palette name"
     ]
    },
    {
     "data": {
      "image/png": "[encoded data removed]",
      "text/plain": [
       "<Figure size 1440x720 with 1 Axes>"
      ]
     },
     "metadata": {
      "needs_background": "light"
     },
     "output_type": "display_data"
    }
   ],
   "source": [
    "fig = plt.figure(figsize=(20, 10))\n",
    "ax = plt.subplot(111)\n",
    "plt.rcParams.update({'font.size': 16})\n",
    "\n",
    "(word_counts_limited.sort_values('all', ascending=False)\n",
    " .head(20)\n",
    " .apply(lambda row: row/row['all'], axis = 1)\n",
    " .drop(columns = 'all')\n",
    " .sort_values(by='javascript')\n",
    " .plot.barh(stacked = True, width = 1, ec = 'k', legend=False, ax=ax, color=sns.color_palette('pride'))\n",
    ")\n",
    "ax.legend(loc='upper center', bbox_to_anchor=(0.5, 1.05),\n",
    "          ncol=7, fancybox=True, shadow=True)\n",
    "ax.set_xlim(0,1)\n",
    "plt.show()"
   ]
  },
  {
   "cell_type": "code",
   "execution_count": 78,
   "id": "5a7afde1",
   "metadata": {},
   "outputs": [],
   "source": [
    "def title_chi2(df, word):\n",
    "    lang = df.language\n",
    "    has_word = df.repo.str.contains(word)\n",
    "    ctab = pd.crosstab(lang, has_word)\n",
    "    stat, p, degf, expected = stats.chi2_contingency(ctab)\n",
    "    return p_to_md(p)"
   ]
  },
  {
   "cell_type": "code",
   "execution_count": 79,
   "id": "b01c9914",
   "metadata": {},
   "outputs": [
    {
     "data": {
      "text/markdown": [
       "## Because $\\alpha$ > p,we  reject $H_0$"
      ],
      "text/plain": [
       "<IPython.core.display.Markdown object>"
      ]
     },
     "execution_count": 79,
     "metadata": {},
     "output_type": "execute_result"
    }
   ],
   "source": [
    "title_chi2(train, 'go')"
   ]
  },
  {
   "cell_type": "code",
   "execution_count": 95,
   "id": "b2fdc3e1",
   "metadata": {},
   "outputs": [],
   "source": [
    "def language_name_chi2(df, lang):\n",
    "    series = df.language == lang\n",
    "    has_word = df.lemmatized.str.contains(lang.lower())\n",
    "    ctab = pd.crosstab(series, has_word)\n",
    "    stat, p, degf, expected = stats.chi2_contingency(ctab)\n",
    "    return e.p_to_md(p)"
   ]
  },
  {
   "cell_type": "code",
   "execution_count": 96,
   "id": "20fea8ba",
   "metadata": {},
   "outputs": [
    {
     "data": {
      "text/markdown": [
       "## Because $\\alpha$ > p,we  reject $H_0$"
      ],
      "text/plain": [
       "<IPython.core.display.Markdown object>"
      ]
     },
     "execution_count": 96,
     "metadata": {},
     "output_type": "execute_result"
    }
   ],
   "source": [
    "language_name_chi2(train, 'JavaScript')"
   ]
  },
  {
   "cell_type": "code",
   "execution_count": null,
   "id": "ccd30818",
   "metadata": {},
   "outputs": [],
   "source": []
  }
 ],
 "metadata": {
  "kernelspec": {
   "display_name": "Python 3 (ipykernel)",
   "language": "python",
   "name": "python3"
  },
  "language_info": {
   "codemirror_mode": {
    "name": "ipython",
    "version": 3
   },
   "file_extension": ".py",
   "mimetype": "text/x-python",
   "name": "python",
   "nbconvert_exporter": "python",
   "pygments_lexer": "ipython3",
   "version": "3.9.12"
  }
 },
 "nbformat": 4,
 "nbformat_minor": 5
}
