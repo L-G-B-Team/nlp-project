{
 "cells": [
  {
   "cell_type": "code",
   "execution_count": 1,
   "id": "2880c519",
   "metadata": {},
   "outputs": [],
   "source": [
    "import pandas as pd\n",
    "import matplotlib.pyplot as plt\n",
    "import seaborn as sns\n",
    "\n",
    "from importlib import reload\n",
    "\n",
    "import acquire as a \n",
    "import prepare as p\n",
    "import explore as e\n",
    "\n",
    "from scipy import stats"
   ]
  },
  {
   "cell_type": "code",
   "execution_count": 2,
   "id": "fbb4eda0",
   "metadata": {},
   "outputs": [],
   "source": [
    "df = a.acquire_readmes()"
   ]
  },
  {
   "cell_type": "code",
   "execution_count": 3,
   "id": "81fe4f72",
   "metadata": {},
   "outputs": [],
   "source": [
    "df = p.prep_df_for_nlp(df,'readme_contents',extra_words=p.EXTRA_WORDS)"
   ]
  },
  {
   "cell_type": "code",
   "execution_count": 4,
   "id": "e7e4850d",
   "metadata": {},
   "outputs": [],
   "source": [
    "train, validate, test = p.split_data(df, 'language')"
   ]
  },
  {
   "cell_type": "code",
   "execution_count": 5,
   "id": "8a0c81f7",
   "metadata": {},
   "outputs": [
    {
     "data": {
      "text/html": [
       "<div>\n",
       "<style scoped>\n",
       "    .dataframe tbody tr th:only-of-type {\n",
       "        vertical-align: middle;\n",
       "    }\n",
       "\n",
       "    .dataframe tbody tr th {\n",
       "        vertical-align: top;\n",
       "    }\n",
       "\n",
       "    .dataframe thead th {\n",
       "        text-align: right;\n",
       "    }\n",
       "</style>\n",
       "<table border=\"1\" class=\"dataframe\">\n",
       "  <thead>\n",
       "    <tr style=\"text-align: right;\">\n",
       "      <th></th>\n",
       "      <th>repo</th>\n",
       "      <th>language</th>\n",
       "      <th>readme_contents</th>\n",
       "      <th>clean</th>\n",
       "      <th>stem</th>\n",
       "      <th>lemmatized</th>\n",
       "      <th>username</th>\n",
       "      <th>lemmatized_len</th>\n",
       "    </tr>\n",
       "  </thead>\n",
       "  <tbody>\n",
       "    <tr>\n",
       "      <th>482</th>\n",
       "      <td>awesome-actions</td>\n",
       "      <td>Not Listed</td>\n",
       "      <td>&lt;p align=\"center\"&gt;\\n  &lt;br&gt;\\n    &lt;img src=\"awes...</td>\n",
       "      <td>p aligncenter br srcawesomeactionspng width150...</td>\n",
       "      <td>p aligncent br srcawesomeactionspng width150 b...</td>\n",
       "      <td>p aligncenter br srcawesomeactionspng width150...</td>\n",
       "      <td>sdras</td>\n",
       "      <td>34287</td>\n",
       "    </tr>\n",
       "    <tr>\n",
       "      <th>646</th>\n",
       "      <td>InstaPy</td>\n",
       "      <td>Python</td>\n",
       "      <td>&lt;p align=\"center\"&gt;\\n  &lt;img src=\"https://i.imgu...</td>\n",
       "      <td>p aligncenter srchttpsiimgurcomsjzfzsljpg widt...</td>\n",
       "      <td>p aligncent srchttpsiimgurcomsjzfzsljpg width1...</td>\n",
       "      <td>p aligncenter srchttpsiimgurcomsjzfzsljpg widt...</td>\n",
       "      <td>InstaPy</td>\n",
       "      <td>2643</td>\n",
       "    </tr>\n",
       "    <tr>\n",
       "      <th>474</th>\n",
       "      <td>osquery</td>\n",
       "      <td>Other</td>\n",
       "      <td># osquery\\n\\n&lt;p align=\"center\"&gt;\\n&lt;img alt=\"osq...</td>\n",
       "      <td>osquery p aligncenter altosquery logo width200...</td>\n",
       "      <td>osqueri p aligncent altosqueri logo width200 s...</td>\n",
       "      <td>osquery p aligncenter altosquery logo width200...</td>\n",
       "      <td>osquery</td>\n",
       "      <td>4604</td>\n",
       "    </tr>\n",
       "    <tr>\n",
       "      <th>545</th>\n",
       "      <td>Best-App</td>\n",
       "      <td>Not Listed</td>\n",
       "      <td>\\nBest App\\n----\\n\\n*经常会有朋友想知道有哪些 Apps 或 服务 是值...</td>\n",
       "      <td>best app apps bestapp ios app httpsappsappleco...</td>\n",
       "      <td>best app app bestapp io app httpsappsapplecomc...</td>\n",
       "      <td>best app apps bestapp io app httpsappsapplecom...</td>\n",
       "      <td>hzlzh</td>\n",
       "      <td>17437</td>\n",
       "    </tr>\n",
       "    <tr>\n",
       "      <th>539</th>\n",
       "      <td>actix-web</td>\n",
       "      <td>Other</td>\n",
       "      <td>actix-web/README.md</td>\n",
       "      <td>actixwebreadmemd</td>\n",
       "      <td>actixwebreadmemd</td>\n",
       "      <td>actixwebreadmemd</td>\n",
       "      <td>actix</td>\n",
       "      <td>16</td>\n",
       "    </tr>\n",
       "    <tr>\n",
       "      <th>...</th>\n",
       "      <td>...</td>\n",
       "      <td>...</td>\n",
       "      <td>...</td>\n",
       "      <td>...</td>\n",
       "      <td>...</td>\n",
       "      <td>...</td>\n",
       "      <td>...</td>\n",
       "      <td>...</td>\n",
       "    </tr>\n",
       "    <tr>\n",
       "      <th>47</th>\n",
       "      <td>sly</td>\n",
       "      <td>JavaScript</td>\n",
       "      <td># [Sly](http://darsa.in/sly)\\n\\nJavaScript lib...</td>\n",
       "      <td>slyhttpdarsainsly javascript library onedirect...</td>\n",
       "      <td>slyhttpdarsainsli javascript librari onedirect...</td>\n",
       "      <td>slyhttpdarsainsly javascript library onedirect...</td>\n",
       "      <td>darsain</td>\n",
       "      <td>1512</td>\n",
       "    </tr>\n",
       "    <tr>\n",
       "      <th>268</th>\n",
       "      <td>free</td>\n",
       "      <td>Not Listed</td>\n",
       "      <td>更新时间 2023-01-12 00:00  \\n所有免费节点都爬取自网络，请勿用于非法用途...</td>\n",
       "      <td>20230112 0000 android windows v2ray v2raynghtt...</td>\n",
       "      <td>20230112 0000 android window v2ray v2raynghttp...</td>\n",
       "      <td>20230112 0000 android window v2ray v2raynghttp...</td>\n",
       "      <td>freefq</td>\n",
       "      <td>13305</td>\n",
       "    </tr>\n",
       "    <tr>\n",
       "      <th>230</th>\n",
       "      <td>hello-algorithm</td>\n",
       "      <td>Java</td>\n",
       "      <td>## 简介\\n\\nEnglish version repo and Gitbook is o...</td>\n",
       "      <td>english repo gitbook english branchhttpsgithub...</td>\n",
       "      <td>english repo gitbook english branchhttpsgithub...</td>\n",
       "      <td>english repo gitbook english branchhttpsgithub...</td>\n",
       "      <td>geekxh</td>\n",
       "      <td>4652</td>\n",
       "    </tr>\n",
       "    <tr>\n",
       "      <th>304</th>\n",
       "      <td>jq</td>\n",
       "      <td>Other</td>\n",
       "      <td>README.md</td>\n",
       "      <td>readmemd</td>\n",
       "      <td>readmemd</td>\n",
       "      <td>readmemd</td>\n",
       "      <td>stedolan</td>\n",
       "      <td>8</td>\n",
       "    </tr>\n",
       "    <tr>\n",
       "      <th>8</th>\n",
       "      <td>Web-Dev-For-Beginners</td>\n",
       "      <td>JavaScript</td>\n",
       "      <td>[![GitHub license](https://img.shields.io/gith...</td>\n",
       "      <td>github licensehttpsimgshieldsiogithublicensemi...</td>\n",
       "      <td>github licensehttpsimgshieldsiogithublicensemi...</td>\n",
       "      <td>github licensehttpsimgshieldsiogithublicensemi...</td>\n",
       "      <td>microsoft</td>\n",
       "      <td>10197</td>\n",
       "    </tr>\n",
       "  </tbody>\n",
       "</table>\n",
       "<p>443 rows × 8 columns</p>\n",
       "</div>"
      ],
      "text/plain": [
       "                      repo    language  \\\n",
       "482        awesome-actions  Not Listed   \n",
       "646                InstaPy      Python   \n",
       "474                osquery       Other   \n",
       "545               Best-App  Not Listed   \n",
       "539              actix-web       Other   \n",
       "..                     ...         ...   \n",
       "47                     sly  JavaScript   \n",
       "268                   free  Not Listed   \n",
       "230        hello-algorithm        Java   \n",
       "304                     jq       Other   \n",
       "8    Web-Dev-For-Beginners  JavaScript   \n",
       "\n",
       "                                       readme_contents  \\\n",
       "482  <p align=\"center\">\\n  <br>\\n    <img src=\"awes...   \n",
       "646  <p align=\"center\">\\n  <img src=\"https://i.imgu...   \n",
       "474  # osquery\\n\\n<p align=\"center\">\\n<img alt=\"osq...   \n",
       "545  \\nBest App\\n----\\n\\n*经常会有朋友想知道有哪些 Apps 或 服务 是值...   \n",
       "539                                actix-web/README.md   \n",
       "..                                                 ...   \n",
       "47   # [Sly](http://darsa.in/sly)\\n\\nJavaScript lib...   \n",
       "268  更新时间 2023-01-12 00:00  \\n所有免费节点都爬取自网络，请勿用于非法用途...   \n",
       "230  ## 简介\\n\\nEnglish version repo and Gitbook is o...   \n",
       "304                                          README.md   \n",
       "8    [![GitHub license](https://img.shields.io/gith...   \n",
       "\n",
       "                                                 clean  \\\n",
       "482  p aligncenter br srcawesomeactionspng width150...   \n",
       "646  p aligncenter srchttpsiimgurcomsjzfzsljpg widt...   \n",
       "474  osquery p aligncenter altosquery logo width200...   \n",
       "545  best app apps bestapp ios app httpsappsappleco...   \n",
       "539                                   actixwebreadmemd   \n",
       "..                                                 ...   \n",
       "47   slyhttpdarsainsly javascript library onedirect...   \n",
       "268  20230112 0000 android windows v2ray v2raynghtt...   \n",
       "230  english repo gitbook english branchhttpsgithub...   \n",
       "304                                           readmemd   \n",
       "8    github licensehttpsimgshieldsiogithublicensemi...   \n",
       "\n",
       "                                                  stem  \\\n",
       "482  p aligncent br srcawesomeactionspng width150 b...   \n",
       "646  p aligncent srchttpsiimgurcomsjzfzsljpg width1...   \n",
       "474  osqueri p aligncent altosqueri logo width200 s...   \n",
       "545  best app app bestapp io app httpsappsapplecomc...   \n",
       "539                                   actixwebreadmemd   \n",
       "..                                                 ...   \n",
       "47   slyhttpdarsainsli javascript librari onedirect...   \n",
       "268  20230112 0000 android window v2ray v2raynghttp...   \n",
       "230  english repo gitbook english branchhttpsgithub...   \n",
       "304                                           readmemd   \n",
       "8    github licensehttpsimgshieldsiogithublicensemi...   \n",
       "\n",
       "                                            lemmatized   username  \\\n",
       "482  p aligncenter br srcawesomeactionspng width150...      sdras   \n",
       "646  p aligncenter srchttpsiimgurcomsjzfzsljpg widt...    InstaPy   \n",
       "474  osquery p aligncenter altosquery logo width200...    osquery   \n",
       "545  best app apps bestapp io app httpsappsapplecom...      hzlzh   \n",
       "539                                   actixwebreadmemd      actix   \n",
       "..                                                 ...        ...   \n",
       "47   slyhttpdarsainsly javascript library onedirect...    darsain   \n",
       "268  20230112 0000 android window v2ray v2raynghttp...     freefq   \n",
       "230  english repo gitbook english branchhttpsgithub...     geekxh   \n",
       "304                                           readmemd   stedolan   \n",
       "8    github licensehttpsimgshieldsiogithublicensemi...  microsoft   \n",
       "\n",
       "     lemmatized_len  \n",
       "482           34287  \n",
       "646            2643  \n",
       "474            4604  \n",
       "545           17437  \n",
       "539              16  \n",
       "..              ...  \n",
       "47             1512  \n",
       "268           13305  \n",
       "230            4652  \n",
       "304               8  \n",
       "8             10197  \n",
       "\n",
       "[443 rows x 8 columns]"
      ]
     },
     "execution_count": 5,
     "metadata": {},
     "output_type": "execute_result"
    }
   ],
   "source": [
    "train"
   ]
  },
  {
   "cell_type": "markdown",
   "id": "264c63f3",
   "metadata": {},
   "source": [
    "## Does the length of the README indicate the main programming language?"
   ]
  },
  {
   "cell_type": "code",
   "execution_count": 6,
   "id": "66dd976a",
   "metadata": {},
   "outputs": [
    {
     "data": {
      "text/html": [
       "<div>\n",
       "<style scoped>\n",
       "    .dataframe tbody tr th:only-of-type {\n",
       "        vertical-align: middle;\n",
       "    }\n",
       "\n",
       "    .dataframe tbody tr th {\n",
       "        vertical-align: top;\n",
       "    }\n",
       "\n",
       "    .dataframe thead th {\n",
       "        text-align: right;\n",
       "    }\n",
       "</style>\n",
       "<table border=\"1\" class=\"dataframe\">\n",
       "  <thead>\n",
       "    <tr style=\"text-align: right;\">\n",
       "      <th></th>\n",
       "      <th>lemmatized_len</th>\n",
       "    </tr>\n",
       "    <tr>\n",
       "      <th>language</th>\n",
       "      <th></th>\n",
       "    </tr>\n",
       "  </thead>\n",
       "  <tbody>\n",
       "    <tr>\n",
       "      <th>Go</th>\n",
       "      <td>8745.078947</td>\n",
       "    </tr>\n",
       "    <tr>\n",
       "      <th>Java</th>\n",
       "      <td>4953.918919</td>\n",
       "    </tr>\n",
       "    <tr>\n",
       "      <th>JavaScript</th>\n",
       "      <td>11525.223404</td>\n",
       "    </tr>\n",
       "    <tr>\n",
       "      <th>Not Listed</th>\n",
       "      <td>27658.682927</td>\n",
       "    </tr>\n",
       "    <tr>\n",
       "      <th>Other</th>\n",
       "      <td>8245.333333</td>\n",
       "    </tr>\n",
       "    <tr>\n",
       "      <th>Python</th>\n",
       "      <td>14422.543478</td>\n",
       "    </tr>\n",
       "    <tr>\n",
       "      <th>TypeScript</th>\n",
       "      <td>6401.800000</td>\n",
       "    </tr>\n",
       "  </tbody>\n",
       "</table>\n",
       "</div>"
      ],
      "text/plain": [
       "            lemmatized_len\n",
       "language                  \n",
       "Go             8745.078947\n",
       "Java           4953.918919\n",
       "JavaScript    11525.223404\n",
       "Not Listed    27658.682927\n",
       "Other          8245.333333\n",
       "Python        14422.543478\n",
       "TypeScript     6401.800000"
      ]
     },
     "execution_count": 6,
     "metadata": {},
     "output_type": "execute_result"
    }
   ],
   "source": [
    "pd.DataFrame(train.groupby('language').lemmatized_len.mean())"
   ]
  },
  {
   "cell_type": "code",
   "execution_count": 7,
   "id": "92f8ae71",
   "metadata": {},
   "outputs": [],
   "source": [
    "import seaborn as sns"
   ]
  },
  {
   "cell_type": "code",
   "execution_count": 8,
   "id": "5127258d",
   "metadata": {},
   "outputs": [
    {
     "data": {
      "text/plain": [
       "<AxesSubplot:xlabel='language', ylabel='lemmatized_len'>"
      ]
     },
     "execution_count": 8,
     "metadata": {},
     "output_type": "execute_result"
    },
    {
     "data": {
      "image/png": "[encoded data removed]",
      "text/plain": [
       "<Figure size 432x288 with 1 Axes>"
      ]
     },
     "metadata": {
      "needs_background": "light"
     },
     "output_type": "display_data"
    }
   ],
   "source": [
    "sns.barplot(x=\"language\", y=\"lemmatized_len\", data=train, palette='pastel')"
   ]
  },
  {
   "cell_type": "code",
   "execution_count": null,
   "id": "90ec554b",
   "metadata": {},
   "outputs": [],
   "source": []
  },
  {
   "cell_type": "code",
   "execution_count": 9,
   "id": "f3fdbb68",
   "metadata": {},
   "outputs": [],
   "source": [
    "go = train[train.language == 'Go'].lemmatized_len"
   ]
  },
  {
   "cell_type": "code",
   "execution_count": 10,
   "id": "4f5aea77",
   "metadata": {
    "scrolled": false
   },
   "outputs": [
    {
     "data": {
      "text/plain": [
       "Ttest_1sampResult(statistic=-1.2539594676732875, pvalue=0.21772171611758417)"
      ]
     },
     "execution_count": 10,
     "metadata": {},
     "output_type": "execute_result"
    }
   ],
   "source": [
    "stats.ttest_1samp(go, train.lemmatized_len.mean())"
   ]
  },
  {
   "cell_type": "code",
   "execution_count": 11,
   "id": "5f903c88",
   "metadata": {},
   "outputs": [],
   "source": [
    "java = train[train.language == 'Java'].lemmatized_len"
   ]
  },
  {
   "cell_type": "code",
   "execution_count": 12,
   "id": "082280e2",
   "metadata": {
    "scrolled": false
   },
   "outputs": [
    {
     "data": {
      "text/plain": [
       "Ttest_1sampResult(statistic=-8.125683633984549, pvalue=1.1636706744471063e-09)"
      ]
     },
     "execution_count": 12,
     "metadata": {},
     "output_type": "execute_result"
    }
   ],
   "source": [
    "stats.ttest_1samp(java, train.lemmatized_len.mean())"
   ]
  },
  {
   "cell_type": "code",
   "execution_count": 13,
   "id": "84ff7ac7",
   "metadata": {},
   "outputs": [],
   "source": [
    "javascript = train[train.language == 'JavaScript'].lemmatized_len"
   ]
  },
  {
   "cell_type": "code",
   "execution_count": 14,
   "id": "c990851c",
   "metadata": {
    "scrolled": false
   },
   "outputs": [
    {
     "data": {
      "text/plain": [
       "Ttest_1sampResult(statistic=0.2734059259347175, pvalue=0.785147453154522)"
      ]
     },
     "execution_count": 14,
     "metadata": {},
     "output_type": "execute_result"
    }
   ],
   "source": [
    "stats.ttest_1samp(javascript, train.lemmatized_len.mean())"
   ]
  },
  {
   "cell_type": "code",
   "execution_count": 15,
   "id": "fcd806c9",
   "metadata": {},
   "outputs": [],
   "source": [
    "not_listed = train[train.language == 'Not Listed'].lemmatized_len"
   ]
  },
  {
   "cell_type": "code",
   "execution_count": 16,
   "id": "a3dac4fb",
   "metadata": {
    "scrolled": false
   },
   "outputs": [
    {
     "data": {
      "text/plain": [
       "Ttest_1sampResult(statistic=2.297361211476212, pvalue=0.026909338630790387)"
      ]
     },
     "execution_count": 16,
     "metadata": {},
     "output_type": "execute_result"
    }
   ],
   "source": [
    "stats.ttest_1samp(not_listed, train.lemmatized_len.mean())"
   ]
  },
  {
   "cell_type": "code",
   "execution_count": 17,
   "id": "4279bdb2",
   "metadata": {},
   "outputs": [],
   "source": [
    "other = train[train.language == 'Other'].lemmatized_len"
   ]
  },
  {
   "cell_type": "code",
   "execution_count": 18,
   "id": "b0df724e",
   "metadata": {
    "scrolled": false
   },
   "outputs": [
    {
     "data": {
      "text/plain": [
       "Ttest_1sampResult(statistic=-1.9151061194929244, pvalue=0.057434377111973266)"
      ]
     },
     "execution_count": 18,
     "metadata": {},
     "output_type": "execute_result"
    }
   ],
   "source": [
    "stats.ttest_1samp(other, train.lemmatized_len.mean())"
   ]
  },
  {
   "cell_type": "code",
   "execution_count": 19,
   "id": "cc6c1013",
   "metadata": {},
   "outputs": [],
   "source": [
    "python = train[train.language == 'Python'].lemmatized_len"
   ]
  },
  {
   "cell_type": "code",
   "execution_count": 20,
   "id": "b011fa92",
   "metadata": {
    "scrolled": false
   },
   "outputs": [
    {
     "data": {
      "text/plain": [
       "Ttest_1sampResult(statistic=0.8268888048789708, pvalue=0.41266335058727943)"
      ]
     },
     "execution_count": 20,
     "metadata": {},
     "output_type": "execute_result"
    }
   ],
   "source": [
    "stats.ttest_1samp(python, train.lemmatized_len.mean())"
   ]
  },
  {
   "cell_type": "code",
   "execution_count": 21,
   "id": "c0bd6c97",
   "metadata": {},
   "outputs": [],
   "source": [
    "typescript = train[train.language == 'TypeScript'].lemmatized_len"
   ]
  },
  {
   "cell_type": "code",
   "execution_count": 22,
   "id": "9a3159e5",
   "metadata": {
    "scrolled": false
   },
   "outputs": [
    {
     "data": {
      "text/plain": [
       "Ttest_1sampResult(statistic=-5.407237667455391, pvalue=3.4411756416892293e-06)"
      ]
     },
     "execution_count": 22,
     "metadata": {},
     "output_type": "execute_result"
    }
   ],
   "source": [
    "stats.ttest_1samp(typescript, train.lemmatized_len.mean())"
   ]
  },
  {
   "cell_type": "code",
   "execution_count": 23,
   "id": "900700b7",
   "metadata": {},
   "outputs": [],
   "source": [
    "stat, p = stats.kruskal(go, java, javascript, not_listed, other, python, typescript)"
   ]
  },
  {
   "cell_type": "code",
   "execution_count": 24,
   "id": "156a8a58",
   "metadata": {
    "scrolled": true
   },
   "outputs": [
    {
     "data": {
      "text/markdown": [
       "## Because $\\alpha$ > p,we  reject $H_0$"
      ],
      "text/plain": [
       "<IPython.core.display.Markdown object>"
      ]
     },
     "execution_count": 24,
     "metadata": {},
     "output_type": "execute_result"
    }
   ],
   "source": [
    "e.p_to_md(p)"
   ]
  },
  {
   "cell_type": "code",
   "execution_count": null,
   "id": "4d88b648",
   "metadata": {},
   "outputs": [],
   "source": []
  }
 ],
 "metadata": {
  "kernelspec": {
   "display_name": "Python 3 (ipykernel)",
   "language": "python",
   "name": "python3"
  },
  "language_info": {
   "codemirror_mode": {
    "name": "ipython",
    "version": 3
   },
   "file_extension": ".py",
   "mimetype": "text/x-python",
   "name": "python",
   "nbconvert_exporter": "python",
   "pygments_lexer": "ipython3",
   "version": "3.9.12"
  }
 },
 "nbformat": 4,
 "nbformat_minor": 5
}
