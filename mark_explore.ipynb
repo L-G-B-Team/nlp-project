{
 "cells": [
  {
   "cell_type": "code",
   "execution_count": 49,
   "id": "2880c519",
   "metadata": {},
   "outputs": [],
   "source": [
    "import pandas as pd\n",
    "import matplotlib.pyplot as plt\n",
    "import seaborn as sns\n",
    "\n",
    "from importlib import reload\n",
    "\n",
    "import acquire as a \n",
    "import prepare as p\n",
    "import explore as e\n",
    "\n",
    "from scipy import stats"
   ]
  },
  {
   "cell_type": "code",
   "execution_count": 2,
   "id": "fbb4eda0",
   "metadata": {},
   "outputs": [],
   "source": [
    "df = a.acquire_readmes()"
   ]
  },
  {
   "cell_type": "code",
   "execution_count": 3,
   "id": "81fe4f72",
   "metadata": {},
   "outputs": [],
   "source": [
    "df = p.prep_df_for_nlp(df,'readme_contents',extra_words=p.EXTRA_WORDS)"
   ]
  },
  {
   "cell_type": "code",
   "execution_count": 4,
   "id": "59718c36",
   "metadata": {},
   "outputs": [],
   "source": [
    "train, validate, test = p.split_data(df, 'language')"
   ]
  },
  {
   "cell_type": "code",
   "execution_count": 5,
   "id": "ce623783",
   "metadata": {},
   "outputs": [
    {
     "data": {
      "text/html": [
       "<div>\n",
       "<style scoped>\n",
       "    .dataframe tbody tr th:only-of-type {\n",
       "        vertical-align: middle;\n",
       "    }\n",
       "\n",
       "    .dataframe tbody tr th {\n",
       "        vertical-align: top;\n",
       "    }\n",
       "\n",
       "    .dataframe thead th {\n",
       "        text-align: right;\n",
       "    }\n",
       "</style>\n",
       "<table border=\"1\" class=\"dataframe\">\n",
       "  <thead>\n",
       "    <tr style=\"text-align: right;\">\n",
       "      <th></th>\n",
       "      <th>repo</th>\n",
       "      <th>language</th>\n",
       "      <th>readme_contents</th>\n",
       "      <th>clean</th>\n",
       "      <th>stem</th>\n",
       "      <th>lemmatized</th>\n",
       "      <th>username</th>\n",
       "      <th>lemmatized_len</th>\n",
       "    </tr>\n",
       "  </thead>\n",
       "  <tbody>\n",
       "    <tr>\n",
       "      <th>482</th>\n",
       "      <td>awesome-actions</td>\n",
       "      <td>Not Listed</td>\n",
       "      <td>&lt;p align=\"center\"&gt;\\n  &lt;br&gt;\\n    &lt;img src=\"awes...</td>\n",
       "      <td>p aligncenter br srcawesomeactionspng width150...</td>\n",
       "      <td>p aligncent br srcawesomeactionspng width150 b...</td>\n",
       "      <td>p aligncenter br srcawesomeactionspng width150...</td>\n",
       "      <td>sdras</td>\n",
       "      <td>34287</td>\n",
       "    </tr>\n",
       "    <tr>\n",
       "      <th>646</th>\n",
       "      <td>InstaPy</td>\n",
       "      <td>Python</td>\n",
       "      <td>&lt;p align=\"center\"&gt;\\n  &lt;img src=\"https://i.imgu...</td>\n",
       "      <td>p aligncenter srchttpsiimgurcomsjzfzsljpg widt...</td>\n",
       "      <td>p aligncent srchttpsiimgurcomsjzfzsljpg width1...</td>\n",
       "      <td>p aligncenter srchttpsiimgurcomsjzfzsljpg widt...</td>\n",
       "      <td>InstaPy</td>\n",
       "      <td>2643</td>\n",
       "    </tr>\n",
       "    <tr>\n",
       "      <th>474</th>\n",
       "      <td>osquery</td>\n",
       "      <td>Other</td>\n",
       "      <td># osquery\\n\\n&lt;p align=\"center\"&gt;\\n&lt;img alt=\"osq...</td>\n",
       "      <td>osquery p aligncenter altosquery logo width200...</td>\n",
       "      <td>osqueri p aligncent altosqueri logo width200 s...</td>\n",
       "      <td>osquery p aligncenter altosquery logo width200...</td>\n",
       "      <td>osquery</td>\n",
       "      <td>4604</td>\n",
       "    </tr>\n",
       "    <tr>\n",
       "      <th>545</th>\n",
       "      <td>Best-App</td>\n",
       "      <td>Not Listed</td>\n",
       "      <td>\\nBest App\\n----\\n\\n*经常会有朋友想知道有哪些 Apps 或 服务 是值...</td>\n",
       "      <td>best app apps bestapp ios app httpsappsappleco...</td>\n",
       "      <td>best app app bestapp io app httpsappsapplecomc...</td>\n",
       "      <td>best app apps bestapp io app httpsappsapplecom...</td>\n",
       "      <td>hzlzh</td>\n",
       "      <td>17437</td>\n",
       "    </tr>\n",
       "    <tr>\n",
       "      <th>539</th>\n",
       "      <td>actix-web</td>\n",
       "      <td>Other</td>\n",
       "      <td>actix-web/README.md</td>\n",
       "      <td>actixwebreadmemd</td>\n",
       "      <td>actixwebreadmemd</td>\n",
       "      <td>actixwebreadmemd</td>\n",
       "      <td>actix</td>\n",
       "      <td>16</td>\n",
       "    </tr>\n",
       "    <tr>\n",
       "      <th>...</th>\n",
       "      <td>...</td>\n",
       "      <td>...</td>\n",
       "      <td>...</td>\n",
       "      <td>...</td>\n",
       "      <td>...</td>\n",
       "      <td>...</td>\n",
       "      <td>...</td>\n",
       "      <td>...</td>\n",
       "    </tr>\n",
       "    <tr>\n",
       "      <th>47</th>\n",
       "      <td>sly</td>\n",
       "      <td>JavaScript</td>\n",
       "      <td># [Sly](http://darsa.in/sly)\\n\\nJavaScript lib...</td>\n",
       "      <td>slyhttpdarsainsly javascript library onedirect...</td>\n",
       "      <td>slyhttpdarsainsli javascript librari onedirect...</td>\n",
       "      <td>slyhttpdarsainsly javascript library onedirect...</td>\n",
       "      <td>darsain</td>\n",
       "      <td>1512</td>\n",
       "    </tr>\n",
       "    <tr>\n",
       "      <th>268</th>\n",
       "      <td>free</td>\n",
       "      <td>Not Listed</td>\n",
       "      <td>更新时间 2023-01-12 00:00  \\n所有免费节点都爬取自网络，请勿用于非法用途...</td>\n",
       "      <td>20230112 0000 android windows v2ray v2raynghtt...</td>\n",
       "      <td>20230112 0000 android window v2ray v2raynghttp...</td>\n",
       "      <td>20230112 0000 android window v2ray v2raynghttp...</td>\n",
       "      <td>freefq</td>\n",
       "      <td>13305</td>\n",
       "    </tr>\n",
       "    <tr>\n",
       "      <th>230</th>\n",
       "      <td>hello-algorithm</td>\n",
       "      <td>Java</td>\n",
       "      <td>## 简介\\n\\nEnglish version repo and Gitbook is o...</td>\n",
       "      <td>english repo gitbook english branchhttpsgithub...</td>\n",
       "      <td>english repo gitbook english branchhttpsgithub...</td>\n",
       "      <td>english repo gitbook english branchhttpsgithub...</td>\n",
       "      <td>geekxh</td>\n",
       "      <td>4652</td>\n",
       "    </tr>\n",
       "    <tr>\n",
       "      <th>304</th>\n",
       "      <td>jq</td>\n",
       "      <td>Other</td>\n",
       "      <td>README.md</td>\n",
       "      <td>readmemd</td>\n",
       "      <td>readmemd</td>\n",
       "      <td>readmemd</td>\n",
       "      <td>stedolan</td>\n",
       "      <td>8</td>\n",
       "    </tr>\n",
       "    <tr>\n",
       "      <th>8</th>\n",
       "      <td>Web-Dev-For-Beginners</td>\n",
       "      <td>JavaScript</td>\n",
       "      <td>[![GitHub license](https://img.shields.io/gith...</td>\n",
       "      <td>github licensehttpsimgshieldsiogithublicensemi...</td>\n",
       "      <td>github licensehttpsimgshieldsiogithublicensemi...</td>\n",
       "      <td>github licensehttpsimgshieldsiogithublicensemi...</td>\n",
       "      <td>microsoft</td>\n",
       "      <td>10197</td>\n",
       "    </tr>\n",
       "  </tbody>\n",
       "</table>\n",
       "<p>443 rows × 8 columns</p>\n",
       "</div>"
      ],
      "text/plain": [
       "                      repo    language  \\\n",
       "482        awesome-actions  Not Listed   \n",
       "646                InstaPy      Python   \n",
       "474                osquery       Other   \n",
       "545               Best-App  Not Listed   \n",
       "539              actix-web       Other   \n",
       "..                     ...         ...   \n",
       "47                     sly  JavaScript   \n",
       "268                   free  Not Listed   \n",
       "230        hello-algorithm        Java   \n",
       "304                     jq       Other   \n",
       "8    Web-Dev-For-Beginners  JavaScript   \n",
       "\n",
       "                                       readme_contents  \\\n",
       "482  <p align=\"center\">\\n  <br>\\n    <img src=\"awes...   \n",
       "646  <p align=\"center\">\\n  <img src=\"https://i.imgu...   \n",
       "474  # osquery\\n\\n<p align=\"center\">\\n<img alt=\"osq...   \n",
       "545  \\nBest App\\n----\\n\\n*经常会有朋友想知道有哪些 Apps 或 服务 是值...   \n",
       "539                                actix-web/README.md   \n",
       "..                                                 ...   \n",
       "47   # [Sly](http://darsa.in/sly)\\n\\nJavaScript lib...   \n",
       "268  更新时间 2023-01-12 00:00  \\n所有免费节点都爬取自网络，请勿用于非法用途...   \n",
       "230  ## 简介\\n\\nEnglish version repo and Gitbook is o...   \n",
       "304                                          README.md   \n",
       "8    [![GitHub license](https://img.shields.io/gith...   \n",
       "\n",
       "                                                 clean  \\\n",
       "482  p aligncenter br srcawesomeactionspng width150...   \n",
       "646  p aligncenter srchttpsiimgurcomsjzfzsljpg widt...   \n",
       "474  osquery p aligncenter altosquery logo width200...   \n",
       "545  best app apps bestapp ios app httpsappsappleco...   \n",
       "539                                   actixwebreadmemd   \n",
       "..                                                 ...   \n",
       "47   slyhttpdarsainsly javascript library onedirect...   \n",
       "268  20230112 0000 android windows v2ray v2raynghtt...   \n",
       "230  english repo gitbook english branchhttpsgithub...   \n",
       "304                                           readmemd   \n",
       "8    github licensehttpsimgshieldsiogithublicensemi...   \n",
       "\n",
       "                                                  stem  \\\n",
       "482  p aligncent br srcawesomeactionspng width150 b...   \n",
       "646  p aligncent srchttpsiimgurcomsjzfzsljpg width1...   \n",
       "474  osqueri p aligncent altosqueri logo width200 s...   \n",
       "545  best app app bestapp io app httpsappsapplecomc...   \n",
       "539                                   actixwebreadmemd   \n",
       "..                                                 ...   \n",
       "47   slyhttpdarsainsli javascript librari onedirect...   \n",
       "268  20230112 0000 android window v2ray v2raynghttp...   \n",
       "230  english repo gitbook english branchhttpsgithub...   \n",
       "304                                           readmemd   \n",
       "8    github licensehttpsimgshieldsiogithublicensemi...   \n",
       "\n",
       "                                            lemmatized   username  \\\n",
       "482  p aligncenter br srcawesomeactionspng width150...      sdras   \n",
       "646  p aligncenter srchttpsiimgurcomsjzfzsljpg widt...    InstaPy   \n",
       "474  osquery p aligncenter altosquery logo width200...    osquery   \n",
       "545  best app apps bestapp io app httpsappsapplecom...      hzlzh   \n",
       "539                                   actixwebreadmemd      actix   \n",
       "..                                                 ...        ...   \n",
       "47   slyhttpdarsainsly javascript library onedirect...    darsain   \n",
       "268  20230112 0000 android window v2ray v2raynghttp...     freefq   \n",
       "230  english repo gitbook english branchhttpsgithub...     geekxh   \n",
       "304                                           readmemd   stedolan   \n",
       "8    github licensehttpsimgshieldsiogithublicensemi...  microsoft   \n",
       "\n",
       "     lemmatized_len  \n",
       "482           34287  \n",
       "646            2643  \n",
       "474            4604  \n",
       "545           17437  \n",
       "539              16  \n",
       "..              ...  \n",
       "47             1512  \n",
       "268           13305  \n",
       "230            4652  \n",
       "304               8  \n",
       "8             10197  \n",
       "\n",
       "[443 rows x 8 columns]"
      ]
     },
     "execution_count": 5,
     "metadata": {},
     "output_type": "execute_result"
    }
   ],
   "source": [
    "train"
   ]
  },
  {
   "cell_type": "code",
   "execution_count": 6,
   "id": "9ca208a9",
   "metadata": {},
   "outputs": [
    {
     "data": {
      "text/plain": [
       "microsoft           10\n",
       "google               4\n",
       "facebook             4\n",
       "angular              3\n",
       "facebookresearch     3\n",
       "                    ..\n",
       "mtdvio               1\n",
       "FredrikNoren         1\n",
       "openai               1\n",
       "pcottle              1\n",
       "stedolan             1\n",
       "Name: username, Length: 413, dtype: int64"
      ]
     },
     "execution_count": 6,
     "metadata": {},
     "output_type": "execute_result"
    }
   ],
   "source": [
    "train.username.value_counts()"
   ]
  },
  {
   "cell_type": "code",
   "execution_count": 7,
   "id": "6067b639",
   "metadata": {
    "scrolled": true
   },
   "outputs": [
    {
     "data": {
      "text/plain": [
       "Go            1\n",
       "Java          1\n",
       "Not Listed    1\n",
       "Other         1\n",
       "JavaScript    0\n",
       "Python        0\n",
       "TypeScript    0\n",
       "Name: language, dtype: int64"
      ]
     },
     "execution_count": 7,
     "metadata": {},
     "output_type": "execute_result"
    }
   ],
   "source": [
    "train[train.username == 'google'].language.value_counts()"
   ]
  },
  {
   "cell_type": "markdown",
   "id": "fb6bfab4",
   "metadata": {},
   "source": [
    "## Does the length of the README indicate the main programming language?"
   ]
  },
  {
   "cell_type": "code",
   "execution_count": 8,
   "id": "66dd976a",
   "metadata": {},
   "outputs": [
    {
     "data": {
      "text/html": [
       "<div>\n",
       "<style scoped>\n",
       "    .dataframe tbody tr th:only-of-type {\n",
       "        vertical-align: middle;\n",
       "    }\n",
       "\n",
       "    .dataframe tbody tr th {\n",
       "        vertical-align: top;\n",
       "    }\n",
       "\n",
       "    .dataframe thead th {\n",
       "        text-align: right;\n",
       "    }\n",
       "</style>\n",
       "<table border=\"1\" class=\"dataframe\">\n",
       "  <thead>\n",
       "    <tr style=\"text-align: right;\">\n",
       "      <th></th>\n",
       "      <th>lemmatized_len</th>\n",
       "    </tr>\n",
       "    <tr>\n",
       "      <th>language</th>\n",
       "      <th></th>\n",
       "    </tr>\n",
       "  </thead>\n",
       "  <tbody>\n",
       "    <tr>\n",
       "      <th>Go</th>\n",
       "      <td>8745.078947</td>\n",
       "    </tr>\n",
       "    <tr>\n",
       "      <th>Java</th>\n",
       "      <td>4953.918919</td>\n",
       "    </tr>\n",
       "    <tr>\n",
       "      <th>JavaScript</th>\n",
       "      <td>11525.223404</td>\n",
       "    </tr>\n",
       "    <tr>\n",
       "      <th>Not Listed</th>\n",
       "      <td>27658.682927</td>\n",
       "    </tr>\n",
       "    <tr>\n",
       "      <th>Other</th>\n",
       "      <td>8245.333333</td>\n",
       "    </tr>\n",
       "    <tr>\n",
       "      <th>Python</th>\n",
       "      <td>14422.543478</td>\n",
       "    </tr>\n",
       "    <tr>\n",
       "      <th>TypeScript</th>\n",
       "      <td>6401.800000</td>\n",
       "    </tr>\n",
       "  </tbody>\n",
       "</table>\n",
       "</div>"
      ],
      "text/plain": [
       "            lemmatized_len\n",
       "language                  \n",
       "Go             8745.078947\n",
       "Java           4953.918919\n",
       "JavaScript    11525.223404\n",
       "Not Listed    27658.682927\n",
       "Other          8245.333333\n",
       "Python        14422.543478\n",
       "TypeScript     6401.800000"
      ]
     },
     "execution_count": 8,
     "metadata": {},
     "output_type": "execute_result"
    }
   ],
   "source": [
    "pd.DataFrame(train.groupby('language').lemmatized_len.mean())"
   ]
  },
  {
   "cell_type": "code",
   "execution_count": 9,
   "id": "6199ec82",
   "metadata": {},
   "outputs": [],
   "source": [
    "import seaborn as sns"
   ]
  },
  {
   "cell_type": "code",
   "execution_count": 10,
   "id": "1e24d0de",
   "metadata": {},
   "outputs": [
    {
     "data": {
      "text/plain": [
       "<AxesSubplot:xlabel='language', ylabel='lemmatized_len'>"
      ]
     },
     "execution_count": 10,
     "metadata": {},
     "output_type": "execute_result"
    },
    {
     "data": {
      "image/png": "[encoded data removed]",
      "text/plain": [
       "<Figure size 432x288 with 1 Axes>"
      ]
     },
     "metadata": {
      "needs_background": "light"
     },
     "output_type": "display_data"
    }
   ],
   "source": [
    "sns.barplot(x=\"language\", y=\"lemmatized_len\", data=train, palette='pastel')"
   ]
  },
  {
   "cell_type": "code",
   "execution_count": 98,
   "id": "e158a738",
   "metadata": {},
   "outputs": [],
   "source": [
    "go, java, javascript, not_listed, other, python, typescript = e.split_by_language(train)"
   ]
  },
  {
   "cell_type": "code",
   "execution_count": 12,
   "id": "fda0834d",
   "metadata": {},
   "outputs": [],
   "source": [
    "stat, p = stats.kruskal(go.lemmatized_len, java.lemmatized_len, javascript.lemmatized_len, not_listed.lemmatized_len, other.lemmatized_len, python.lemmatized_len, typescript.lemmatized_len)"
   ]
  },
  {
   "cell_type": "code",
   "execution_count": 13,
   "id": "e30fd065",
   "metadata": {
    "scrolled": true
   },
   "outputs": [
    {
     "data": {
      "text/markdown": [
       "## Because $\\alpha$ > p,we  reject $H_0$"
      ],
      "text/plain": [
       "<IPython.core.display.Markdown object>"
      ]
     },
     "execution_count": 13,
     "metadata": {},
     "output_type": "execute_result"
    }
   ],
   "source": [
    "e.p_to_md(p)"
   ]
  },
  {
   "cell_type": "code",
   "execution_count": null,
   "id": "efe8df98",
   "metadata": {},
   "outputs": [],
   "source": []
  },
  {
   "cell_type": "markdown",
   "id": "9cf09208",
   "metadata": {},
   "source": [
    "## Does the name of the programming language appearing in the README indicate the main programming language?"
   ]
  },
  {
   "cell_type": "code",
   "execution_count": 70,
   "id": "7dd5f6b7",
   "metadata": {},
   "outputs": [],
   "source": [
    "# Only \n",
    "js_js= train.language =='JavaScript'"
   ]
  },
  {
   "cell_type": "code",
   "execution_count": 71,
   "id": "470419f0",
   "metadata": {},
   "outputs": [],
   "source": [
    "all_js = train.lemmatized.str.contains('javascript')"
   ]
  },
  {
   "cell_type": "code",
   "execution_count": 72,
   "id": "7d51fe39",
   "metadata": {},
   "outputs": [],
   "source": [
    "ctab = pd.crosstab(js_js, all_js)"
   ]
  },
  {
   "cell_type": "code",
   "execution_count": 73,
   "id": "22e249eb",
   "metadata": {},
   "outputs": [],
   "source": [
    "stat, p, degf, expected = stats.chi2_contingency(ctab)"
   ]
  },
  {
   "cell_type": "code",
   "execution_count": 74,
   "id": "b7195bbc",
   "metadata": {},
   "outputs": [
    {
     "data": {
      "text/plain": [
       "1.9672079000648653e-20"
      ]
     },
     "execution_count": 74,
     "metadata": {},
     "output_type": "execute_result"
    }
   ],
   "source": [
    "p"
   ]
  },
  {
   "cell_type": "code",
   "execution_count": null,
   "id": "cab4024c",
   "metadata": {},
   "outputs": [],
   "source": []
  },
  {
   "cell_type": "code",
   "execution_count": 75,
   "id": "b59673e5",
   "metadata": {},
   "outputs": [],
   "source": [
    "# Only \n",
    "python_python =train.language =='Python'"
   ]
  },
  {
   "cell_type": "code",
   "execution_count": 76,
   "id": "c07309df",
   "metadata": {},
   "outputs": [],
   "source": [
    "all_python = train.lemmatized.str.contains('python')"
   ]
  },
  {
   "cell_type": "code",
   "execution_count": 77,
   "id": "9554f34c",
   "metadata": {},
   "outputs": [],
   "source": [
    "ctab = pd.crosstab(python_python, all_python)"
   ]
  },
  {
   "cell_type": "code",
   "execution_count": 78,
   "id": "c537b424",
   "metadata": {},
   "outputs": [],
   "source": [
    "stat, p, degf, expected = stats.chi2_contingency(ctab)"
   ]
  },
  {
   "cell_type": "code",
   "execution_count": 79,
   "id": "cabd242b",
   "metadata": {},
   "outputs": [
    {
     "data": {
      "text/plain": [
       "9.234695818751059e-22"
      ]
     },
     "execution_count": 79,
     "metadata": {},
     "output_type": "execute_result"
    }
   ],
   "source": [
    "p"
   ]
  },
  {
   "cell_type": "markdown",
   "id": "adc4bd6c",
   "metadata": {},
   "source": [
    "### Go NOT significant no need to encode"
   ]
  },
  {
   "cell_type": "code",
   "execution_count": 80,
   "id": "14a20884",
   "metadata": {},
   "outputs": [],
   "source": [
    "# Only \n",
    "gogo = train.language == 'Go'"
   ]
  },
  {
   "cell_type": "code",
   "execution_count": 81,
   "id": "e6f1ead9",
   "metadata": {},
   "outputs": [],
   "source": [
    "all_go = train.lemmatized.str.contains('go')"
   ]
  },
  {
   "cell_type": "code",
   "execution_count": 82,
   "id": "1c8b1f92",
   "metadata": {},
   "outputs": [],
   "source": [
    "ctab = pd.crosstab(gogo, all_go)"
   ]
  },
  {
   "cell_type": "code",
   "execution_count": 83,
   "id": "51d4e6f9",
   "metadata": {},
   "outputs": [],
   "source": [
    "stat, p, degf, expected = stats.chi2_contingency(ctab)"
   ]
  },
  {
   "cell_type": "code",
   "execution_count": 84,
   "id": "8e6b980e",
   "metadata": {},
   "outputs": [
    {
     "data": {
      "text/plain": [
       "0.09683181374299626"
      ]
     },
     "execution_count": 84,
     "metadata": {},
     "output_type": "execute_result"
    }
   ],
   "source": [
    "p"
   ]
  },
  {
   "cell_type": "code",
   "execution_count": null,
   "id": "7a732103",
   "metadata": {},
   "outputs": [],
   "source": []
  },
  {
   "cell_type": "code",
   "execution_count": 85,
   "id": "13d3f437",
   "metadata": {},
   "outputs": [],
   "source": [
    "# Only \n",
    "typescript_typescript = train.language == 'TypeScript'"
   ]
  },
  {
   "cell_type": "code",
   "execution_count": 86,
   "id": "a18ebfab",
   "metadata": {},
   "outputs": [],
   "source": [
    "all_typescript = train.lemmatized.str.contains('typescript')"
   ]
  },
  {
   "cell_type": "code",
   "execution_count": 87,
   "id": "81e98f14",
   "metadata": {},
   "outputs": [],
   "source": [
    "ctab = pd.crosstab(typescript_typescript, all_typescript)"
   ]
  },
  {
   "cell_type": "code",
   "execution_count": 89,
   "id": "9883191f",
   "metadata": {},
   "outputs": [],
   "source": [
    "stat, p, degf, expected = stats.chi2_contingency(ctab)"
   ]
  },
  {
   "cell_type": "code",
   "execution_count": 90,
   "id": "8df7de9b",
   "metadata": {},
   "outputs": [
    {
     "data": {
      "text/plain": [
       "6.272210065337366e-07"
      ]
     },
     "execution_count": 90,
     "metadata": {},
     "output_type": "execute_result"
    }
   ],
   "source": [
    "p"
   ]
  },
  {
   "cell_type": "code",
   "execution_count": 106,
   "id": "631abd21",
   "metadata": {},
   "outputs": [],
   "source": []
  },
  {
   "cell_type": "code",
   "execution_count": 109,
   "id": "cee8f722",
   "metadata": {},
   "outputs": [],
   "source": [
    "javascript_words_freq = e.get_ngram_frequency(javascript.lemmatized)\n",
    "python_words_freq = e.get_ngram_frequency(python.lemmatized)\n",
    "typescript_words_freq = e.get_ngram_frequency(typescript.lemmatized)\n",
    "go_words_freq = e.get_ngram_frequency(go.lemmatized)\n",
    "other_series_freq = e.get_ngram_frequency(other.lemmatized)\n",
    "not_listed_freq = e.get_ngram_frequency(not_listed.lemmatized)\n",
    "java_words_freq = e.get_ngram_frequency(java.lemmatized)\n",
    "all_words_freq = e.get_ngram_frequency(train.lemmatized)"
   ]
  },
  {
   "cell_type": "code",
   "execution_count": 161,
   "id": "2397308b",
   "metadata": {
    "scrolled": true
   },
   "outputs": [
    {
     "data": {
      "text/html": [
       "<div>\n",
       "<style scoped>\n",
       "    .dataframe tbody tr th:only-of-type {\n",
       "        vertical-align: middle;\n",
       "    }\n",
       "\n",
       "    .dataframe tbody tr th {\n",
       "        vertical-align: top;\n",
       "    }\n",
       "\n",
       "    .dataframe thead th {\n",
       "        text-align: right;\n",
       "    }\n",
       "</style>\n",
       "<table border=\"1\" class=\"dataframe\">\n",
       "  <thead>\n",
       "    <tr style=\"text-align: right;\">\n",
       "      <th></th>\n",
       "      <th>all</th>\n",
       "      <th>javascript</th>\n",
       "      <th>python</th>\n",
       "      <th>typescript</th>\n",
       "      <th>go</th>\n",
       "      <th>java</th>\n",
       "      <th>other</th>\n",
       "      <th>not_listed</th>\n",
       "    </tr>\n",
       "  </thead>\n",
       "  <tbody>\n",
       "    <tr>\n",
       "      <th>0</th>\n",
       "      <td>558</td>\n",
       "      <td>132</td>\n",
       "      <td>169</td>\n",
       "      <td>5</td>\n",
       "      <td>67</td>\n",
       "      <td>112</td>\n",
       "      <td>6</td>\n",
       "      <td>67</td>\n",
       "    </tr>\n",
       "    <tr>\n",
       "      <th>00</th>\n",
       "      <td>91</td>\n",
       "      <td>1</td>\n",
       "      <td>30</td>\n",
       "      <td>0</td>\n",
       "      <td>0</td>\n",
       "      <td>60</td>\n",
       "      <td>0</td>\n",
       "      <td>0</td>\n",
       "    </tr>\n",
       "    <tr>\n",
       "      <th>000</th>\n",
       "      <td>21</td>\n",
       "      <td>6</td>\n",
       "      <td>2</td>\n",
       "      <td>0</td>\n",
       "      <td>4</td>\n",
       "      <td>9</td>\n",
       "      <td>0</td>\n",
       "      <td>0</td>\n",
       "    </tr>\n",
       "    <tr>\n",
       "      <th>0000</th>\n",
       "      <td>24</td>\n",
       "      <td>0</td>\n",
       "      <td>18</td>\n",
       "      <td>1</td>\n",
       "      <td>2</td>\n",
       "      <td>2</td>\n",
       "      <td>0</td>\n",
       "      <td>1</td>\n",
       "    </tr>\n",
       "    <tr>\n",
       "      <th>000000</th>\n",
       "      <td>2</td>\n",
       "      <td>1</td>\n",
       "      <td>0</td>\n",
       "      <td>0</td>\n",
       "      <td>0</td>\n",
       "      <td>1</td>\n",
       "      <td>0</td>\n",
       "      <td>0</td>\n",
       "    </tr>\n",
       "  </tbody>\n",
       "</table>\n",
       "</div>"
      ],
      "text/plain": [
       "        all  javascript  python  typescript  go  java  other  not_listed\n",
       "0       558         132     169           5  67   112      6          67\n",
       "00       91           1      30           0   0    60      0           0\n",
       "000      21           6       2           0   4     9      0           0\n",
       "0000     24           0      18           1   2     2      0           1\n",
       "000000    2           1       0           0   0     1      0           0"
      ]
     },
     "execution_count": 161,
     "metadata": {},
     "output_type": "execute_result"
    }
   ],
   "source": [
    "word_counts = (pd.concat([all_words_freq, javascript_words_freq, python_words_freq,typescript_words_freq,go_words_freq,other_series_freq, java_words_freq, not_listed_freq], axis=1, sort=True)\n",
    "                .set_axis(['all', 'javascript', 'python', 'typescript', 'go', 'java','other','not_listed'], axis=1, inplace=False)\n",
    "                .fillna(0)\n",
    "                .apply(lambda s: s.astype(int)))\n",
    "\n",
    "word_counts.head()"
   ]
  },
  {
   "cell_type": "code",
   "execution_count": 162,
   "id": "ab7282e3",
   "metadata": {},
   "outputs": [],
   "source": [
    "word_counts_limited = word_counts[(word_counts.index=='javascript') | (word_counts.index=='python') | (word_counts.index=='typescript') | (word_counts.index=='go') | (word_counts.index=='java')]\n",
    "\n",
    "\n",
    "\n",
    "\n"
   ]
  },
  {
   "cell_type": "code",
   "execution_count": 163,
   "id": "9079da2f",
   "metadata": {
    "scrolled": true
   },
   "outputs": [
    {
     "data": {
      "text/html": [
       "<div>\n",
       "<style scoped>\n",
       "    .dataframe tbody tr th:only-of-type {\n",
       "        vertical-align: middle;\n",
       "    }\n",
       "\n",
       "    .dataframe tbody tr th {\n",
       "        vertical-align: top;\n",
       "    }\n",
       "\n",
       "    .dataframe thead th {\n",
       "        text-align: right;\n",
       "    }\n",
       "</style>\n",
       "<table border=\"1\" class=\"dataframe\">\n",
       "  <thead>\n",
       "    <tr style=\"text-align: right;\">\n",
       "      <th></th>\n",
       "      <th>all</th>\n",
       "      <th>javascript</th>\n",
       "      <th>python</th>\n",
       "      <th>typescript</th>\n",
       "      <th>go</th>\n",
       "      <th>java</th>\n",
       "      <th>other</th>\n",
       "      <th>not_listed</th>\n",
       "    </tr>\n",
       "  </thead>\n",
       "  <tbody>\n",
       "    <tr>\n",
       "      <th>go</th>\n",
       "      <td>484</td>\n",
       "      <td>45</td>\n",
       "      <td>29</td>\n",
       "      <td>12</td>\n",
       "      <td>218</td>\n",
       "      <td>101</td>\n",
       "      <td>17</td>\n",
       "      <td>62</td>\n",
       "    </tr>\n",
       "    <tr>\n",
       "      <th>java</th>\n",
       "      <td>250</td>\n",
       "      <td>4</td>\n",
       "      <td>17</td>\n",
       "      <td>0</td>\n",
       "      <td>7</td>\n",
       "      <td>87</td>\n",
       "      <td>81</td>\n",
       "      <td>54</td>\n",
       "    </tr>\n",
       "    <tr>\n",
       "      <th>javascript</th>\n",
       "      <td>810</td>\n",
       "      <td>627</td>\n",
       "      <td>15</td>\n",
       "      <td>42</td>\n",
       "      <td>6</td>\n",
       "      <td>50</td>\n",
       "      <td>2</td>\n",
       "      <td>68</td>\n",
       "    </tr>\n",
       "    <tr>\n",
       "      <th>python</th>\n",
       "      <td>694</td>\n",
       "      <td>17</td>\n",
       "      <td>451</td>\n",
       "      <td>2</td>\n",
       "      <td>10</td>\n",
       "      <td>124</td>\n",
       "      <td>6</td>\n",
       "      <td>84</td>\n",
       "    </tr>\n",
       "    <tr>\n",
       "      <th>typescript</th>\n",
       "      <td>171</td>\n",
       "      <td>39</td>\n",
       "      <td>2</td>\n",
       "      <td>61</td>\n",
       "      <td>2</td>\n",
       "      <td>27</td>\n",
       "      <td>1</td>\n",
       "      <td>39</td>\n",
       "    </tr>\n",
       "  </tbody>\n",
       "</table>\n",
       "</div>"
      ],
      "text/plain": [
       "            all  javascript  python  typescript   go  java  other  not_listed\n",
       "go          484          45      29          12  218   101     17          62\n",
       "java        250           4      17           0    7    87     81          54\n",
       "javascript  810         627      15          42    6    50      2          68\n",
       "python      694          17     451           2   10   124      6          84\n",
       "typescript  171          39       2          61    2    27      1          39"
      ]
     },
     "execution_count": 163,
     "metadata": {},
     "output_type": "execute_result"
    }
   ],
   "source": [
    "word_counts_limited"
   ]
  },
  {
   "cell_type": "code",
   "execution_count": 164,
   "id": "35090226",
   "metadata": {},
   "outputs": [
    {
     "data": {
      "image/png": "[encoded data removed]",
      "text/plain": [
       "<Figure size 1440x720 with 1 Axes>"
      ]
     },
     "metadata": {
      "needs_background": "light"
     },
     "output_type": "display_data"
    }
   ],
   "source": [
    "fig = plt.figure(figsize=(20, 10))\n",
    "ax = plt.subplot(111)\n",
    "plt.rcParams.update({'font.size': 18})\n",
    "\n",
    "(word_counts_limited.sort_values('all', ascending=False)\n",
    " .head(20)\n",
    " .apply(lambda row: row/row['all'], axis = 1)\n",
    " .drop(columns = 'all')\n",
    " .plot.barh(stacked = True, width = 1, ec = 'k', legend=False, ax=ax)\n",
    ")\n",
    "ax.legend(loc='upper center', bbox_to_anchor=(0.5, 1.05),\n",
    "          ncol=7, fancybox=True, shadow=True)\n",
    "ax.set_xlim(0,1)\n",
    "plt.show()"
   ]
  },
  {
   "cell_type": "code",
   "execution_count": 158,
   "id": "c1744827",
   "metadata": {},
   "outputs": [
    {
     "ename": "KeyError",
     "evalue": "'index'",
     "output_type": "error",
     "traceback": [
      "\u001b[0;31m---------------------------------------------------------------------------\u001b[0m",
      "\u001b[0;31mKeyError\u001b[0m                                  Traceback (most recent call last)",
      "Input \u001b[0;32mIn [158]\u001b[0m, in \u001b[0;36m<cell line: 5>\u001b[0;34m()\u001b[0m\n\u001b[1;32m      2\u001b[0m ax \u001b[38;5;241m=\u001b[39m plt\u001b[38;5;241m.\u001b[39msubplot(\u001b[38;5;241m111\u001b[39m)\n\u001b[1;32m      3\u001b[0m plt\u001b[38;5;241m.\u001b[39mrcParams\u001b[38;5;241m.\u001b[39mupdate({\u001b[38;5;124m'\u001b[39m\u001b[38;5;124mfont.size\u001b[39m\u001b[38;5;124m'\u001b[39m: \u001b[38;5;241m18\u001b[39m})\n\u001b[0;32m----> 5\u001b[0m (\u001b[43mword_counts_limited\u001b[49m\u001b[38;5;241;43m.\u001b[39;49m\u001b[43msort_values\u001b[49m\u001b[43m(\u001b[49m\u001b[38;5;124;43m'\u001b[39;49m\u001b[38;5;124;43mall\u001b[39;49m\u001b[38;5;124;43m'\u001b[39;49m\u001b[43m,\u001b[49m\u001b[43m \u001b[49m\u001b[43mascending\u001b[49m\u001b[38;5;241;43m=\u001b[39;49m\u001b[38;5;28;43;01mFalse\u001b[39;49;00m\u001b[43m)\u001b[49m\n\u001b[1;32m      6\u001b[0m \u001b[43m \u001b[49m\u001b[38;5;241;43m.\u001b[39;49m\u001b[43mhead\u001b[49m\u001b[43m(\u001b[49m\u001b[38;5;241;43m20\u001b[39;49m\u001b[43m)\u001b[49m\n\u001b[1;32m      7\u001b[0m \u001b[43m \u001b[49m\u001b[38;5;241;43m.\u001b[39;49m\u001b[43mapply\u001b[49m\u001b[43m(\u001b[49m\u001b[38;5;28;43;01mlambda\u001b[39;49;00m\u001b[43m \u001b[49m\u001b[43mrow\u001b[49m\u001b[43m:\u001b[49m\u001b[43m \u001b[49m\u001b[43mrow\u001b[49m\u001b[38;5;241;43m/\u001b[39;49m\u001b[43mrow\u001b[49m\u001b[43m[\u001b[49m\u001b[38;5;124;43m'\u001b[39;49m\u001b[38;5;124;43mall\u001b[39;49m\u001b[38;5;124;43m'\u001b[39;49m\u001b[43m]\u001b[49m\u001b[43m,\u001b[49m\u001b[43m \u001b[49m\u001b[43maxis\u001b[49m\u001b[43m \u001b[49m\u001b[38;5;241;43m=\u001b[39;49m\u001b[43m \u001b[49m\u001b[38;5;241;43m1\u001b[39;49m\u001b[43m)\u001b[49m\n\u001b[1;32m      8\u001b[0m \u001b[43m \u001b[49m\u001b[38;5;241;43m.\u001b[39;49m\u001b[43mdrop\u001b[49m\u001b[43m(\u001b[49m\u001b[43mcolumns\u001b[49m\u001b[43m \u001b[49m\u001b[38;5;241;43m=\u001b[39;49m\u001b[43m \u001b[49m\u001b[38;5;124;43m'\u001b[39;49m\u001b[38;5;124;43mall\u001b[39;49m\u001b[38;5;124;43m'\u001b[39;49m\u001b[43m)\u001b[49m\n\u001b[1;32m      9\u001b[0m \u001b[43m \u001b[49m\u001b[38;5;241;43m.\u001b[39;49m\u001b[43msort_values\u001b[49m\u001b[43m(\u001b[49m\u001b[43mby\u001b[49m\u001b[38;5;241;43m=\u001b[39;49m\u001b[38;5;124;43m'\u001b[39;49m\u001b[38;5;124;43mindex\u001b[39;49m\u001b[38;5;124;43m'\u001b[39;49m\u001b[43m)\u001b[49m\n\u001b[1;32m     10\u001b[0m  \u001b[38;5;241m.\u001b[39mplot\u001b[38;5;241m.\u001b[39mbarh(stacked \u001b[38;5;241m=\u001b[39m \u001b[38;5;28;01mTrue\u001b[39;00m, width \u001b[38;5;241m=\u001b[39m \u001b[38;5;241m1\u001b[39m, ec \u001b[38;5;241m=\u001b[39m \u001b[38;5;124m'\u001b[39m\u001b[38;5;124mk\u001b[39m\u001b[38;5;124m'\u001b[39m, legend\u001b[38;5;241m=\u001b[39m\u001b[38;5;28;01mFalse\u001b[39;00m, ax\u001b[38;5;241m=\u001b[39max)\n\u001b[1;32m     11\u001b[0m )\n\u001b[1;32m     12\u001b[0m ax\u001b[38;5;241m.\u001b[39mlegend(loc\u001b[38;5;241m=\u001b[39m\u001b[38;5;124m'\u001b[39m\u001b[38;5;124mupper center\u001b[39m\u001b[38;5;124m'\u001b[39m, bbox_to_anchor\u001b[38;5;241m=\u001b[39m(\u001b[38;5;241m0.5\u001b[39m, \u001b[38;5;241m1.05\u001b[39m),\n\u001b[1;32m     13\u001b[0m           ncol\u001b[38;5;241m=\u001b[39m\u001b[38;5;241m7\u001b[39m, fancybox\u001b[38;5;241m=\u001b[39m\u001b[38;5;28;01mTrue\u001b[39;00m, shadow\u001b[38;5;241m=\u001b[39m\u001b[38;5;28;01mTrue\u001b[39;00m)\n\u001b[1;32m     14\u001b[0m ax\u001b[38;5;241m.\u001b[39mset_xlim(\u001b[38;5;241m0\u001b[39m,\u001b[38;5;241m1\u001b[39m)\n",
      "File \u001b[0;32m/usr/local/anaconda3/lib/python3.9/site-packages/pandas/util/_decorators.py:311\u001b[0m, in \u001b[0;36mdeprecate_nonkeyword_arguments.<locals>.decorate.<locals>.wrapper\u001b[0;34m(*args, **kwargs)\u001b[0m\n\u001b[1;32m    305\u001b[0m \u001b[38;5;28;01mif\u001b[39;00m \u001b[38;5;28mlen\u001b[39m(args) \u001b[38;5;241m>\u001b[39m num_allow_args:\n\u001b[1;32m    306\u001b[0m     warnings\u001b[38;5;241m.\u001b[39mwarn(\n\u001b[1;32m    307\u001b[0m         msg\u001b[38;5;241m.\u001b[39mformat(arguments\u001b[38;5;241m=\u001b[39marguments),\n\u001b[1;32m    308\u001b[0m         \u001b[38;5;167;01mFutureWarning\u001b[39;00m,\n\u001b[1;32m    309\u001b[0m         stacklevel\u001b[38;5;241m=\u001b[39mstacklevel,\n\u001b[1;32m    310\u001b[0m     )\n\u001b[0;32m--> 311\u001b[0m \u001b[38;5;28;01mreturn\u001b[39;00m \u001b[43mfunc\u001b[49m\u001b[43m(\u001b[49m\u001b[38;5;241;43m*\u001b[39;49m\u001b[43margs\u001b[49m\u001b[43m,\u001b[49m\u001b[43m \u001b[49m\u001b[38;5;241;43m*\u001b[39;49m\u001b[38;5;241;43m*\u001b[39;49m\u001b[43mkwargs\u001b[49m\u001b[43m)\u001b[49m\n",
      "File \u001b[0;32m/usr/local/anaconda3/lib/python3.9/site-packages/pandas/core/frame.py:6313\u001b[0m, in \u001b[0;36mDataFrame.sort_values\u001b[0;34m(self, by, axis, ascending, inplace, kind, na_position, ignore_index, key)\u001b[0m\n\u001b[1;32m   6309\u001b[0m \u001b[38;5;28;01melif\u001b[39;00m \u001b[38;5;28mlen\u001b[39m(by):\n\u001b[1;32m   6310\u001b[0m     \u001b[38;5;66;03m# len(by) == 1\u001b[39;00m\n\u001b[1;32m   6312\u001b[0m     by \u001b[38;5;241m=\u001b[39m by[\u001b[38;5;241m0\u001b[39m]\n\u001b[0;32m-> 6313\u001b[0m     k \u001b[38;5;241m=\u001b[39m \u001b[38;5;28;43mself\u001b[39;49m\u001b[38;5;241;43m.\u001b[39;49m\u001b[43m_get_label_or_level_values\u001b[49m\u001b[43m(\u001b[49m\u001b[43mby\u001b[49m\u001b[43m,\u001b[49m\u001b[43m \u001b[49m\u001b[43maxis\u001b[49m\u001b[38;5;241;43m=\u001b[39;49m\u001b[43maxis\u001b[49m\u001b[43m)\u001b[49m\n\u001b[1;32m   6315\u001b[0m     \u001b[38;5;66;03m# need to rewrap column in Series to apply key function\u001b[39;00m\n\u001b[1;32m   6316\u001b[0m     \u001b[38;5;28;01mif\u001b[39;00m key \u001b[38;5;129;01mis\u001b[39;00m \u001b[38;5;129;01mnot\u001b[39;00m \u001b[38;5;28;01mNone\u001b[39;00m:\n\u001b[1;32m   6317\u001b[0m         \u001b[38;5;66;03m# error: Incompatible types in assignment (expression has type\u001b[39;00m\n\u001b[1;32m   6318\u001b[0m         \u001b[38;5;66;03m# \"Series\", variable has type \"ndarray\")\u001b[39;00m\n",
      "File \u001b[0;32m/usr/local/anaconda3/lib/python3.9/site-packages/pandas/core/generic.py:1840\u001b[0m, in \u001b[0;36mNDFrame._get_label_or_level_values\u001b[0;34m(self, key, axis)\u001b[0m\n\u001b[1;32m   1838\u001b[0m     values \u001b[38;5;241m=\u001b[39m \u001b[38;5;28mself\u001b[39m\u001b[38;5;241m.\u001b[39maxes[axis]\u001b[38;5;241m.\u001b[39mget_level_values(key)\u001b[38;5;241m.\u001b[39m_values\n\u001b[1;32m   1839\u001b[0m \u001b[38;5;28;01melse\u001b[39;00m:\n\u001b[0;32m-> 1840\u001b[0m     \u001b[38;5;28;01mraise\u001b[39;00m \u001b[38;5;167;01mKeyError\u001b[39;00m(key)\n\u001b[1;32m   1842\u001b[0m \u001b[38;5;66;03m# Check for duplicates\u001b[39;00m\n\u001b[1;32m   1843\u001b[0m \u001b[38;5;28;01mif\u001b[39;00m values\u001b[38;5;241m.\u001b[39mndim \u001b[38;5;241m>\u001b[39m \u001b[38;5;241m1\u001b[39m:\n",
      "\u001b[0;31mKeyError\u001b[0m: 'index'"
     ]
    },
    {
     "data": {
      "image/png": "[encoded data removed]",
      "text/plain": [
       "<Figure size 1440x720 with 1 Axes>"
      ]
     },
     "metadata": {
      "needs_background": "light"
     },
     "output_type": "display_data"
    }
   ],
   "source": [
    "fig = plt.figure(figsize=(20, 10))\n",
    "ax = plt.subplot(111)\n",
    "plt.rcParams.update({'font.size': 18})\n",
    "\n",
    "(word_counts_limited.sort_values('all', ascending=False)\n",
    " .head(20)\n",
    " .apply(lambda row: row/row['all'], axis = 1)\n",
    " .drop(columns = 'all')\n",
    " .sort_values(by='index')\n",
    " .plot.barh(stacked = True, width = 1, ec = 'k', legend=False, ax=ax)\n",
    ")\n",
    "ax.legend(loc='upper center', bbox_to_anchor=(0.5, 1.05),\n",
    "          ncol=7, fancybox=True, shadow=True)\n",
    "ax.set_xlim(0,1)\n",
    "\n",
    "plt.show()"
   ]
  },
  {
   "cell_type": "code",
   "execution_count": null,
   "id": "bd41e825",
   "metadata": {},
   "outputs": [],
   "source": []
  }
 ],
 "metadata": {
  "kernelspec": {
   "display_name": "Python 3 (ipykernel)",
   "language": "python",
   "name": "python3"
  },
  "language_info": {
   "codemirror_mode": {
    "name": "ipython",
    "version": 3
   },
   "file_extension": ".py",
   "mimetype": "text/x-python",
   "name": "python",
   "nbconvert_exporter": "python",
   "pygments_lexer": "ipython3",
   "version": "3.9.12"
  }
 },
 "nbformat": 4,
 "nbformat_minor": 5
}
