{
 "cells": [
  {
   "cell_type": "code",
   "execution_count": 2,
   "metadata": {},
   "outputs": [],
   "source": [
    "import numpy as np\n",
    "import pandas as pd\n",
    "import seaborn as sns\n",
    "import matplotlib.pyplot as plt\n",
    "from importlib import reload\n",
    "import warnings\n",
    "import acquire as a\n",
    "import prepare as p\n",
    "import explore as e\n"
   ]
  },
  {
   "cell_type": "code",
   "execution_count": 3,
   "metadata": {},
   "outputs": [],
   "source": [
    "warnings.simplefilter(\"ignore\")\n",
    "%matplotlib inline\n",
    "%config InlineBackend.figure_format = 'retina'\n",
    "LANGUAGES = ['Javascript','Python','Go','Typescript','Java']"
   ]
  },
  {
   "cell_type": "code",
   "execution_count": 38,
   "metadata": {},
   "outputs": [],
   "source": [
    "reload(p)\n",
    "readmes = a.acquire_readmes()\n",
    "readmes.readme_contents = readmes.readme_contents.astype('str')\n",
    "readmes = p.prep_df_for_nlp(readmes,'readme_contents',extra_words=[\"'\",\"use\"],exclude_words=[])\n",
    "train, validate, test = p.split_data(readmes,'language')"
   ]
  },
  {
   "cell_type": "code",
   "execution_count": 43,
   "metadata": {},
   "outputs": [
    {
     "data": {
      "text/html": [
       "<div>\n",
       "<style scoped>\n",
       "    .dataframe tbody tr th:only-of-type {\n",
       "        vertical-align: middle;\n",
       "    }\n",
       "\n",
       "    .dataframe tbody tr th {\n",
       "        vertical-align: top;\n",
       "    }\n",
       "\n",
       "    .dataframe thead th {\n",
       "        text-align: right;\n",
       "    }\n",
       "</style>\n",
       "<table border=\"1\" class=\"dataframe\">\n",
       "  <thead>\n",
       "    <tr style=\"text-align: right;\">\n",
       "      <th></th>\n",
       "      <th>repo</th>\n",
       "      <th>language</th>\n",
       "      <th>readme_contents</th>\n",
       "      <th>clean</th>\n",
       "      <th>stem</th>\n",
       "      <th>lemmatized</th>\n",
       "      <th>username</th>\n",
       "      <th>lemmatized_len</th>\n",
       "    </tr>\n",
       "  </thead>\n",
       "  <tbody>\n",
       "    <tr>\n",
       "      <th>515</th>\n",
       "      <td>hhvm</td>\n",
       "      <td>Other</td>\n",
       "      <td># HHVM\\n\\n[HHVM page](https://hhvm.com) |\\n[HH...</td>\n",
       "      <td>hhvm hhvm pagehttpshhvmcom hhvm documentationh...</td>\n",
       "      <td>hhvm hhvm pagehttpshhvmcom hhvm documentationh...</td>\n",
       "      <td>hhvm hhvm pagehttpshhvmcom hhvm documentationh...</td>\n",
       "      <td>facebook</td>\n",
       "      <td>2069</td>\n",
       "    </tr>\n",
       "    <tr>\n",
       "      <th>831</th>\n",
       "      <td>watchman</td>\n",
       "      <td>Other</td>\n",
       "      <td>&lt;div align=\"center\"&gt;\\n &lt;img src=\"website/stati...</td>\n",
       "      <td>aligncenter srcwebsitestaticlogopng width20 he...</td>\n",
       "      <td>aligncent srcwebsitestaticlogopng width20 heig...</td>\n",
       "      <td>aligncenter srcwebsitestaticlogopng width20 he...</td>\n",
       "      <td>facebook</td>\n",
       "      <td>899</td>\n",
       "    </tr>\n",
       "    <tr>\n",
       "      <th>28</th>\n",
       "      <td>jest</td>\n",
       "      <td>TypeScript</td>\n",
       "      <td>&lt;p align=\"center\"&gt;\\n  &lt;a href=\"https://badge.f...</td>\n",
       "      <td>p aligncenter hrefhttpsbadgefuryiojsjest srcht...</td>\n",
       "      <td>p aligncent hrefhttpsbadgefuryiojsjest srchttp...</td>\n",
       "      <td>p aligncenter hrefhttpsbadgefuryiojsjest srcht...</td>\n",
       "      <td>facebook</td>\n",
       "      <td>8658</td>\n",
       "    </tr>\n",
       "  </tbody>\n",
       "</table>\n",
       "</div>"
      ],
      "text/plain": [
       "         repo    language                                    readme_contents  \\\n",
       "515      hhvm       Other  # HHVM\\n\\n[HHVM page](https://hhvm.com) |\\n[HH...   \n",
       "831  watchman       Other  <div align=\"center\">\\n <img src=\"website/stati...   \n",
       "28       jest  TypeScript  <p align=\"center\">\\n  <a href=\"https://badge.f...   \n",
       "\n",
       "                                                 clean  \\\n",
       "515  hhvm hhvm pagehttpshhvmcom hhvm documentationh...   \n",
       "831  aligncenter srcwebsitestaticlogopng width20 he...   \n",
       "28   p aligncenter hrefhttpsbadgefuryiojsjest srcht...   \n",
       "\n",
       "                                                  stem  \\\n",
       "515  hhvm hhvm pagehttpshhvmcom hhvm documentationh...   \n",
       "831  aligncent srcwebsitestaticlogopng width20 heig...   \n",
       "28   p aligncent hrefhttpsbadgefuryiojsjest srchttp...   \n",
       "\n",
       "                                            lemmatized  username  \\\n",
       "515  hhvm hhvm pagehttpshhvmcom hhvm documentationh...  facebook   \n",
       "831  aligncenter srcwebsitestaticlogopng width20 he...  facebook   \n",
       "28   p aligncenter hrefhttpsbadgefuryiojsjest srcht...  facebook   \n",
       "\n",
       "     lemmatized_len  \n",
       "515            2069  \n",
       "831             899  \n",
       "28             8658  "
      ]
     },
     "execution_count": 43,
     "metadata": {},
     "output_type": "execute_result"
    }
   ],
   "source": [
    "train[train.username == 'facebook']"
   ]
  },
  {
   "cell_type": "code",
   "execution_count": null,
   "metadata": {},
   "outputs": [],
   "source": []
  },
  {
   "cell_type": "code",
   "execution_count": null,
   "metadata": {},
   "outputs": [],
   "source": []
  }
 ],
 "metadata": {
  "kernelspec": {
   "display_name": "base",
   "language": "python",
   "name": "python3"
  },
  "language_info": {
   "codemirror_mode": {
    "name": "ipython",
    "version": 3
   },
   "file_extension": ".py",
   "mimetype": "text/x-python",
   "name": "python",
   "nbconvert_exporter": "python",
   "pygments_lexer": "ipython3",
   "version": "3.9.13"
  },
  "orig_nbformat": 4,
  "vscode": {
   "interpreter": {
    "hash": "3067ead486e059ec00ffe7555bdb889e6e264a24dc711bf108106cc7baee8d5d"
   }
  }
 },
 "nbformat": 4,
 "nbformat_minor": 2
}
