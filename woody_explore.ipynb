{
 "cells": [
  {
   "cell_type": "code",
   "execution_count": 2,
   "metadata": {},
   "outputs": [],
   "source": [
    "import numpy as np\n",
    "import pandas as pd\n",
    "import seaborn as sns\n",
    "import matplotlib.pyplot as plt\n",
    "from importlib import reload\n",
    "import warnings\n",
    "import acquire as a\n",
    "import prepare as p\n",
    "import explore as e\n"
   ]
  },
  {
   "cell_type": "code",
   "execution_count": 6,
   "metadata": {},
   "outputs": [],
   "source": [
    "warnings.simplefilter(\"ignore\")\n",
    "%matplotlib inline\n",
    "%config InlineBackend.figure_format = 'retina'\n",
    "LANGUAGES = ['Javascript','Python','Go','Typescript','Java']"
   ]
  },
  {
   "cell_type": "code",
   "execution_count": 4,
   "metadata": {},
   "outputs": [],
   "source": [
    "readmes = a.acquire_readmes()\n",
    "readmes.readme_contents = readmes.readme_contents.astype('str')\n",
    "readmes = p.prep_df_for_nlp(readmes,'readme_contents',extra_words=[\"'\",\"use\"],exclude_words=[])"
   ]
  },
  {
   "cell_type": "code",
   "execution_count": 5,
   "metadata": {},
   "outputs": [
    {
     "data": {
      "text/plain": [
       "language\n",
       "Assembly            [14, 12, 12, 10, 8, 8, 8, 8, 6, 6, 6, 6, 6, 6,...\n",
       "Astro               [4, 4, 3, 3, 3, 2, 2, 2, 2, 2, 2, 1, 1, 1, 1, ...\n",
       "Batchfile           [15, 12, 6, 6, 6, 6, 6, 6, 6, 4, 4, 4, 3, 3, 3...\n",
       "C                   [212, 105, 86, 85, 84, 82, 79, 73, 72, 71, 70,...\n",
       "C#                  [365, 238, 162, 141, 117, 107, 105, 104, 98, 8...\n",
       "C++                 [195, 184, 179, 153, 130, 129, 126, 119, 111, ...\n",
       "CMake               [50, 29, 18, 14, 12, 12, 11, 9, 9, 9, 9, 8, 8,...\n",
       "CSS                 [570, 424, 266, 204, 188, 170, 168, 128, 117, ...\n",
       "Clojure             [20, 11, 7, 7, 6, 6, 6, 6, 5, 5, 4, 4, 4, 4, 3...\n",
       "CoffeeScript        [49, 38, 29, 22, 18, 16, 15, 14, 14, 12, 12, 1...\n",
       "Dart                [66, 26, 25, 20, 20, 18, 16, 16, 14, 14, 12, 1...\n",
       "Elixir              [30, 19, 17, 12, 10, 10, 8, 8, 8, 8, 7, 7, 7, ...\n",
       "Emacs Lisp          [26, 21, 15, 10, 6, 6, 6, 6, 5, 5, 5, 5, 5, 5,...\n",
       "Go                  [1333, 493, 462, 352, 305, 288, 259, 259, 259,...\n",
       "HTML                [1171, 1145, 347, 312, 252, 223, 220, 219, 210...\n",
       "Haskell             [26, 24, 14, 12, 12, 12, 12, 12, 12, 10, 8, 8,...\n",
       "Java                [386, 236, 163, 162, 162, 162, 153, 143, 116, ...\n",
       "JavaScript          [1685, 1576, 1264, 1087, 1071, 1020, 997, 989,...\n",
       "Jinja               [17, 17, 15, 11, 10, 10, 10, 9, 7, 7, 7, 7, 6,...\n",
       "Jupyter Notebook    [564, 138, 126, 118, 90, 82, 75, 72, 69, 67, 6...\n",
       "Kotlin              [41, 41, 31, 21, 18, 17, 17, 15, 14, 14, 14, 1...\n",
       "Less                [9, 7, 6, 5, 4, 4, 4, 4, 4, 3, 3, 3, 3, 3, 3, ...\n",
       "Lua                 [46, 38, 32, 26, 22, 21, 20, 18, 17, 16, 15, 1...\n",
       "Markdown            [32, 25, 23, 19, 13, 13, 11, 10, 10, 10, 10, 9...\n",
       "Mustache            [78, 75, 74, 74, 70, 61, 57, 47, 44, 40, 40, 3...\n",
       "Objective-C         [264, 227, 206, 192, 181, 172, 169, 103, 100, ...\n",
       "PHP                 [517, 397, 226, 186, 185, 122, 96, 88, 81, 65,...\n",
       "PowerShell          [29, 23, 16, 14, 13, 12, 12, 12, 12, 11, 11, 1...\n",
       "Python              [1008, 966, 792, 711, 557, 522, 491, 400, 388,...\n",
       "Ruby                [71, 67, 51, 49, 47, 39, 36, 33, 32, 31, 31, 3...\n",
       "Rust                [322, 268, 226, 194, 152, 138, 124, 122, 122, ...\n",
       "SCSS                [13, 10, 7, 6, 6, 6, 5, 5, 5, 5, 4, 4, 4, 4, 4...\n",
       "Shell               [143, 140, 112, 98, 84, 84, 83, 79, 79, 73, 71...\n",
       "Svelte              [144, 48, 33, 18, 18, 18, 18, 18, 18, 12, 12, ...\n",
       "Swift               [202, 168, 166, 133, 104, 101, 92, 88, 88, 79,...\n",
       "TeX                 [24, 12, 12, 12, 12, 10, 10, 10, 10, 10, 10, 1...\n",
       "TypeScript          [656, 486, 404, 380, 378, 328, 256, 254, 253, ...\n",
       "Vim Script          [57, 57, 31, 29, 26, 25, 24, 23, 23, 23, 20, 1...\n",
       "Vim script          [352, 211, 188, 139, 100, 98, 84, 84, 80, 79, ...\n",
       "VimL                [44, 35, 26, 22, 20, 15, 14, 14, 13, 13, 12, 1...\n",
       "Vue                 [39, 38, 34, 33, 30, 29, 27, 22, 20, 18, 18, 1...\n",
       "WebAssembly         [10, 5, 4, 3, 3, 3, 2, 2, 2, 2, 2, 2, 2, 2, 2,...\n",
       "Name: lemmatized, dtype: object"
      ]
     },
     "execution_count": 5,
     "metadata": {},
     "output_type": "execute_result"
    }
   ],
   "source": [
    "readmes.groupby('language').lemmatized.agg(e.get_ngram_frequency)"
   ]
  }
 ],
 "metadata": {
  "kernelspec": {
   "display_name": "base",
   "language": "python",
   "name": "python3"
  },
  "language_info": {
   "codemirror_mode": {
    "name": "ipython",
    "version": 3
   },
   "file_extension": ".py",
   "mimetype": "text/x-python",
   "name": "python",
   "nbconvert_exporter": "python",
   "pygments_lexer": "ipython3",
   "version": "3.9.13"
  },
  "orig_nbformat": 4,
  "vscode": {
   "interpreter": {
    "hash": "3067ead486e059ec00ffe7555bdb889e6e264a24dc711bf108106cc7baee8d5d"
   }
  }
 },
 "nbformat": 4,
 "nbformat_minor": 2
}
